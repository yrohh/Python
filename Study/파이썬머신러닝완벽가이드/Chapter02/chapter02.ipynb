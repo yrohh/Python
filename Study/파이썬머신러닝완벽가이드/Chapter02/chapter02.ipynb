{
 "cells": [
  {
   "cell_type": "markdown",
   "id": "19186c47",
   "metadata": {},
   "source": [
    "# 사이킷런으로 시작하는 머신러닝"
   ]
  },
  {
   "cell_type": "markdown",
   "id": "2b573646",
   "metadata": {},
   "source": [
    "> ### 1) 붓꽃 품종 예측하기"
   ]
  },
  {
   "cell_type": "markdown",
   "id": "1ef25007",
   "metadata": {},
   "source": [
    "사이킷런 : 파이썬 머신러닝 라이브러리 중 가장 많이 사용되는 라이브러리.\n",
    "\n",
    "- sklearn.datsets : 사이킷런에서 자체적으로 제공하는 데이터 세트 생성 모듈 모임.\n",
    "- sklearn.tree : 트리 기반 ML 알고리즘을 구현한 클래스 모임.\n",
    "- sklearn.model_selection : 학습 데이터와 검증 데이터, 예측 데이터로 데이터를 분리하거나 최적의 하이퍼 파라미터로 평가하기 위한 다양한 모듈 모임."
   ]
  },
  {
   "cell_type": "code",
   "execution_count": 2,
   "id": "b7c1f2b5",
   "metadata": {},
   "outputs": [],
   "source": [
    "from sklearn.datasets import load_iris # 데이터 세트 생성 위함.\n",
    "from sklearn.tree import DecisionTreeClassifier # 의사결정트리 알고리즘 사용 위함.\n",
    "from sklearn.model_selection import train_test_split # 데이터 세트를 학습 데이터와 테스트 데이터로 분리하기 위함."
   ]
  },
  {
   "cell_type": "code",
   "execution_count": 14,
   "id": "b54583dc",
   "metadata": {},
   "outputs": [
    {
     "data": {
      "text/html": [
       "<div>\n",
       "<style scoped>\n",
       "    .dataframe tbody tr th:only-of-type {\n",
       "        vertical-align: middle;\n",
       "    }\n",
       "\n",
       "    .dataframe tbody tr th {\n",
       "        vertical-align: top;\n",
       "    }\n",
       "\n",
       "    .dataframe thead th {\n",
       "        text-align: right;\n",
       "    }\n",
       "</style>\n",
       "<table border=\"1\" class=\"dataframe\">\n",
       "  <thead>\n",
       "    <tr style=\"text-align: right;\">\n",
       "      <th></th>\n",
       "      <th>sepal length (cm)</th>\n",
       "      <th>sepal width (cm)</th>\n",
       "      <th>petal length (cm)</th>\n",
       "      <th>petal width (cm)</th>\n",
       "      <th>label</th>\n",
       "    </tr>\n",
       "  </thead>\n",
       "  <tbody>\n",
       "    <tr>\n",
       "      <th>0</th>\n",
       "      <td>5.1</td>\n",
       "      <td>3.5</td>\n",
       "      <td>1.4</td>\n",
       "      <td>0.2</td>\n",
       "      <td>0</td>\n",
       "    </tr>\n",
       "    <tr>\n",
       "      <th>1</th>\n",
       "      <td>4.9</td>\n",
       "      <td>3.0</td>\n",
       "      <td>1.4</td>\n",
       "      <td>0.2</td>\n",
       "      <td>0</td>\n",
       "    </tr>\n",
       "    <tr>\n",
       "      <th>2</th>\n",
       "      <td>4.7</td>\n",
       "      <td>3.2</td>\n",
       "      <td>1.3</td>\n",
       "      <td>0.2</td>\n",
       "      <td>0</td>\n",
       "    </tr>\n",
       "    <tr>\n",
       "      <th>3</th>\n",
       "      <td>4.6</td>\n",
       "      <td>3.1</td>\n",
       "      <td>1.5</td>\n",
       "      <td>0.2</td>\n",
       "      <td>0</td>\n",
       "    </tr>\n",
       "    <tr>\n",
       "      <th>4</th>\n",
       "      <td>5.0</td>\n",
       "      <td>3.6</td>\n",
       "      <td>1.4</td>\n",
       "      <td>0.2</td>\n",
       "      <td>0</td>\n",
       "    </tr>\n",
       "    <tr>\n",
       "      <th>...</th>\n",
       "      <td>...</td>\n",
       "      <td>...</td>\n",
       "      <td>...</td>\n",
       "      <td>...</td>\n",
       "      <td>...</td>\n",
       "    </tr>\n",
       "    <tr>\n",
       "      <th>145</th>\n",
       "      <td>6.7</td>\n",
       "      <td>3.0</td>\n",
       "      <td>5.2</td>\n",
       "      <td>2.3</td>\n",
       "      <td>2</td>\n",
       "    </tr>\n",
       "    <tr>\n",
       "      <th>146</th>\n",
       "      <td>6.3</td>\n",
       "      <td>2.5</td>\n",
       "      <td>5.0</td>\n",
       "      <td>1.9</td>\n",
       "      <td>2</td>\n",
       "    </tr>\n",
       "    <tr>\n",
       "      <th>147</th>\n",
       "      <td>6.5</td>\n",
       "      <td>3.0</td>\n",
       "      <td>5.2</td>\n",
       "      <td>2.0</td>\n",
       "      <td>2</td>\n",
       "    </tr>\n",
       "    <tr>\n",
       "      <th>148</th>\n",
       "      <td>6.2</td>\n",
       "      <td>3.4</td>\n",
       "      <td>5.4</td>\n",
       "      <td>2.3</td>\n",
       "      <td>2</td>\n",
       "    </tr>\n",
       "    <tr>\n",
       "      <th>149</th>\n",
       "      <td>5.9</td>\n",
       "      <td>3.0</td>\n",
       "      <td>5.1</td>\n",
       "      <td>1.8</td>\n",
       "      <td>2</td>\n",
       "    </tr>\n",
       "  </tbody>\n",
       "</table>\n",
       "<p>150 rows × 5 columns</p>\n",
       "</div>"
      ],
      "text/plain": [
       "     sepal length (cm)  sepal width (cm)  petal length (cm)  petal width (cm)  \\\n",
       "0                  5.1               3.5                1.4               0.2   \n",
       "1                  4.9               3.0                1.4               0.2   \n",
       "2                  4.7               3.2                1.3               0.2   \n",
       "3                  4.6               3.1                1.5               0.2   \n",
       "4                  5.0               3.6                1.4               0.2   \n",
       "..                 ...               ...                ...               ...   \n",
       "145                6.7               3.0                5.2               2.3   \n",
       "146                6.3               2.5                5.0               1.9   \n",
       "147                6.5               3.0                5.2               2.0   \n",
       "148                6.2               3.4                5.4               2.3   \n",
       "149                5.9               3.0                5.1               1.8   \n",
       "\n",
       "     label  \n",
       "0        0  \n",
       "1        0  \n",
       "2        0  \n",
       "3        0  \n",
       "4        0  \n",
       "..     ...  \n",
       "145      2  \n",
       "146      2  \n",
       "147      2  \n",
       "148      2  \n",
       "149      2  \n",
       "\n",
       "[150 rows x 5 columns]"
      ]
     },
     "execution_count": 14,
     "metadata": {},
     "output_type": "execute_result"
    }
   ],
   "source": [
    "import pandas as pd\n",
    "\n",
    "# 붓꽃 데이터 세트 로드.\n",
    "iris = load_iris()\n",
    "\n",
    "# iris _ 데이터 세트에서 피처만으로 된 데이터를 numpy로 가지고 있음.\n",
    "iris_data = iris.data\n",
    "\n",
    "iris_label = iris.target\n",
    "iris_label\n",
    "\n",
    "# 자세히 보기 위해 자료형을 DataFrame으로 변환.\n",
    "iris_df = pd.DataFrame(data=iris_data, columns=iris.feature_names)\n",
    "iris_df\n",
    "iris_df['label'] = iris.target # 각 행을 구분하는 label 열 추가.\n",
    "iris_df"
   ]
  },
  {
   "cell_type": "markdown",
   "id": "f3a43496",
   "metadata": {},
   "source": [
    "* label : 0은 Setosa, 1은 Versicolor, 2는 Virginica로 구분.\n",
    "* sepal은 꽃받침, petal은 꽃잎을 의미."
   ]
  },
  {
   "cell_type": "code",
   "execution_count": 16,
   "id": "76bf98aa",
   "metadata": {},
   "outputs": [
    {
     "data": {
      "text/html": [
       "<div>\n",
       "<style scoped>\n",
       "    .dataframe tbody tr th:only-of-type {\n",
       "        vertical-align: middle;\n",
       "    }\n",
       "\n",
       "    .dataframe tbody tr th {\n",
       "        vertical-align: top;\n",
       "    }\n",
       "\n",
       "    .dataframe thead tr th {\n",
       "        text-align: left;\n",
       "    }\n",
       "\n",
       "    .dataframe thead tr:last-of-type th {\n",
       "        text-align: right;\n",
       "    }\n",
       "</style>\n",
       "<table border=\"1\" class=\"dataframe\">\n",
       "  <thead>\n",
       "    <tr>\n",
       "      <th></th>\n",
       "      <th colspan=\"8\" halign=\"left\">sepal length (cm)</th>\n",
       "      <th colspan=\"2\" halign=\"left\">sepal width (cm)</th>\n",
       "      <th>...</th>\n",
       "      <th colspan=\"2\" halign=\"left\">petal length (cm)</th>\n",
       "      <th colspan=\"8\" halign=\"left\">petal width (cm)</th>\n",
       "    </tr>\n",
       "    <tr>\n",
       "      <th></th>\n",
       "      <th>count</th>\n",
       "      <th>mean</th>\n",
       "      <th>std</th>\n",
       "      <th>min</th>\n",
       "      <th>25%</th>\n",
       "      <th>50%</th>\n",
       "      <th>75%</th>\n",
       "      <th>max</th>\n",
       "      <th>count</th>\n",
       "      <th>mean</th>\n",
       "      <th>...</th>\n",
       "      <th>75%</th>\n",
       "      <th>max</th>\n",
       "      <th>count</th>\n",
       "      <th>mean</th>\n",
       "      <th>std</th>\n",
       "      <th>min</th>\n",
       "      <th>25%</th>\n",
       "      <th>50%</th>\n",
       "      <th>75%</th>\n",
       "      <th>max</th>\n",
       "    </tr>\n",
       "    <tr>\n",
       "      <th>label</th>\n",
       "      <th></th>\n",
       "      <th></th>\n",
       "      <th></th>\n",
       "      <th></th>\n",
       "      <th></th>\n",
       "      <th></th>\n",
       "      <th></th>\n",
       "      <th></th>\n",
       "      <th></th>\n",
       "      <th></th>\n",
       "      <th></th>\n",
       "      <th></th>\n",
       "      <th></th>\n",
       "      <th></th>\n",
       "      <th></th>\n",
       "      <th></th>\n",
       "      <th></th>\n",
       "      <th></th>\n",
       "      <th></th>\n",
       "      <th></th>\n",
       "      <th></th>\n",
       "    </tr>\n",
       "  </thead>\n",
       "  <tbody>\n",
       "    <tr>\n",
       "      <th>0</th>\n",
       "      <td>50.0</td>\n",
       "      <td>5.006</td>\n",
       "      <td>0.352490</td>\n",
       "      <td>4.3</td>\n",
       "      <td>4.800</td>\n",
       "      <td>5.0</td>\n",
       "      <td>5.2</td>\n",
       "      <td>5.8</td>\n",
       "      <td>50.0</td>\n",
       "      <td>3.428</td>\n",
       "      <td>...</td>\n",
       "      <td>1.575</td>\n",
       "      <td>1.9</td>\n",
       "      <td>50.0</td>\n",
       "      <td>0.246</td>\n",
       "      <td>0.105386</td>\n",
       "      <td>0.1</td>\n",
       "      <td>0.2</td>\n",
       "      <td>0.2</td>\n",
       "      <td>0.3</td>\n",
       "      <td>0.6</td>\n",
       "    </tr>\n",
       "    <tr>\n",
       "      <th>1</th>\n",
       "      <td>50.0</td>\n",
       "      <td>5.936</td>\n",
       "      <td>0.516171</td>\n",
       "      <td>4.9</td>\n",
       "      <td>5.600</td>\n",
       "      <td>5.9</td>\n",
       "      <td>6.3</td>\n",
       "      <td>7.0</td>\n",
       "      <td>50.0</td>\n",
       "      <td>2.770</td>\n",
       "      <td>...</td>\n",
       "      <td>4.600</td>\n",
       "      <td>5.1</td>\n",
       "      <td>50.0</td>\n",
       "      <td>1.326</td>\n",
       "      <td>0.197753</td>\n",
       "      <td>1.0</td>\n",
       "      <td>1.2</td>\n",
       "      <td>1.3</td>\n",
       "      <td>1.5</td>\n",
       "      <td>1.8</td>\n",
       "    </tr>\n",
       "    <tr>\n",
       "      <th>2</th>\n",
       "      <td>50.0</td>\n",
       "      <td>6.588</td>\n",
       "      <td>0.635880</td>\n",
       "      <td>4.9</td>\n",
       "      <td>6.225</td>\n",
       "      <td>6.5</td>\n",
       "      <td>6.9</td>\n",
       "      <td>7.9</td>\n",
       "      <td>50.0</td>\n",
       "      <td>2.974</td>\n",
       "      <td>...</td>\n",
       "      <td>5.875</td>\n",
       "      <td>6.9</td>\n",
       "      <td>50.0</td>\n",
       "      <td>2.026</td>\n",
       "      <td>0.274650</td>\n",
       "      <td>1.4</td>\n",
       "      <td>1.8</td>\n",
       "      <td>2.0</td>\n",
       "      <td>2.3</td>\n",
       "      <td>2.5</td>\n",
       "    </tr>\n",
       "  </tbody>\n",
       "</table>\n",
       "<p>3 rows × 32 columns</p>\n",
       "</div>"
      ],
      "text/plain": [
       "      sepal length (cm)                                              \\\n",
       "                  count   mean       std  min    25%  50%  75%  max   \n",
       "label                                                                 \n",
       "0                  50.0  5.006  0.352490  4.3  4.800  5.0  5.2  5.8   \n",
       "1                  50.0  5.936  0.516171  4.9  5.600  5.9  6.3  7.0   \n",
       "2                  50.0  6.588  0.635880  4.9  6.225  6.5  6.9  7.9   \n",
       "\n",
       "      sepal width (cm)         ... petal length (cm)      petal width (cm)  \\\n",
       "                 count   mean  ...               75%  max            count   \n",
       "label                          ...                                           \n",
       "0                 50.0  3.428  ...             1.575  1.9             50.0   \n",
       "1                 50.0  2.770  ...             4.600  5.1             50.0   \n",
       "2                 50.0  2.974  ...             5.875  6.9             50.0   \n",
       "\n",
       "                                                 \n",
       "        mean       std  min  25%  50%  75%  max  \n",
       "label                                            \n",
       "0      0.246  0.105386  0.1  0.2  0.2  0.3  0.6  \n",
       "1      1.326  0.197753  1.0  1.2  1.3  1.5  1.8  \n",
       "2      2.026  0.274650  1.4  1.8  2.0  2.3  2.5  \n",
       "\n",
       "[3 rows x 32 columns]"
      ]
     },
     "execution_count": 16,
     "metadata": {},
     "output_type": "execute_result"
    }
   ],
   "source": [
    "iris_df.groupby('label').describe()"
   ]
  },
  {
   "cell_type": "markdown",
   "id": "16b5e98f",
   "metadata": {},
   "source": [
    "* 품종마다 50개의 행이 존재하며, 수치상으로도 꽃받침과 꽃잎 넓이, 길이에서 분포의 차를 보임."
   ]
  },
  {
   "cell_type": "code",
   "execution_count": 17,
   "id": "15a9e5c3",
   "metadata": {},
   "outputs": [],
   "source": [
    "# 사이킷런의 train_test_split()를 이용하여 데이터를 학습 데이터와 테스트 데이터로 분리.\n",
    "# test_size는 학습용 데이터와 테스트 데이터를 나누는 비율로, 0.2의 의미는 테스트 데이터를 20%로 설정하겠다는 의미.\n",
    "# random_state는 seed와 같은 의미로, 일정한 random값을 얻기 위함.\n",
    "X_train, X_test, y_train, y_test = train_test_split(iris_data, iris_label, test_size=0.2, random_state=11)"
   ]
  },
  {
   "cell_type": "code",
   "execution_count": 20,
   "id": "58eee6bf",
   "metadata": {},
   "outputs": [
    {
     "data": {
      "text/plain": [
       "numpy.ndarray"
      ]
     },
     "execution_count": 20,
     "metadata": {},
     "output_type": "execute_result"
    }
   ],
   "source": [
    "type(X_train) # 반환된 데이터의 형태는 numpy."
   ]
  },
  {
   "cell_type": "code",
   "execution_count": 21,
   "id": "c70bdc11",
   "metadata": {},
   "outputs": [],
   "source": [
    "# DecisionTreeClassifier 객체 생성.\n",
    "# random_state를 설정해주는 이유는 코드를 수행할 때마다 동일한 결과를 얻기 위함.\n",
    "df_clf = DecisionTreeClassifier(random_state=11)"
   ]
  },
  {
   "cell_type": "code",
   "execution_count": 22,
   "id": "db55a94a",
   "metadata": {
    "scrolled": true
   },
   "outputs": [
    {
     "data": {
      "text/plain": [
       "DecisionTreeClassifier(random_state=11)"
      ]
     },
     "execution_count": 22,
     "metadata": {},
     "output_type": "execute_result"
    }
   ],
   "source": [
    "# 생성한 의사결정트리 객체를 이용하여 학습 수행.\n",
    "# 이때, 의사결정트리 객체의 fit() 메소드를 이용하여 학습을 수행할 수 있음.\n",
    "df_clf.fit(X_train, y_train)"
   ]
  },
  {
   "cell_type": "markdown",
   "id": "8fcf382e",
   "metadata": {},
   "source": [
    "* 의사결정트리 객체로 학습 데이터 학습.\n",
    "* X_train은 학습 데이터에서 라벨은 제외한 값을, y_train은 학습 데이터에서 라벨값만을 의미."
   ]
  },
  {
   "cell_type": "code",
   "execution_count": 24,
   "id": "85c2a85a",
   "metadata": {},
   "outputs": [],
   "source": [
    "# 학습이 완료된 DecisionTreeClassifier 객체에서 테스트 데이터 세트로 예측 수행.\n",
    "# 이때, 의사결정트리 객체의 predict() 메소드로 테스트 데이터에 대한 예측값을 반환할 수 있음.\n",
    "pred = df_clf.predict(X_test)"
   ]
  },
  {
   "cell_type": "markdown",
   "id": "3d6701c5",
   "metadata": {},
   "source": [
    "* 학습 데이터를 기반으로 만들어진 모델로 테스트 데이터를 이용해 예측값을 반환.\n",
    "* 이 값에 대한 정확도는 기존의 y_test 값과 비교하여 확인할 수 있음."
   ]
  },
  {
   "cell_type": "code",
   "execution_count": 26,
   "id": "47127ab5",
   "metadata": {},
   "outputs": [
    {
     "data": {
      "text/plain": [
       "0.9333333333333333"
      ]
     },
     "execution_count": 26,
     "metadata": {},
     "output_type": "execute_result"
    }
   ],
   "source": [
    "# 사이킷런의 정확도 측정을 위한 accuracty_score() 함수를 이용하여 정확도 측정.\n",
    "# 실제값을 앞에, 예측값을 뒤에 기입.\n",
    "from sklearn.metrics import accuracy_score\n",
    "accuracy_score(y_test, pred)"
   ]
  },
  {
   "cell_type": "markdown",
   "id": "b55f0d71",
   "metadata": {},
   "source": [
    "* 학습 데이터를 기반으로 만든 의사결정트리 모델의 정확도는 약 93%로 확인됨."
   ]
  },
  {
   "cell_type": "markdown",
   "id": "89138b64",
   "metadata": {},
   "source": [
    "#### 프로세스 정리\n",
    "- 데이터 세트 분리\n",
    "- 모델 학습\n",
    "- 예측 수행\n",
    "- 평가"
   ]
  }
 ],
 "metadata": {
  "kernelspec": {
   "display_name": "Python 3",
   "language": "python",
   "name": "python3"
  },
  "language_info": {
   "codemirror_mode": {
    "name": "ipython",
    "version": 3
   },
   "file_extension": ".py",
   "mimetype": "text/x-python",
   "name": "python",
   "nbconvert_exporter": "python",
   "pygments_lexer": "ipython3",
   "version": "3.8.8"
  }
 },
 "nbformat": 4,
 "nbformat_minor": 5
}
