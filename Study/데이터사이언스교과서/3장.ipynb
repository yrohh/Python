{
 "cells": [
  {
   "cell_type": "markdown",
   "metadata": {},
   "source": [
    "# 정규분포"
   ]
  },
  {
   "cell_type": "markdown",
   "metadata": {},
   "source": [
    "$$   \n",
    "f(x) = \\frac{1}{\\sqrt{2 \\pi \\sigma^2}}  \\exp\\left\\{ - \\frac{ (x-\\mu)^2 }{ 2 \\sigma^2} \\right\\}\n",
    "$$\n",
    "scipy.stats.norm https://docs.scipy.org/doc/scipy/reference/generated/scipy.stats.norm.html"
   ]
  },
  {
   "cell_type": "code",
   "execution_count": 12,
   "metadata": {},
   "outputs": [],
   "source": [
    "# -*- coding: utf-8 -*-\n",
    "import numpy as np\n",
    "import scipy.stats\n",
    "from scipy.stats import norm  # normal distribution, 정규분포\n",
    "\n",
    "import matplotlib.pyplot as plt\n",
    "%matplotlib inline\n",
    "\n",
    "FLAG_fig = False"
   ]
  },
  {
   "cell_type": "markdown",
   "metadata": {},
   "source": [
    "### 정규분포 그래프 pdf（probability density function）"
   ]
  },
  {
   "cell_type": "code",
   "execution_count": 2,
   "metadata": {},
   "outputs": [
    {
     "data": {
      "text/plain": [
       "[<matplotlib.lines.Line2D at 0xa8b62cb1c8>]"
      ]
     },
     "execution_count": 2,
     "metadata": {},
     "output_type": "execute_result"
    },
    {
     "data": {
      "image/png": "[encoded data removed]",
      "text/plain": [
       "<Figure size 576x216 with 1 Axes>"
      ]
     },
     "metadata": {
      "needs_background": "light"
     },
     "output_type": "display_data"
    }
   ],
   "source": [
    "m = 5   # mean\n",
    "std = 2 # standard deviation\n",
    "x = np.arange( -5, 15, 0.01)\n",
    "y = norm.pdf(x, loc=m, scale=std)\n",
    "#y = (1 / np.sqrt(2 * np.pi * std*std ) ) * np.exp(-(x-m) ** 2 / (2 * std*std) ) #정규분포의 식\n",
    "\n",
    "fig = plt.subplots(figsize=(8,3))\n",
    "plt.plot(x,y)\n",
    "plt.xlabel('x')\n",
    "plt.ylabel('probabiity density')\n",
    "plt.plot(x,y)"
   ]
  },
  {
   "cell_type": "markdown",
   "metadata": {},
   "source": [
    "#### 백분위 점과 확률의 계산\n",
    "백분위점pp:percent point)$z_{\\alpha}$ 을 구하기 위해서는，$1-\\alpha$를 ppf ( percent point function )에 제공한다.<br>\n",
    "확률을 구하기 위해서는，백분위점$z_{\\alpha}$를 cdf (cumulative density function)에 제공한다.<br>\n",
    "또한, 표준정규분포(평균값 $m = 0$,  표준편차 $\\sigma=1$ ）를 대상으로 한다<br>"
   ]
  },
  {
   "cell_type": "markdown",
   "metadata": {},
   "source": [
    "#### 단측의 경우\n",
    "표준정규분포$N(0,1)$의 그래프에서，$z_{\\alpha} \\le x < \\infty$ 의 확률 $\\alpha$（면적）을 사용자가 제공한다. 이 때,  \n",
    "$- \\infty < x \\le z_{\\alpha} $의 확률(면적)은 $1-\\alpha$가 된다.\n",
    "이 값이 scipy.stats.norm.ppf 에 주어지면，$z_{\\alpha}$가 구해진다."
   ]
  },
  {
   "cell_type": "code",
   "execution_count": 3,
   "metadata": {
    "scrolled": true
   },
   "outputs": [
    {
     "name": "stdout",
     "output_type": "stream",
     "text": [
      "percent point＝ 1.6448536269514722\n"
     ]
    }
   ],
   "source": [
    "m = 0\n",
    "std = 1\n",
    "alpha = 0.05\n",
    "prob = 1 - alpha\n",
    "z_alp = norm.ppf(prob, loc=m, scale=std)\n",
    "print('percent point＝', z_alp) #"
   ]
  },
  {
   "cell_type": "markdown",
   "metadata": {},
   "source": [
    "isf (Inverse survival function，생존함수의 역함수）를 이용하면，1-alpha의 계산이 불필요하고，위와 동일한 백분위점을 얻는다."
   ]
  },
  {
   "cell_type": "code",
   "execution_count": 4,
   "metadata": {
    "scrolled": true
   },
   "outputs": [
    {
     "name": "stdout",
     "output_type": "stream",
     "text": [
      "isf를 이용한 percent point 1.6448536269514729\n"
     ]
    }
   ],
   "source": [
    "z_alp2 = norm.isf(alpha, loc=m, scale=std)\n",
    "print('isf를 이용한 percent point', z_alp2)"
   ]
  },
  {
   "cell_type": "code",
   "execution_count": 5,
   "metadata": {
    "scrolled": true
   },
   "outputs": [
    {
     "name": "stdout",
     "output_type": "stream",
     "text": [
      "확률＝ 0.9750021048517795\n"
     ]
    }
   ],
   "source": [
    "m = 0\n",
    "std = 1.0\n",
    "z_alp = 1.96\n",
    "prob = norm.cdf(z_alp, loc=m, scale=std)\n",
    "print('확률＝',prob)"
   ]
  },
  {
   "cell_type": "markdown",
   "metadata": {},
   "source": [
    "#### 양측의 경우\n",
    "구간 [a b]의 확률을 구한다.\n",
    "1. $- \\infty < x \\le z_{b} $의 확률 $P_a$를 구한다  \n",
    "2. $- \\infty < x \\le z_{a} $의 확률 $P_b$를 구한다\n",
    "3. $P_a - P_b$를 계산"
   ]
  },
  {
   "cell_type": "code",
   "execution_count": 6,
   "metadata": {},
   "outputs": [
    {
     "name": "stdout",
     "output_type": "stream",
     "text": [
      "p= 0.9010570639327038\n"
     ]
    }
   ],
   "source": [
    "za = 1.65\n",
    "zb = -1.65\n",
    "pa = norm.cdf(za, loc=0, scale=1) # loc is mean\n",
    "pb = norm.cdf(zb, loc=0, scale=1) # scale is standard deviation\n",
    "p = pa - pb\n",
    "print('p=',p)"
   ]
  },
  {
   "cell_type": "markdown",
   "metadata": {},
   "source": [
    "#### 검정에서는， $\\alpha$가 처음에 주어진다.\n",
    "이것에 기초하여, 단측（z_alp），양측（za, zb）를 구하는 경우가 많다.  \n",
    "단측의 경우는 이미 기술했다.  \n",
    "양측의 경우, 정규분포가 대칭으로, 또한（za, zb）가 원점을 중심으로 좌우대칭이라는 전제가 있고, 이 경우 interval을 이용할 수 있다.<br>\n",
    "아래의 예에서는，양측에 z_alp/2=0.025 가 있고, 이 두 점을 더해 0.05가 되는 것에 유의한다."
   ]
  },
  {
   "cell_type": "code",
   "execution_count": 7,
   "metadata": {},
   "outputs": [
    {
     "name": "stdout",
     "output_type": "stream",
     "text": [
      "za= -1.959963984540054   zb= 1.959963984540054\n"
     ]
    }
   ],
   "source": [
    "za,zb = norm.interval(alpha=0.95, loc=0, scale=1)\n",
    "print('za=',za,'  zb=',zb)"
   ]
  },
  {
   "cell_type": "markdown",
   "metadata": {},
   "source": [
    "#### 정규확률변수의그래프\n",
    "수치적으로 생성한 정규확률변수（정규분포를 따르는 랜덤변수）의 히스토그램을 그린다"
   ]
  },
  {
   "cell_type": "markdown",
   "metadata": {},
   "source": [
    "가로축이 $x$,  세로축이 빈도（데이터수 N이 많을수록，세로축의 스케일이 커진다）<br>\n",
    "・평균값을 중심으로 하는 분포가 된다<br>\n",
    "・데이터가 수100 정도에서는，정규분포의 형이라고 말하지 않고，데이터수가 매우 커도，결국 이상형에 접근한다<br>\n",
    "・표본평균값，표본표준오차도 데이터수가 매우 크지 않으면，실체값에 가까워지지 않는다<br>\n",
    "・표준편차의 계산 x.std(ddof=1) 의 ddof=1은 \"불편표준오차\"를 구할 때, 즉, 1/(N-1)이라는 나눗셈을 수행한다<br>\n",
    "・이 ddof를 지정하지 않으면， 1/N을 이용한 계산을 수행하고，불편은 안 된다<br>\n",
    "・표준편차은 산포도의 지표가 된다"
   ]
  },
  {
   "cell_type": "code",
   "execution_count": 15,
   "metadata": {},
   "outputs": [
    {
     "name": "stdout",
     "output_type": "stream",
     "text": [
      "N = 100  mean = 2.081327  std = 3.401773e+00\n",
      "N = 10000  mean = 2.031495  std = 2.991842e+00\n"
     ]
    },
    {
     "data": {
      "image/png": "[encoded data removed]",
      "text/plain": [
       "<Figure size 432x288 with 1 Axes>"
      ]
     },
     "metadata": {
      "needs_background": "light"
     },
     "output_type": "display_data"
    },
    {
     "data": {
      "image/png": "[encoded data removed]",
      "text/plain": [
       "<Figure size 432x288 with 1 Axes>"
      ]
     },
     "metadata": {
      "needs_background": "light"
     },
     "output_type": "display_data"
    }
   ],
   "source": [
    "np.random.seed(123) # scipy와 공통, 난수생성의 재현성을 얻음\n",
    "\n",
    "mean = 2.0 # mean, 평균값\n",
    "std = 3.0  # standar deviation, 표준편차\n",
    "for N in [100, 10000]:\n",
    "    x = scipy.stats.norm.rvs(loc=mean, scale=std, size=N) # rvs:Random variates\n",
    "    print('N = %d  mean = %f  std = %e' % (N, x.mean(), x.std(ddof=1))) # 표본의 표준오차이므로\n",
    "    plt.figure()\n",
    "    plt.hist(x, bins=20)\n",
    "    plt.title('$N = %i$' % (N) )\n",
    "\n",
    "if FLAG_fig: plt.savefig('fig_PROB_NormalDist_Sim.png')\n",
    "plt.show()"
   ]
  },
  {
   "cell_type": "markdown",
   "metadata": {},
   "source": [
    "#### 중심극한정리\n",
    "균일난수를 이용하면，이 구간 [a,b]의 평균값은 $\\mu = \\frac{a+b}{2}$, 분산 $\\sigma^2 = \\frac{(b-a)^2}{12}$이다.\n",
    "이 n개（몇 개의 값）의 표본평균을 N개（이것은 일정하다）발생시켜，분포를 보면，정규분포 $N(\\mu, \\sigma^2/n )$에 가까워진다. 여기에서는，표준정규분포로 정규화한다.\n",
    "다른 분포로도 시험해보고 싶다."
   ]
  },
  {
   "cell_type": "code",
   "execution_count": 9,
   "metadata": {
    "scrolled": true
   },
   "outputs": [
    {
     "data": {
      "image/png": "[encoded data removed]",
      "text/plain": [
       "<Figure size 432x288 with 1 Axes>"
      ]
     },
     "metadata": {
      "needs_background": "light"
     },
     "output_type": "display_data"
    }
   ],
   "source": [
    "N = 2000\n",
    "y= np.zeros(N)\n",
    "for n in [5, 5000]:\n",
    "    for i in range(N):\n",
    "        x = scipy.stats.uniform.rvs(size=n)\n",
    "        y[i] = (x.mean() - 1/2)/(np.sqrt(1/12)/np.sqrt(n))\n",
    "    plt.hist(y, bins=20, range=(-4,4), density=True)\n",
    "\n",
    "xx = np.arange(-4, 4, 0.01)\n",
    "nrm = scipy.stats.norm.pdf(xx, loc=0.0, scale=1.0 ) # 표준정규분포\n",
    "plt.plot(xx, nrm, c='k')\n",
    "\n",
    "if FLAG_fig: plt.savefig('fig_PROB_NormalDist_Climt.png')\n",
    "plt.show()"
   ]
  },
  {
   "cell_type": "code",
   "execution_count": 29,
   "metadata": {},
   "outputs": [
    {
     "data": {
      "image/png": "[encoded data removed]",
      "text/plain": [
       "<Figure size 432x288 with 1 Axes>"
      ]
     },
     "metadata": {
      "needs_background": "light"
     },
     "output_type": "display_data"
    }
   ],
   "source": [
    "N = 2000\n",
    "y= np.zeros(N) # N의 크기만큼 0을 가진 array를 생성.\n",
    "for n in [5, 5000]:\n",
    "    for i in range(N):\n",
    "        x = scipy.stats.uniform.rvs(size=n) # 균등분포 난수 생성 함수.\n",
    "        y[i] = (x.mean() - 1/2)/(np.sqrt(1/12)/np.sqrt(n))\n",
    "    plt.hist(y, bins=20, range=(-4,4), density=True)\n",
    "\n",
    "\n",
    "\n",
    "if FLAG_fig: plt.savefig('fig_PROB_NormalDist_Climt.png')\n",
    "plt.show()"
   ]
  },
  {
   "cell_type": "code",
   "execution_count": 26,
   "metadata": {
    "scrolled": true
   },
   "outputs": [
    {
     "name": "stdout",
     "output_type": "stream",
     "text": [
      "0.5117750260754818 0.08477876522047349 0.08333333333333333\n"
     ]
    }
   ],
   "source": [
    "test = scipy.stats.uniform.rvs(size=2000)\n",
    "a = test.mean()\n",
    "b = test.std()\n",
    "print(a,b**2, (1/12))"
   ]
  },
  {
   "cell_type": "markdown",
   "metadata": {},
   "source": [
    "# 포아송분포\n",
    "$$\n",
    "P(X=k) = \\exp (-\\lambda t) \\frac{(\\lambda t)^k}{k !}\n",
    "$$\n",
    "scipy.stats.poisson  \n",
    "https://docs.scipy.org/doc/scipy/reference/generated/scipy.stats.poisson.html"
   ]
  },
  {
   "cell_type": "code",
   "execution_count": 7,
   "metadata": {},
   "outputs": [],
   "source": [
    "# -*- coding: utf-8 -*-\n",
    "import numpy as np\n",
    "from scipy.stats import poisson\n",
    "from scipy.stats import uniform\n",
    "\n",
    "import matplotlib.pyplot as plt\n",
    "%matplotlib inline\n",
    "\n",
    "FLAG_fig = False"
   ]
  },
  {
   "cell_type": "markdown",
   "metadata": {},
   "source": [
    "#### 확률질량함수（pmf: Probability mass function）의 그래프\n",
    "이산확률변수인 경우의 호칭，연속확률변수인 경우는 확률밀도함수 (pdf: Probability density function)"
   ]
  },
  {
   "cell_type": "code",
   "execution_count": 8,
   "metadata": {
    "scrolled": true
   },
   "outputs": [
    {
     "data": {
      "image/png": "[encoded data removed]",
      "text/plain": [
       "<Figure size 576x288 with 1 Axes>"
      ]
     },
     "metadata": {
      "needs_background": "light"
     },
     "output_type": "display_data"
    }
   ],
   "source": [
    "fig = plt.subplots(figsize=(8,4))\n",
    "k = np.arange(0,16)\n",
    "\n",
    "for lamb in range(1,6):\n",
    "    p = poisson.pmf(k, lamb)\n",
    "    plt.plot(k, p, label='lamb='+str(lamb))\n",
    "\n",
    "plt.xlabel('k')\n",
    "plt.ylabel('Probability mass function')\n",
    "plt.legend()\n",
    "\n",
    "if FLAG_fig: plt.savefig('fig_PROB_Poisson_pmf_Plot')\n",
    "plt.show()"
   ]
  },
  {
   "cell_type": "code",
   "execution_count": 31,
   "metadata": {},
   "outputs": [
    {
     "data": {
      "text/plain": [
       "array([0, 1, 2, 3, 4, 5, 6, 7, 8, 9])"
      ]
     },
     "execution_count": 31,
     "metadata": {},
     "output_type": "execute_result"
    }
   ],
   "source": [
    "np.arange(10)"
   ]
  },
  {
   "cell_type": "markdown",
   "metadata": {},
   "source": [
    "#### 예：교통사고 문제\n",
    "교통사고 평균 2.4건／일의 경우，교통사고가 2건/일이 되는 확률을 구한다."
   ]
  },
  {
   "cell_type": "code",
   "execution_count": 9,
   "metadata": {},
   "outputs": [
    {
     "name": "stdout",
     "output_type": "stream",
     "text": [
      "sum of p = 0.5697087466575105\n"
     ]
    }
   ],
   "source": [
    "lamb = 2.4\n",
    "psum = 0\n",
    "for k in [0, 1, 2]:\n",
    "    p = poisson.pmf(k, mu=lamb)\n",
    "    psum = psum + p\n",
    "print('sum of p =',psum)"
   ]
  },
  {
   "cell_type": "markdown",
   "metadata": {},
   "source": [
    "#### 포아송 도착 모델\n",
    "$$ \n",
    "  t_{arrive} = -\\frac{1}{\\lambda} \\log_{e} P_{arrive} (T) \n",
    "$$"
   ]
  },
  {
   "cell_type": "code",
   "execution_count": 10,
   "metadata": {},
   "outputs": [
    {
     "data": {
      "image/png": "[encoded data removed]",
      "text/plain": [
       "<Figure size 432x216 with 1 Axes>"
      ]
     },
     "metadata": {
      "needs_background": "light"
     },
     "output_type": "display_data"
    }
   ],
   "source": [
    "np.random.seed(123)\n",
    "\n",
    "Num=30 # 　Num 명의 도착시간을 구한다\n",
    "t_arrive = np.zeros(Num)\n",
    "lamb = 1\n",
    "\n",
    "sum = 0.0\n",
    "for i in range(Num):\n",
    "    sum = sum - (1/lamb) * np.log( uniform.rvs(size=1) )\n",
    "    t_arrive[i] = sum\n",
    "\n",
    "fig, ax = plt.subplots(figsize=(6,3))\n",
    "ax.vlines(t_arrive, ymin=0, ymax=1)\n",
    "ax.set_xlabel('time[k]')\n",
    "plt.tight_layout() \n",
    "\n",
    "if FLAG_fig: plt.savefig('fig_PROB_Poisson_Arrival')\n",
    "plt.show()"
   ]
  },
  {
   "cell_type": "code",
   "execution_count": 11,
   "metadata": {},
   "outputs": [
    {
     "data": {
      "text/plain": [
       "array([ 0.36173173,  1.61300813,  3.096468  ,  3.69191736,  4.02115924,\n",
       "        4.88129069,  4.90071391,  5.27929894,  6.01132853,  6.94752223,\n",
       "        8.0170282 ,  8.33304156,  9.15727229, 11.97606585, 12.89725794,\n",
       "       13.20107562, 14.90212604, 16.64251721, 17.27447263, 17.90590856,\n",
       "       18.36098266, 18.52417029, 18.84650547, 19.33912531, 19.66424154,\n",
       "       20.7944717 , 21.81116677, 23.28842256, 24.51357118, 24.97405843])"
      ]
     },
     "execution_count": 11,
     "metadata": {},
     "output_type": "execute_result"
    }
   ],
   "source": [
    "t_arrive"
   ]
  },
  {
   "cell_type": "code",
   "execution_count": 13,
   "metadata": {
    "scrolled": true
   },
   "outputs": [
    {
     "data": {
      "image/png": "[encoded data removed]",
      "text/plain": [
       "<Figure size 432x216 with 1 Axes>"
      ]
     },
     "metadata": {
      "needs_background": "light"
     },
     "output_type": "display_data"
    }
   ],
   "source": [
    "Num=30 # the number of arrival, Num명의 도착시간을 구한다\n",
    "t_arrive = np.zeros(Num)\n",
    "lamb = 1\n",
    "\n",
    "sum = 0.0\n",
    "for i in range(Num):\n",
    "    sum = sum - (1/lamb) * np.log( uniform.rvs(size=1) )\n",
    "    t_arrive[i] = sum\n",
    "\n",
    "fig, ax = plt.subplots(figsize=(6,3))\n",
    "ax.vlines(t_arrive, ymin=0, ymax=1)\n",
    "ax.set_xlabel('time[k]')\n",
    "plt.tight_layout() \n",
    "\n",
    "if FLAG_fig: plt.savefig('fig_PROB_Poisson_Arrival')\n",
    "plt.show()"
   ]
  },
  {
   "cell_type": "code",
   "execution_count": null,
   "metadata": {},
   "outputs": [],
   "source": []
  }
 ],
 "metadata": {
  "kernelspec": {
   "display_name": "Python 3",
   "language": "python",
   "name": "python3"
  },
  "language_info": {
   "codemirror_mode": {
    "name": "ipython",
    "version": 3
   },
   "file_extension": ".py",
   "mimetype": "text/x-python",
   "name": "python",
   "nbconvert_exporter": "python",
   "pygments_lexer": "ipython3",
   "version": "3.8.5"
  }
 },
 "nbformat": 4,
 "nbformat_minor": 4
}
