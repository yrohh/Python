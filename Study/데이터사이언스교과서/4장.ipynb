{
 "cells": [
  {
   "cell_type": "markdown",
   "metadata": {},
   "source": [
    "# 통계 시작\n",
    "１．표본평균의 분포  \n",
    "２．표준정규분포에서 신뢰도 $1-\\alpha$와 신뢰구간  \n",
    "３．모평균의 신뢰구간  \n",
    "４．모비율의 신뢰구간"
   ]
  },
  {
   "cell_type": "code",
   "execution_count": 2,
   "metadata": {},
   "outputs": [],
   "source": [
    "# -*- coding: utf-8 -*-\n",
    "import numpy as np\n",
    "from scipy.stats import norm\n",
    "from scipy.stats import t\n",
    "from scipy.stats import uniform\n",
    "\n",
    "import matplotlib.pyplot as plt\n",
    "%matplotlib inline\n",
    "\n",
    "FLAG_fig = False"
   ]
  },
  {
   "cell_type": "markdown",
   "metadata": {},
   "source": [
    "#### 표본평균의 분포\n",
    "표본들의 평균값이 모평균에 가까운 모양인 것을 확인."
   ]
  },
  {
   "cell_type": "code",
   "execution_count": 3,
   "metadata": {},
   "outputs": [
    {
     "data": {
      "image/png": "[encoded data removed]",
      "text/plain": [
       "<Figure size 432x288 with 1 Axes>"
      ]
     },
     "metadata": {
      "needs_background": "light"
     },
     "output_type": "display_data"
    }
   ],
   "source": [
    "#num을 변경하면 분포가 달라진다\n",
    "num = 50\n",
    "N = 10\n",
    "mean, std = 2, 0.5\n",
    "mu = np.zeros(num)\n",
    "\n",
    "for i in range(num):\n",
    "    mu[i] = np.mean( norm.rvs(loc=mean, scale=std, size=N))\n",
    "\n",
    "plt.hist(mu, bins=20, range=(1.5, 2.5))\n",
    "if FLAG_fig: plt.savefig('fig_STAT_Est_SampleMean.png')"
   ]
  },
  {
   "cell_type": "markdown",
   "metadata": {},
   "source": [
    "#### 구간추정\n",
    "alpha = 유의수준 <br>\n",
    "1-alpha = 신뢰수준 <br>\n",
    "norm.interval() 정규분포 백분위점을 산출하는 함수로, 양끝 두 개의 백분위점을 갖는 튜플을 출력."
   ]
  },
  {
   "cell_type": "code",
   "execution_count": null,
   "metadata": {},
   "outputs": [],
   "source": []
  },
  {
   "cell_type": "code",
   "execution_count": 3,
   "metadata": {},
   "outputs": [
    {
     "name": "stdout",
     "output_type": "stream",
     "text": [
      "za= -2.5758293035489004  zb= 2.5758293035489004\n"
     ]
    }
   ],
   "source": [
    "alp = 0.01\n",
    "za, zb = norm.interval(alpha=(1-alp), loc=0, scale=1)\n",
    "print('za=',za, ' zb=',zb)"
   ]
  },
  {
   "cell_type": "markdown",
   "metadata": {},
   "source": [
    "#### 모평균의 신뢰구간\n",
    "신뢰도를 1-alp 라고 했을 때, 모평균이 존재하는 구간"
   ]
  },
  {
   "cell_type": "code",
   "execution_count": 4,
   "metadata": {},
   "outputs": [],
   "source": [
    "N = 10\n",
    "mu_hat = 145.2\n",
    "std_hat = 23.7\n",
    "t1 = t.interval( 0.99, df=N-1)\n",
    "t2 = t.interval( 0.95, df=N-1)\n",
    "t3 = t.interval( 0.90, df=N-1)\n",
    "se = std_hat / np.sqrt(N)"
   ]
  },
  {
   "cell_type": "code",
   "execution_count": 5,
   "metadata": {},
   "outputs": [
    {
     "name": "stdout",
     "output_type": "stream",
     "text": [
      "1-alp = 0.99, interval: 120.84378885405553 169.55621114594445\n",
      "1-alp = 0.95, interval: 128.24604132892404 162.15395867107594\n",
      "1-alp = 0.90, interval: 131.46155538107368 158.9384446189263\n"
     ]
    }
   ],
   "source": [
    "print('1-alp = 0.99, interval:', mu_hat + t1[0]*se, mu_hat + t1[1]*se)\n",
    "print('1-alp = 0.95, interval:', mu_hat + t2[0]*se, mu_hat + t2[1]*se)\n",
    "print('1-alp = 0.90, interval:', mu_hat + t3[0]*se, mu_hat + t3[1]*se)"
   ]
  },
  {
   "cell_type": "markdown",
   "metadata": {},
   "source": [
    "#### 모비율의 신뢰구간\n",
    "국정지지율 예제：샘플수 N, 지지하는 사람은 550명、신뢰도 1- alp <br>\n",
    "표본의 비율을 통해 모비율을 추정"
   ]
  },
  {
   "cell_type": "code",
   "execution_count": 6,
   "metadata": {
    "scrolled": true
   },
   "outputs": [
    {
     "name": "stdout",
     "output_type": "stream",
     "text": [
      "1-alp =  0.95   interval: 0.5191655864637935 0.5808344135362066\n"
     ]
    }
   ],
   "source": [
    "N=1000\n",
    "p_hat = 550/N\n",
    "alp = 0.05\n",
    "za, zb = norm.interval(alpha=(1-alp), loc=0, scale=1)\n",
    "se = np.sqrt( p_hat*(1-p_hat)/N )\n",
    "print('1-alp = ',(1-alp),'  interval:', p_hat+za*se, p_hat+zb*se)\n",
    "interval1 = zb*se*2"
   ]
  },
  {
   "cell_type": "markdown",
   "metadata": {},
   "source": [
    "위의 예와 마찬가지、다만 샘플수 Nx를 N * coef 라고 하면、coef(coefficient)는 배율을 표시."
   ]
  },
  {
   "cell_type": "code",
   "execution_count": 7,
   "metadata": {},
   "outputs": [
    {
     "name": "stdout",
     "output_type": "stream",
     "text": [
      "1-alp =  0.95   interval: 0.5345827932318968 0.5654172067681033\n",
      "interval1= 0.06166882707241305 interval2= 0.030834413536206525\n"
     ]
    }
   ],
   "source": [
    "coef=4\n",
    "Nx=N*coef\n",
    "p_hat = 550*coef/Nx\n",
    "alp = 0.05\n",
    "za, zb = norm.interval(alpha=(1-alp), loc=0, scale=1)\n",
    "se = np.sqrt( p_hat*(1-p_hat)/Nx )\n",
    "print('1-alp = ',(1-alp),'  interval:', p_hat+za*se, p_hat+zb*se)\n",
    "interval2 = zb*se*2\n",
    "print('interval1=',interval1, 'interval2=',interval2)"
   ]
  },
  {
   "cell_type": "markdown",
   "metadata": {},
   "source": [
    "신뢰구간의 폭을 반으로 줄이기 위해, N의 값을 4배한 모습."
   ]
  },
  {
   "cell_type": "markdown",
   "metadata": {},
   "source": [
    "# 가설검정（Hypothesis Testing）"
   ]
  },
  {
   "cell_type": "markdown",
   "metadata": {},
   "source": [
    "## 평균값의 검정（모분산을 알지 못함） t검정\n",
    "$$\n",
    "t = \\frac{\\hat{\\mu} - \\mu_0}{\\sqrt{\\sigma^2 \\big/ N}}\n",
    "$$\n",
    "위의 $t$검정통계량은 자유도$ df = N - 1 $인 $t$ 분포를 따른다（ $df$: Degree of Freedom）<br>\n",
    "scipy.stats.t https://docs.scipy.org/doc/scipy/reference/generated/scipy.stats.t.html <br>"
   ]
  },
  {
   "cell_type": "code",
   "execution_count": 14,
   "metadata": {},
   "outputs": [],
   "source": [
    "# -*- coding: utf-8 -*-\n",
    "\n",
    "import numpy as np\n",
    "import scipy as sp\n",
    "from scipy import stats\n",
    "\n",
    "import matplotlib.pyplot as plt\n",
    "%matplotlib inline\n",
    "\n",
    "FLAG_fig = False"
   ]
  },
  {
   "cell_type": "markdown",
   "metadata": {},
   "source": [
    "#### 예１：어느 학습，시험 평균점수와 보강의 효용성(단측검정)"
   ]
  },
  {
   "cell_type": "code",
   "execution_count": 16,
   "metadata": {},
   "outputs": [],
   "source": [
    "data = np.array([1, -1, -2, 3, -1, 5, 4, 0, 7, -1])"
   ]
  },
  {
   "cell_type": "code",
   "execution_count": 42,
   "metadata": {},
   "outputs": [
    {
     "name": "stdout",
     "output_type": "stream",
     "text": [
      "3.064129385141706\n",
      "3.064129385141706\n"
     ]
    }
   ],
   "source": [
    "\n",
    "test_m = data.mean()\n",
    "sum = 0.\n",
    "for i in data :\n",
    "    sum += (i - test_m)**2\n",
    "  \n",
    "pyopyeon = np.sqrt(sum/9)\n",
    "print(pyopyeon)\n",
    "print(np.std(data, ddof=1))"
   ]
  },
  {
   "cell_type": "code",
   "execution_count": 43,
   "metadata": {},
   "outputs": [
    {
     "name": "stdout",
     "output_type": "stream",
     "text": [
      "1.5 3.064129385141706 10\n"
     ]
    }
   ],
   "source": [
    "m = np.average(data) # mean\n",
    "s = np.std(data, ddof=1) # std, ddof=1 : unbiased\n",
    "N = len(data) # the number of sample\n",
    "print(m,s,N)"
   ]
  },
  {
   "cell_type": "code",
   "execution_count": 45,
   "metadata": {},
   "outputs": [
    {
     "name": "stdout",
     "output_type": "stream",
     "text": [
      "talp (alpha=0.05, df=9) =1.833113\n",
      "t= 1.5480470613460082\n"
     ]
    }
   ],
   "source": [
    "alp = 0.05\n",
    "talp = stats.t.ppf((1-alp),N-1) # 유의수준 0,05 일 때, t0.95\n",
    "print('talp (alpha=0.05, df=%d) =%f' %((N-1),talp))\n",
    "\n",
    "m0 = 0 # null hypothesis\n",
    "t = (m-m0)/(s/np.sqrt(N)) # t값\n",
    "print('t=', t) "
   ]
  },
  {
   "cell_type": "markdown",
   "metadata": {},
   "source": [
    "talp > t 에 의해，H0는 기각할 수 없다. 일반적으로，talp, t 와 같은 pp(percent point)를 구하는 것보다는，\n",
    "p값(p value)을 구한다. 이것은 다음에 나타낸다."
   ]
  },
  {
   "cell_type": "code",
   "execution_count": 5,
   "metadata": {},
   "outputs": [
    {
     "name": "stdout",
     "output_type": "stream",
     "text": [
      "p value= 0.07800883831234118\n"
     ]
    }
   ],
   "source": [
    "prob = stats.t.cdf(t,N-1)\n",
    "print('p value=',1-prob)"
   ]
  },
  {
   "cell_type": "markdown",
   "metadata": {},
   "source": [
    "유의수준을 0.05로 하면，p value 쪽이 더 크기 때문에，H0를 기각할 수 없다."
   ]
  },
  {
   "cell_type": "markdown",
   "metadata": {},
   "source": [
    "#### 예2：정밀부품의 직경（양측검정）"
   ]
  },
  {
   "cell_type": "code",
   "execution_count": 47,
   "metadata": {},
   "outputs": [
    {
     "name": "stdout",
     "output_type": "stream",
     "text": [
      "sample mean = 1.5396375   std =  0.00042067123233509513  The number of data =  8\n"
     ]
    }
   ],
   "source": [
    "data2 = np.array([1.5399, 1.5390, 1.5399, 1.5395, 1.5400, 1.5390, 1.5399, 1.5399])\n",
    "m = np.mean(data2)        # mean\n",
    "s = np.std(data2, ddof=1) # std, ddof=1 : unbiased\n",
    "N = len(data2)            # \n",
    "df = N - 1               # DoF (degree of freedom)\n",
    "m0 = 1.54                   # H0 (null hypothesis)\n",
    "print('sample mean =',m,'  std = ',s,' The number of data = ',N)"
   ]
  },
  {
   "cell_type": "code",
   "execution_count": 48,
   "metadata": {},
   "outputs": [
    {
     "name": "stdout",
     "output_type": "stream",
     "text": [
      "0.02246807961190598\n",
      "t =  -2.4373067467182707\n",
      "p value = 0.04493615922381196\n"
     ]
    }
   ],
   "source": [
    "t = (m-m0)/(s/np.sqrt(N))   # 샘플로부터 구하는 pp값\n",
    "prob = stats.t.cdf(t, df)\n",
    "\n",
    "if t >=  0:\n",
    "    p = 1 - prob\n",
    "else:\n",
    "    p = prob\n",
    "\n",
    "print('t = ',t)\n",
    "print('p value =',2*p)"
   ]
  },
  {
   "cell_type": "markdown",
   "metadata": {},
   "source": [
    "주의：위와 같이，t가 음의 값이 될 때에는，p = prob로 한다.  \n",
    "$\\alpha=0.05$라고 두면, p value $< \\alpha$ 에 의해 H0를 기각"
   ]
  },
  {
   "cell_type": "markdown",
   "metadata": {},
   "source": [
    "실은，다음 함수를 이용하면 계산은 쉽다<br>\n",
    "t, p = scipy.stats.ttest_1samp(data, m0)<br>\n",
    "data: 샘플 데이터<br>\n",
    "m0: 귀무가설 H0로 판정한 평균값<br>\n",
    "t: t값<br>\n",
    "p: p값，양측검정을 전제로 하고 있다. 단측검정에서는 이 절반의 값을 이용한다.<br>\n",
    "https://docs.scipy.org/doc/scipy/reference/generated/scipy.stats.ttest_1samp.html"
   ]
  },
  {
   "cell_type": "code",
   "execution_count": 51,
   "metadata": {},
   "outputs": [
    {
     "name": "stdout",
     "output_type": "stream",
     "text": [
      "Ttest_1sampResult(statistic=-2.4373067467182707, pvalue=0.04493615922381196)\n",
      "t =  -2.4373067467182707\n",
      "both side p =  0.04493615922381196\n",
      "one  side p =  0.02246807961190598\n"
     ]
    }
   ],
   "source": [
    "print(stats.ttest_1samp(data2, m0))\n",
    "print('t = ',t)\n",
    "print('both side p = ',p)\n",
    "print('one  side p = ',p/2)"
   ]
  },
  {
   "cell_type": "markdown",
   "metadata": {},
   "source": [
    "## 분산의 검정　（모평균을 알지 못함） $\\chi ^2$검정\n",
    "$$\n",
    "\\chi^2 = \\frac{N-1}{\\sigma_0^2} \\hat{\\sigma}^2 \\sim \\chi^2 (N-1)\n",
    "$$\n",
    "위의 $\\chi^2$검정통계량은 자유도$ df = N - 1 $인 $\\chi^2$（ $df$: Degree of Freedom）<br>\n",
    "scipy.stats.chi2 https://docs.scipy.org/doc/scipy/reference/generated/scipy.stats.chi2.html <br>\n",
    "$\\chi^2$분포는 비대칭인 분포 형태이다."
   ]
  },
  {
   "cell_type": "markdown",
   "metadata": {},
   "source": [
    "#### 예３：앞의 정밀부품 직경의 산포도(분산) 검정\n",
    "분산의 검정이므로 단측검정이다"
   ]
  },
  {
   "cell_type": "code",
   "execution_count": 53,
   "metadata": {
    "scrolled": true
   },
   "outputs": [
    {
     "name": "stdout",
     "output_type": "stream",
     "text": [
      "variance = 1.769642857143276e-07\n",
      "chi2 = 12.387500000002934   chi2_alp= 14.067140449340169\n",
      "p value= 0.08851446668234408\n"
     ]
    }
   ],
   "source": [
    "var = np.var(data2, ddof=1)\n",
    "print('variance =',var)\n",
    "\n",
    "var0 = 1.e-7\n",
    "alp = 0.05\n",
    "N = len(data2) \n",
    "df = N - 1\n",
    "\n",
    "chi2 = (N-1)*var / var0\n",
    "chi2_alp = stats.chi2.ppf( (1-alp), df=df)\n",
    "print('chi2 =',chi2, '  chi2_alp=',chi2_alp)\n",
    "pval = 1 - stats.chi2.cdf(chi2, df)\n",
    "print('p value=',pval)"
   ]
  },
  {
   "cell_type": "markdown",
   "metadata": {},
   "source": [
    "chi2 < chia2_alp 또는 p value > alp 에 의해，H0를 기각할 수 없다  \n",
    "평균값의 검정에서，평균값이 어긋난다는 결론을 내린다.\n",
    "분산의 검정에서 H0를 기각할 수 없기 때문에，사실이라고는 아직 말할 수 없지만，  \n",
    "이 부품은 높은 정밀도이지만, 낮은 정밀도（Wikipedia 참조）의 가능성이 있다."
   ]
  },
  {
   "cell_type": "markdown",
   "metadata": {},
   "source": [
    "## 2표본의 평균값 차이에 대한 검정\n",
    "\n",
    "2표본，양쪽의 모분산을 모두 모르는 경우를 다룬다. 이 경우 웰치의 t검정（Welch's t-test）을 이용한다.  \n",
    "검정통계량 $t$는 복잡하므로，다음을 참조하기 바란다：https://en.wikipedia.org/wiki/Welch%27s_t-test  \n",
    "이 자유도는，웰치 사털드와이트의 식（Welch–Satterthwaite equation）에 의해 근사적으로 구할 수 있다.\n",
    "https://en.wikipedia.org/wiki/Welch%E2%80%93Satterthwaite_equation  \n",
    "\n",
    "자유도도 자동적으로 계산하는 함수가 다음의 scipy.stats.ttest_ind,  입력으로 equal_var = False 를 지정한다. \n",
    "https://docs.scipy.org/doc/scipy/reference/generated/scipy.stats.ttest_ind.html"
   ]
  },
  {
   "cell_type": "markdown",
   "metadata": {},
   "source": [
    "#### 예4：두 온도계의 성능 검정（독립인 2표본，분산은 알지 못함）"
   ]
  },
  {
   "cell_type": "code",
   "execution_count": 10,
   "metadata": {},
   "outputs": [],
   "source": [
    "s1 = np.array([37.1, 36.7, 36.6, 37.4, 36.8, 36.7, 36.9, 37.4, 36.6, 36.7])\n",
    "s2 = np.array([36.8, 36.6, 36.5, 37.0, 36.7, 36.5, 36.6, 37.1, 36.4, 36.7])"
   ]
  },
  {
   "cell_type": "code",
   "execution_count": 11,
   "metadata": {},
   "outputs": [
    {
     "name": "stdout",
     "output_type": "stream",
     "text": [
      "t =  1.6653821449601343  p value =  0.11477658092297612\n"
     ]
    }
   ],
   "source": [
    "t, p = stats.ttest_ind(s1, s2, equal_var = False)\n",
    "print('t = ',t, ' p value = ',p)"
   ]
  },
  {
   "cell_type": "markdown",
   "metadata": {},
   "source": [
    "p value를 보면，alpha = 5% 보다 크기 때문에 H0를 기각할 수 없다. 즉, 두 온도계의 평균값이 동일하다는 가설은 기각할 수 없다."
   ]
  },
  {
   "cell_type": "markdown",
   "metadata": {},
   "source": [
    "참고로，자유도의 계산 방식을 소개한다.  \n",
    "웰치-사털드와이트의 식에 의해 근사자유도를 계산한다.   \n",
    "https://en.wikipedia.org/wiki/Welch%27s_t-test"
   ]
  },
  {
   "cell_type": "code",
   "execution_count": 12,
   "metadata": {},
   "outputs": [
    {
     "data": {
      "text/plain": [
       "16.43885854540649"
      ]
     },
     "execution_count": 12,
     "metadata": {},
     "output_type": "execute_result"
    }
   ],
   "source": [
    "s1m = s1.mean()\n",
    "s1v = s1.var(ddof=1)\n",
    "s2m = s2.mean()\n",
    "s2v = s2.var(ddof=1)\n",
    "\n",
    "bunshi = ((s1v/len(s1)) + (s2v/len(s2)))**2\n",
    "bunbo = (s1v)**2/((len(s1)**2)*(len(s1)-1)) + (s2v)**2/((len(s2)**2)*(len(s2)-1))\n",
    "df = bunshi/bunbo\n",
    "df"
   ]
  },
  {
   "cell_type": "markdown",
   "metadata": {},
   "source": [
    "자유도는 실수가 된다"
   ]
  },
  {
   "cell_type": "code",
   "execution_count": null,
   "metadata": {},
   "outputs": [],
   "source": [
    "prob = stats.t.cdf(t, df)\n",
    "p = 1-prob\n",
    "print(2*p)  # 양측검정으로 하면，2*p가 된다"
   ]
  },
  {
   "cell_type": "markdown",
   "metadata": {},
   "source": [
    "이 결과는 앞의 p value와 일치한다"
   ]
  },
  {
   "cell_type": "markdown",
   "metadata": {},
   "source": [
    "## 상관과 무상관에 대한 검정\n",
    "상관계수 $\\hat{\\rho}$에는 다음 특성이 있다.\n",
    "$$\n",
    "- 1 \\le \\hat{\\rho}  \\le 1\n",
    "$$\n",
    "검정통계량은 다음을 이용한다\n",
    "$$\n",
    "t = \\frac{{ |\\hat \\rho _{xy} | \\sqrt {N - 2} }}{{\\sqrt {1 - \\hat \\rho _{xy} ^2 } }}\n",
    "$$\n",
    "이것은，자유도 $(N-2)$인 $t$분포를 따른다\n",
    "\n",
    "피어슨 상관계수로 귀무가설(무상관)을 설정한 경우 p값은 양쪽 모두 동시에 계산한다.  \n",
    "scipy.stats.pearsonr  \n",
    "https://docs.scipy.org/doc/scipy-0.14.0/reference/generated/scipy.stats.pearsonr.html"
   ]
  },
  {
   "cell_type": "markdown",
   "metadata": {},
   "source": [
    "#### 예5：아버지와 아들의 신장에 대한 상관 검정\n"
   ]
  },
  {
   "cell_type": "code",
   "execution_count": 13,
   "metadata": {},
   "outputs": [
    {
     "name": "stdout",
     "output_type": "stream",
     "text": [
      "corr. coef.= 0.6342703173343618   p value= 0.04888299019331427\n"
     ]
    }
   ],
   "source": [
    "x = np.array([168, 172, 181, 179, 166, 185, 177, 176, 169, 161])\n",
    "y = np.array([111, 125, 129, 120, 126, 133, 130, 116, 118, 115])\n",
    "corr, pvalue = stats.pearsonr(x,y)\n",
    "print('corr. coef.=',corr, '  p value=',pvalue)"
   ]
  },
  {
   "cell_type": "markdown",
   "metadata": {},
   "source": [
    "alp = 0.05 일 때，p value < alp 에 의해，H0（무상관）를 기각,alp = 0.01일 때 기각할 수 없다"
   ]
  },
  {
   "cell_type": "code",
   "execution_count": 14,
   "metadata": {},
   "outputs": [
    {
     "data": {
      "image/png": "[encoded data removed]",
      "text/plain": [
       "<Figure size 432x288 with 1 Axes>"
      ]
     },
     "metadata": {
      "needs_background": "light"
     },
     "output_type": "display_data"
    }
   ],
   "source": [
    "plt.scatter(x,y)\n",
    "plt.xlabel('Height of Faters')\n",
    "plt.ylabel('Height of Sons')\n",
    "if FLAG_fig: plt.savefig('fig_Stat_CorrelationTest.png')"
   ]
  },
  {
   "cell_type": "code",
   "execution_count": null,
   "metadata": {},
   "outputs": [],
   "source": []
  }
 ],
 "metadata": {
  "kernelspec": {
   "display_name": "Python 3",
   "language": "python",
   "name": "python3"
  },
  "language_info": {
   "codemirror_mode": {
    "name": "ipython",
    "version": 3
   },
   "file_extension": ".py",
   "mimetype": "text/x-python",
   "name": "python",
   "nbconvert_exporter": "python",
   "pygments_lexer": "ipython3",
   "version": "3.8.5"
  }
 },
 "nbformat": 4,
 "nbformat_minor": 4
}
