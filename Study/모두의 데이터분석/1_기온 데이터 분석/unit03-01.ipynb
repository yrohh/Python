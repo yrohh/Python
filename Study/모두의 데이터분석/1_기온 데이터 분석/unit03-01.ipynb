{
 "cells": [
  {
   "cell_type": "code",
   "execution_count": 27,
   "metadata": {},
   "outputs": [],
   "source": [
    "import csv\n",
    "f =open('seoul.csv')\n",
    "data = csv.reader(f)\n",
    "header =next(data)\n",
    "for row in data:\n",
    "    if row[4] == \"\":\n",
    "        row[4] = \"0\"\n",
    "    \n",
    "    row[4] = float(row[4])\n",
    "f.close()"
   ]
  },
  {
   "cell_type": "code",
   "execution_count": 28,
   "metadata": {},
   "outputs": [
    {
     "name": "stdout",
     "output_type": "stream",
     "text": [
      "기상 관측 이래 서울의 최고 기온이 가장 높았던 날은 2018-08-01로,  39.6 도 였습니다.\n"
     ]
    }
   ],
   "source": [
    "import csv\n",
    "max_temp =-999   # 최고 기온 값을 저장할 변수\n",
    "max_date =''       # 최고 기온이 가장 높았던 날짜를 저장할 변수\n",
    "f =open('seoul.csv')\n",
    "data = csv.reader(f)\n",
    "header =next(data)\n",
    "for row in data :\n",
    "    if row[4] =='' :\n",
    "        row[4] =-999   # -999를 넣어 빈 문자열이 있던 자리라고 표시\n",
    "    row[4] = float(row[4])\n",
    "    if max_temp < row[4] :\n",
    "        max_date = row[2]\n",
    "        max_temp = row[4]\n",
    "f.close()\n",
    "print('기상 관측 이래 서울의 최고 기온이 가장 높았던 날은',max_date+'로, ', max_temp, '도 였습니다.')\n"
   ]
  },
  {
   "cell_type": "code",
   "execution_count": null,
   "metadata": {},
   "outputs": [],
   "source": []
  }
 ],
 "metadata": {
  "kernelspec": {
   "display_name": "Python 3",
   "language": "python",
   "name": "python3"
  },
  "language_info": {
   "codemirror_mode": {
    "name": "ipython",
    "version": 3
   },
   "file_extension": ".py",
   "mimetype": "text/x-python",
   "name": "python",
   "nbconvert_exporter": "python",
   "pygments_lexer": "ipython3",
   "version": "3.8.5"
  }
 },
 "nbformat": 4,
 "nbformat_minor": 2
}
