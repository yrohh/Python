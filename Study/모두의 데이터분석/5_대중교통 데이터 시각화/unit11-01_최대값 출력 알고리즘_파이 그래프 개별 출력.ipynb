{
 "cells": [
  {
   "cell_type": "code",
   "execution_count": null,
   "metadata": {
    "colab": {},
    "colab_type": "code",
    "id": "5aJhC90R1DNX"
   },
   "outputs": [],
   "source": [
    "import csv\n",
    "f = open('subwayfeenewnew.csv')\n",
    "data = csv.reader(f)\n",
    "\n",
    "for row in data :\n",
    "    print(row)"
   ]
  },
  {
   "cell_type": "code",
   "execution_count": null,
   "metadata": {
    "colab": {},
    "colab_type": "code",
    "id": "ZtjlIaYS1DNb"
   },
   "outputs": [],
   "source": [
    "import csv\n",
    "f = open('subwayfee.csv')\n",
    "data = csv.reader(f)\n",
    "next(data)\n",
    "\n",
    "for row in data :\n",
    "    row[4] = int(row[4])\n",
    "    print(row)"
   ]
  },
  {
   "cell_type": "code",
   "execution_count": null,
   "metadata": {
    "colab": {},
    "colab_type": "code",
    "id": "RKN9dbWW1DNe"
   },
   "outputs": [],
   "source": [
    "import csv\n",
    "f = open('subwayfee.csv')\n",
    "data = csv.reader(f)\n",
    "next(data)\n",
    "\n",
    "for row in data :\n",
    "    for i in range(4,8) :\n",
    "        row[i] = int(row[i])\n",
    "    print(row)"
   ]
  },
  {
   "cell_type": "code",
   "execution_count": null,
   "metadata": {
    "scrolled": true
   },
   "outputs": [],
   "source": [
    "import csv\n",
    "f = open('subwayfee.csv')\n",
    "data = csv.reader(f)\n",
    "next(data)\n",
    "mx = 0\n",
    "rate = 0\n",
    "for row in data :\n",
    "    for i in range(4,8) :\n",
    "        row[i] = int(row[i])\n",
    "    rate = row[4] / row[6]\n",
    "    if rate > mx :\n",
    "        mx = rate\n",
    "print(mx)"
   ]
  },
  {
   "cell_type": "code",
   "execution_count": null,
   "metadata": {},
   "outputs": [],
   "source": [
    "import csv\n",
    "f = open('subwayfee.csv')\n",
    "data = csv.reader(f)\n",
    "next(data)\n",
    "mx = 0\n",
    "rate = 0\n",
    "for row in data :\n",
    "    for i in range(4,8) :\n",
    "        row[i] = int(row[i])\n",
    "    if row[6] == 0 :\n",
    "        print(row)"
   ]
  },
  {
   "cell_type": "code",
   "execution_count": null,
   "metadata": {},
   "outputs": [],
   "source": [
    "import csv\n",
    "f = open('subwayfee.csv')\n",
    "data = csv.reader(f)\n",
    "next(data)\n",
    "mx = 0\n",
    "rate = 0\n",
    "for row in data :\n",
    "    for i in range(4,8) :\n",
    "        row[i] = int(row[i])\n",
    "    if row[6] != 0 :\n",
    "        rate = row[4] / row[6]\n",
    "        if rate > mx :\n",
    "            mx = rate\n",
    "            print(row, round(rate,2))"
   ]
  },
  {
   "cell_type": "code",
   "execution_count": null,
   "metadata": {
    "colab": {},
    "colab_type": "code",
    "id": "O-cFLujR1DNg"
   },
   "outputs": [],
   "source": [
    "import csv\n",
    "f = open('subwayfee.csv')\n",
    "data = csv.reader(f)\n",
    "next(data)\n",
    "mx = 0\n",
    "rate = 0\n",
    "for row in data :\n",
    "    for i in range(4,8) :\n",
    "        row[i] = int(row[i])\n",
    "    if row[6] !=0 and (row[4] + row[6]) >100000 :\n",
    "        rate = row[4] / (row[4] + row[6])\n",
    "        if rate > mx :\n",
    "            mx = rate\n",
    "            print(row, round(rate,2))"
   ]
  },
  {
   "cell_type": "code",
   "execution_count": null,
   "metadata": {},
   "outputs": [],
   "source": [
    "import csv\n",
    "f = open('subwayfee.csv')\n",
    "data = csv.reader(f)\n",
    "next(data)\n",
    "mx = 0\n",
    "rate = 0\n",
    "for row in data :\n",
    "    for i in range(4,8) :\n",
    "        row[i] = int(row[i])\n",
    "    if row[6] !=0 and (row[4] + row[6]) >100000 :\n",
    "        rate = row[4] / (row[4] + row[6])\n",
    "        if rate > 0.94 :\n",
    "            mx = rate\n",
    "            print(row, round(rate,2))"
   ]
  },
  {
   "cell_type": "code",
   "execution_count": null,
   "metadata": {},
   "outputs": [],
   "source": [
    "import csv\n",
    "f = open('subwayfee.csv')\n",
    "data = csv.reader(f)\n",
    "next(data)\n",
    "mx = 0\n",
    "rate = 0\n",
    "for row in data :\n",
    "    for i in range(4,8) :\n",
    "        row[i] = int(row[i])\n",
    "    if row[6] !=0 and (row[4] + row[6]) >100000 :\n",
    "        rate = row[4] / (row[4] + row[6])\n",
    "        if rate > mx :\n",
    "            mx = rate\n",
    "            mx_station = row[3] + ' ' + row[1]\n",
    "\n",
    "print(mx_station, round(mx * 100,2))"
   ]
  },
  {
   "cell_type": "code",
   "execution_count": null,
   "metadata": {
    "colab": {},
    "colab_type": "code",
    "id": "ArYgXjVK1DNi"
   },
   "outputs": [],
   "source": [
    "import csv\n",
    "f = open('subwayfee.csv')\n",
    "data = csv.reader(f)\n",
    "next(data)\n",
    "mx = [0] * 4\n",
    "mx_station = [''] * 4\n",
    "\n",
    "for row in data :\n",
    "    for i in range(4,8) :\n",
    "        row[i] = int(row[i])\n",
    "        if row[i] > mx[i-4] :\n",
    "            mx[i-4] = row[i]\n",
    "            mx_station[i-4] = row[3] + ' ' + row[1]\n",
    "            \n",
    "for i in range(4) :\n",
    "    print(mx_station[i], mx[i])"
   ]
  },
  {
   "cell_type": "code",
   "execution_count": null,
   "metadata": {
    "colab": {},
    "colab_type": "code",
    "id": "lXgEd6Vu1DNl"
   },
   "outputs": [],
   "source": [
    "import csv\n",
    "f = open('subwayfee.csv')\n",
    "data = csv.reader(f)\n",
    "next(data)\n",
    "mx = [0] * 4\n",
    "mx_station = [''] * 4\n",
    "label = ['유임승차','유임하차','무임승차','무임하차']\n",
    "for row in data :\n",
    "    for i in range(4,8) :\n",
    "        row[i] = int(row[i])\n",
    "        if row[i] > mx[i-4] :\n",
    "            mx[i-4] = row[i]\n",
    "            mx_station[i-4] = row[3] + ' ' + row[1]\n",
    "for i in range(4) :\n",
    "    print(label[i] + ' : ' + mx_station[i], mx[i])"
   ]
  },
  {
   "cell_type": "code",
   "execution_count": null,
   "metadata": {
    "colab": {},
    "colab_type": "code",
    "id": "NZOTIwUr1DNn"
   },
   "outputs": [],
   "source": [
    "import csv\n",
    "import matplotlib.pyplot as plt\n",
    "f = open('subwayfee.csv')\n",
    "data = csv.reader(f)\n",
    "next(data)\n",
    "label = ['유임승차','유임하차','무임승차','무임하차']\n",
    "for row in data :\n",
    "    for i in range(4,8) :\n",
    "        row[i] = int(row[i])\n",
    "    #plt.figure(dpi = 300)\n",
    "    plt.pie(row[4:8])\n",
    "    plt.axis('equal')\n",
    "    plt.show()"
   ]
  },
  {
   "cell_type": "code",
   "execution_count": null,
   "metadata": {
    "colab": {},
    "colab_type": "code",
    "id": "VgvKEGd-1DNp"
   },
   "outputs": [],
   "source": [
    "import csv\n",
    "import matplotlib.pyplot as plt\n",
    "f = open('subwayfee.csv')\n",
    "data = csv.reader(f)\n",
    "next(data)\n",
    "label = ['유임승차','유임하차','무임승차','무임하차']\n",
    "c = ['#14CCC0', '#389993', '#FF1C6A', '#CC14AF']\n",
    "plt.rc('font', family = 'Malgun Gothic')\n",
    "for row in data :\n",
    "    for i in range(4,8) :\n",
    "        row[i] = int(row[i])\n",
    "    plt.figure(dpi = 300)\n",
    "    plt.title(row[3] + ' ' + row[1])\n",
    "    plt.pie(row[4:8], labels = label, colors = c, autopct = '%1.f%%')\n",
    "    plt.axis('equal')\n",
    "    plt.show()"
   ]
  },
  {
   "cell_type": "code",
   "execution_count": null,
   "metadata": {
    "colab": {},
    "colab_type": "code",
    "id": "gHJp4N8E1DNs"
   },
   "outputs": [],
   "source": [
    "import csv\n",
    "import matplotlib.pyplot as plt\n",
    "f = open('subwayfee.csv')\n",
    "data = csv.reader(f)\n",
    "next(data)\n",
    "label = ['유임승차','유임하차','무임승차','무임하차']\n",
    "c = ['#14CCC0', '#389993', '#FF1C6A', '#CC14AF']\n",
    "plt.rc('font', family = 'Malgun Gothic')\n",
    "for row in data :\n",
    "    for i in range(4,8) :\n",
    "        row[i] = int(row[i])\n",
    "    plt.figure(dpi = 300)\n",
    "    plt.title(row[3] + ' ' + row[1])\n",
    "    plt.pie(row[4:8], labels = label, colors = c, autopct = '%1.f%%')\n",
    "    plt.axis('equal')\n",
    "    plt.savefig(row[3] + ' ' + row[1] + '.png')\n",
    "    plt.show()"
   ]
  },
  {
   "cell_type": "code",
   "execution_count": null,
   "metadata": {},
   "outputs": [],
   "source": [
    "import csv\n",
    "import matplotlib.pyplot as plt\n",
    "f = open('subwayfee.csv')\n",
    "data = csv.reader(f)\n",
    "next(data)\n",
    "label = ['유임승차','유임하차','무임승차','무임하차']\n",
    "c = ['#14CCC0', '#389993', '#FF1C6A', '#CC14AF']\n",
    "plt.rc('font', family = 'Malgun Gothic')\n",
    "for row in data :\n",
    "    for i in range(4,8) :\n",
    "        row[i] = int(row[i])\n",
    "    plt.figure(dpi = 300)\n",
    "    plt.title(row[3] + ' ' + row[1])\n",
    "    plt.pie(row[4:8], labels = label, colors = c, autopct = '%1.f%%')\n",
    "    plt.axis('equal')\n",
    "    plt.savefig(row[3] + ' ' + row[1] + '.png')\n",
    "    plt.show()"
   ]
  }
 ],
 "metadata": {
  "colab": {
   "name": "Unit 11. 지하철 유무임.ipynb",
   "provenance": [],
   "version": "0.3.2"
  },
  "kernelspec": {
   "display_name": "Python 3",
   "language": "python",
   "name": "python3"
  },
  "language_info": {
   "codemirror_mode": {
    "name": "ipython",
    "version": 3
   },
   "file_extension": ".py",
   "mimetype": "text/x-python",
   "name": "python",
   "nbconvert_exporter": "python",
   "pygments_lexer": "ipython3",
   "version": "3.8.5"
  }
 },
 "nbformat": 4,
 "nbformat_minor": 1
}
