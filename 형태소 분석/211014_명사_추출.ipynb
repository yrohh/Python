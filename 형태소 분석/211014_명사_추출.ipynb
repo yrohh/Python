{
 "cells": [
  {
   "cell_type": "markdown",
   "id": "4204b200",
   "metadata": {},
   "source": [
    "### 라이브러리 로드"
   ]
  },
  {
   "cell_type": "code",
   "execution_count": 1,
   "id": "5e6b960e",
   "metadata": {},
   "outputs": [],
   "source": [
    "from elasticsearch import Elasticsearch, helpers\n",
    "import pandas as pd\n",
    "import csv\n",
    "from pprint import pprint # Json 출력 인덴트 주어 보기 편하게 출력.\n",
    "import pandas as pd # 데이터프레임 가공을 위한 라이브러리.\n",
    "import psycopg2 # 데이터베이스 연동을 위한 라이브러리.\n",
    "from konlpy.tag import Twitter, Kkma # 한글 형태소 분석 위한 라이브러리."
   ]
  },
  {
   "cell_type": "markdown",
   "id": "9ccf5456",
   "metadata": {},
   "source": [
    "### DB 불러오기"
   ]
  },
  {
   "cell_type": "code",
   "execution_count": 2,
   "id": "d10bbe63",
   "metadata": {},
   "outputs": [],
   "source": [
    "db = psycopg2.connect(host='192.168.1.222', dbname='omop',user='belab',password='qwer1234',port=5433) # 파이썬 db 연동."
   ]
  },
  {
   "cell_type": "markdown",
   "id": "4a541ddb",
   "metadata": {},
   "source": [
    "### Table 불러오기"
   ]
  },
  {
   "cell_type": "code",
   "execution_count": 3,
   "id": "eefda316",
   "metadata": {},
   "outputs": [],
   "source": [
    "pheno = pd.read_sql(\"\"\"select tt.* from\n",
    "(\n",
    "select 'pheno' as gubun, pheno_id as id, '' as naire_name, '' as pheno_name, '' as qualifier_name, pheno as value from munjin.pheno2 \n",
    "where category = 'clinical finding' and pheno_id > 130 \n",
    "union all\n",
    "select 'munjin' as gubun, munjin_id as id ,naire_name, pheno_name, qualifier_name, value from munjin.munjin2 \n",
    "where qualifier_name in ('Character', 'Aggravated by', 'Provoked by', 'Risk factor', 'Symptom relieving factors')) as tt\n",
    "order by value collate \"C\";\"\"\", db)"
   ]
  },
  {
   "cell_type": "markdown",
   "id": "6fec06d3",
   "metadata": {},
   "source": [
    "### Twitter api 사용, 증현상/설명값 품사 분석"
   ]
  },
  {
   "cell_type": "code",
   "execution_count": 11,
   "id": "c5e5ad3a",
   "metadata": {},
   "outputs": [],
   "source": [
    "twitter = Twitter()\n",
    "pheno['morpheme_list']=pheno['value'].apply(twitter.pos)"
   ]
  },
  {
   "cell_type": "code",
   "execution_count": 40,
   "id": "a916196d",
   "metadata": {},
   "outputs": [
    {
     "name": "stdout",
     "output_type": "stream",
     "text": [
      "[]\n",
      "[]\n",
      "[]\n",
      "[]\n",
      "[]\n",
      "[]\n",
      "[]\n",
      "[]\n",
      "[('1', 'Number'), (',', 'Punctuation'), ('2', 'Number'), (',', 'Punctuation'), ('3', 'Number'), (',', 'Punctuation'), ('4', 'Number'), ('번째', 'Suffix'), ('손가락', 'Noun'), ('을', 'Josa'), ('포함', 'Noun'), ('한', 'Josa'), ('부위', 'Noun'), ('가', 'Josa'), ('움직이기', 'Verb'), ('어려움', 'Noun')]\n",
      "[('4', 'Number'), (',', 'Punctuation'), ('5', 'Number'), ('번째', 'Suffix'), ('손가락', 'Noun'), ('부위', 'Noun'), ('가', 'Josa'), ('움직이기', 'Verb'), ('어려움', 'Noun')]\n",
      "[('4', 'Number'), ('번', 'Noun'), ('중', 'Noun'), ('1', 'Number'), ('번', 'Noun'), ('변', 'Noun'), ('이', 'Josa'), ('남아있는', 'Verb'), ('느낌', 'Noun')]\n",
      "[('4', 'Number'), ('번', 'Noun'), ('중', 'Noun'), ('1', 'Number'), ('번', 'Noun'), ('손가락', 'Noun'), ('을', 'Josa'), ('써야', 'Verb'), ('함', 'Noun')]\n",
      "[('4', 'Number'), ('번', 'Noun'), ('중', 'Noun'), ('1', 'Number'), ('번', 'Noun'), ('항문', 'Noun'), ('이', 'Josa'), ('막히는', 'Verb'), ('느낌', 'Noun')]\n",
      "[('4', 'Number'), ('번', 'Noun'), ('중', 'Noun'), ('1', 'Number'), ('번', 'Noun'), ('힘', 'Noun'), ('을', 'Josa'), ('많이', 'Adverb'), ('줘야', 'Verb'), ('함', 'Noun')]\n",
      "[('PSA', 'Alpha'), ('가', 'Verb'), ('높음', 'Adjective')]\n",
      "[('가는', 'Verb'), ('변', 'Noun')]\n",
      "[('가래', 'Noun')]\n",
      "[('가래', 'Noun'), ('가', 'Josa'), ('동반', 'Noun'), ('된', 'Verb')]\n",
      "[('가래', 'Noun'), ('를', 'Josa'), ('동반', 'Noun'), ('하는', 'Verb')]\n",
      "[('가려움', 'Noun')]\n",
      "[('가만히', 'Adverb'), ('있을', 'Adjective'), ('때', 'Noun')]\n",
      "[('가슴', 'Noun'), ('답답', 'Noun')]\n",
      "[('가슴', 'Noun'), ('함몰', 'Noun')]\n",
      "[('가슴', 'Noun'), ('이', 'Josa'), ('답답한', 'Adjective'), ('느낌', 'Noun'), ('의', 'Josa')]\n",
      "[('가슴', 'Noun'), ('이', 'Josa'), ('답답한', 'Adjective'), ('느낌', 'Noun'), ('의', 'Josa')]\n",
      "[('가슴', 'Noun'), ('이', 'Josa'), ('답답한', 'Adjective'), ('느낌', 'Noun'), ('의', 'Josa')]\n",
      "[('가슴', 'Noun'), ('이', 'Josa'), ('답답한', 'Adjective'), ('느낌', 'Noun'), ('의', 'Josa')]\n",
      "[('가족', 'Noun'), ('요로', 'Noun'), ('계', 'Suffix'), ('종양', 'Noun'), ('암', 'Noun'), ('병력', 'Noun')]\n",
      "[('가족', 'Noun'), ('중', 'Noun'), ('비슷한', 'Adjective'), ('증상', 'Noun'), ('이', 'Josa'), ('있음', 'Adjective')]\n"
     ]
    }
   ],
   "source": [
    "for i in range(1,30):\n",
    "    print(pheno['morpheme_list'][i])"
   ]
  },
  {
   "cell_type": "markdown",
   "id": "6e115923",
   "metadata": {},
   "source": [
    "### 명사에 해당하는 형태소만 추출"
   ]
  },
  {
   "cell_type": "code",
   "execution_count": 47,
   "id": "c7748a4a",
   "metadata": {},
   "outputs": [],
   "source": [
    "Noun_list=[]\n",
    "Verb_list=[]\n",
    "Adjective_list=[]\n",
    "Adverb_list=[]\n",
    "Conjunction_list=[]\n",
    "Number_list=[]\n",
    "\n",
    "\n",
    "for i in pheno['morpheme_list'] :\n",
    "    a = []\n",
    "    b = []\n",
    "    c = []\n",
    "    d = []\n",
    "    e = []\n",
    "    f = []\n",
    "    \n",
    "    for j in i :\n",
    "        term = j[0]\n",
    "        pos = j[-1]\n",
    "        if pos == 'Noun' or pos == 'Foreign' or pos == 'Alpha' :\n",
    "            a.append(term)\n",
    "        elif pos == 'Verb' :\n",
    "            b.append(term)\n",
    "        elif pos == 'Adjective' :\n",
    "            c.append(term)\n",
    "        elif pos == 'Adverb' :\n",
    "            d.append(term)\n",
    "        elif pos == 'Conjunction' :\n",
    "            e.append(term)\n",
    "        elif pos == 'Number' :\n",
    "            f.append(term)\n",
    "            \n",
    "    Noun_list.append(a)\n",
    "    Verb_list.append(b)\n",
    "    Adjective_list.append(c)\n",
    "    Adverb_list.append(d)\n",
    "    Conjunction_list.append(e)\n",
    "    Number_list.append(f)\n",
    "    \n",
    "\n",
    "pheno['noun_list'] = Noun_list\n",
    "pheno['verb_list'] = Verb_list\n",
    "pheno['adjective_list'] = Adjective_list\n",
    "pheno['adverb_list'] = Adverb_list\n",
    "pheno['conjunction_list'] = Conjunction_list\n",
    "pheno['number_list'] = Number_list"
   ]
  },
  {
   "cell_type": "markdown",
   "id": "d2993941",
   "metadata": {},
   "source": [
    "### CSV 저장"
   ]
  },
  {
   "cell_type": "code",
   "execution_count": 48,
   "id": "83ed985e",
   "metadata": {},
   "outputs": [],
   "source": [
    "pheno.to_csv('211014_명사_추출본.csv', encoding='euc-kr')"
   ]
  }
 ],
 "metadata": {
  "kernelspec": {
   "display_name": "Python 3",
   "language": "python",
   "name": "python3"
  },
  "language_info": {
   "codemirror_mode": {
    "name": "ipython",
    "version": 3
   },
   "file_extension": ".py",
   "mimetype": "text/x-python",
   "name": "python",
   "nbconvert_exporter": "python",
   "pygments_lexer": "ipython3",
   "version": "3.8.8"
  }
 },
 "nbformat": 4,
 "nbformat_minor": 5
}
