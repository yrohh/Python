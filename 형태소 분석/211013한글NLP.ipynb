{
 "cells": [
  {
   "cell_type": "markdown",
   "id": "103398ea",
   "metadata": {},
   "source": [
    "## 211014"
   ]
  },
  {
   "cell_type": "markdown",
   "id": "9aa92a2f",
   "metadata": {},
   "source": [
    "### 라이브러리 로드"
   ]
  },
  {
   "cell_type": "code",
   "execution_count": 94,
   "id": "699fbdb7",
   "metadata": {},
   "outputs": [
    {
     "name": "stderr",
     "output_type": "stream",
     "text": [
      "[nltk_data] Downloading package punkt to\n",
      "[nltk_data]     C:\\Users\\belab\\AppData\\Roaming\\nltk_data...\n",
      "[nltk_data]   Package punkt is already up-to-date!\n"
     ]
    },
    {
     "data": {
      "text/plain": [
       "True"
      ]
     },
     "execution_count": 94,
     "metadata": {},
     "output_type": "execute_result"
    }
   ],
   "source": [
    "from elasticsearch import Elasticsearch, helpers\n",
    "import pandas as pd\n",
    "import csv\n",
    "from pprint import pprint # Json 출력 인덴트 주어 보기 편하게 출력.\n",
    "import pandas as pd # 데이터프레임 가공을 위한 라이브러리.\n",
    "import psycopg2 # 데이터베이스 연동을 위한 라이브러리.\n",
    "from konlpy.tag import Twitter, Kkma # 한글 형태소 분석 위한 라이브러리.\n",
    "import nltk # 영문 형태소 분석 + 명사, 동사 등 품사 구분 위한 라이브러리.\n",
    "nltk.download('punkt')\n",
    "nltk.download('averaged_perceptron_tagger')"
   ]
  },
  {
   "cell_type": "code",
   "execution_count": 3,
   "id": "da660e09",
   "metadata": {},
   "outputs": [
    {
     "data": {
      "text/plain": [
       "[('저', 'Noun'), ('는', 'Josa'), ('윤준', 'Noun'), ('입니다', 'Adjective')]"
      ]
     },
     "execution_count": 3,
     "metadata": {},
     "output_type": "execute_result"
    }
   ],
   "source": [
    "test = Twitter()\n",
    "test.pos(\"저는 윤준 입니다\")"
   ]
  },
  {
   "cell_type": "markdown",
   "id": "337d3d6c",
   "metadata": {},
   "source": [
    "### 엘라스틱 연동"
   ]
  },
  {
   "cell_type": "code",
   "execution_count": 4,
   "id": "09b295f4",
   "metadata": {
    "scrolled": true
   },
   "outputs": [
    {
     "data": {
      "text/plain": [
       "{'name': '6d37a750a0ac', 'cluster_name': 'docker-cluster', 'cluster_uuid': '', 'version': {'number': '7.3.1', 'build_flavor': 'default', 'build_type': 'docker', 'build_hash': '4749ba6', 'build_date': '2019-08-19T20:19:25.651794Z', 'build_snapshot': False, 'lucene_version': '8.1.0', 'minimum_wire_compatibility_version': '6.8.0', 'minimum_index_compatibility_version': '6.0.0-beta1'}, 'tagline': 'You Know, for Search'}"
      ]
     },
     "execution_count": 4,
     "metadata": {},
     "output_type": "execute_result"
    }
   ],
   "source": [
    "es = Elasticsearch(\"\")\n",
    "es.info()"
   ]
  },
  {
   "cell_type": "markdown",
   "id": "7e1d11ff",
   "metadata": {},
   "source": [
    "### search 구문은 query from size sort 로 구성"
   ]
  },
  {
   "cell_type": "code",
   "execution_count": 70,
   "id": "5f6f4efb",
   "metadata": {
    "scrolled": false
   },
   "outputs": [
    {
     "name": "stderr",
     "output_type": "stream",
     "text": [
      "<ipython-input-70-538cba4549b4>:2: DeprecationWarning: The 'body' parameter is deprecated for the 'search' API and will be removed in 8.0.0. Instead use API parameters directly. See https://github.com/elastic/elasticsearch-py/issues/1698 for more information\n",
      "  test = es.search(index='pheno', body={\"from\":0, \"size\":1224,\"query\" : {\"match_all\" : {}}})\n"
     ]
    }
   ],
   "source": [
    "# pprint(es.search(index='pheno', body={\"query\" : {\"match_all\" : {}}}))\n",
    "test = es.search(index='pheno', body={\"from\":0, \"size\":1224,\"query\" : {\"match_all\" : {}}})\n",
    "# pprint(test)\n",
    "\n",
    "li = []\n",
    "for i in range(0,1224):\n",
    "    input_val = test['hits']['hits'][i]['_source']['pheno_origin']\n",
    "    li.append(input_val)"
   ]
  },
  {
   "cell_type": "markdown",
   "id": "f321c12a",
   "metadata": {},
   "source": [
    "* pheno에서 원본 증/현상명 가져와 리스트에 저장"
   ]
  },
  {
   "cell_type": "markdown",
   "id": "bd5165a6",
   "metadata": {},
   "source": [
    "### count(*) 수행"
   ]
  },
  {
   "cell_type": "code",
   "execution_count": 38,
   "id": "0e0d7440",
   "metadata": {
    "scrolled": false
   },
   "outputs": [
    {
     "name": "stderr",
     "output_type": "stream",
     "text": [
      "<ipython-input-38-56fc07363d1d>:1: DeprecationWarning: The 'body' parameter is deprecated for the 'search' API and will be removed in 8.0.0. Instead use API parameters directly. See https://github.com/elastic/elasticsearch-py/issues/1698 for more information\n",
      "  es.search(index='pheno', body={\n"
     ]
    },
    {
     "data": {
      "text/plain": [
       "{'took': 1, 'timed_out': False, '_shards': {'total': 1, 'successful': 1, 'skipped': 0, 'failed': 0}, 'hits': {'total': {'value': 1224, 'relation': 'eq'}, 'max_score': 1.0, 'hits': [{'_index': 'pheno', '_type': '_doc', '_id': '1', '_score': 1.0, '_source': {}}, {'_index': 'pheno', '_type': '_doc', '_id': '2', '_score': 1.0, '_source': {}}, {'_index': 'pheno', '_type': '_doc', '_id': '3', '_score': 1.0, '_source': {}}, {'_index': 'pheno', '_type': '_doc', '_id': '4', '_score': 1.0, '_source': {}}, {'_index': 'pheno', '_type': '_doc', '_id': '5', '_score': 1.0, '_source': {}}, {'_index': 'pheno', '_type': '_doc', '_id': '6', '_score': 1.0, '_source': {}}, {'_index': 'pheno', '_type': '_doc', '_id': '7', '_score': 1.0, '_source': {}}, {'_index': 'pheno', '_type': '_doc', '_id': '8', '_score': 1.0, '_source': {}}, {'_index': 'pheno', '_type': '_doc', '_id': '9', '_score': 1.0, '_source': {}}, {'_index': 'pheno', '_type': '_doc', '_id': '10', '_score': 1.0, '_source': {}}]}}"
      ]
     },
     "execution_count": 38,
     "metadata": {},
     "output_type": "execute_result"
    }
   ],
   "source": [
    "es.search(index='pheno', body={\n",
    "  \"query\": {\n",
    "    \"bool\": {\n",
    "      \"must\": []\n",
    "    }\n",
    "  },\n",
    "  \"_source\": [\n",
    "    \"count\"\n",
    "  ]\n",
    "})"
   ]
  },
  {
   "cell_type": "markdown",
   "id": "495a19f2",
   "metadata": {},
   "source": [
    "---------------------------\n",
    "### PAPAGO API"
   ]
  },
  {
   "cell_type": "markdown",
   "id": "",
   "metadata": {},
   "source": [
    "client id : <br>\n",
    "client pw : "
   ]
  },
  {
   "cell_type": "code",
   "execution_count": 84,
   "id": "d7ec518a",
   "metadata": {},
   "outputs": [],
   "source": [
    "import requests\n",
    "import os\n",
    "import sys\n",
    "import urllib.request\n",
    "import json\n",
    "\n",
    "\n",
    "def translate_with_papago(arg) :\n",
    "    try :\n",
    "        client_id = \"\"\n",
    "        client_secret = \"\"\n",
    "        encText = urllib.parse.quote(arg)\n",
    "        data = \"source=ko&target=en&text=\" + encText\n",
    "        url = \"https://naveropenapi.apigw.ntruss.com/nmt/v1/translation\"\n",
    "        request = urllib.request.Request(url)\n",
    "        request.add_header(\"X-NCP-APIGW-API-KEY-ID\",client_id)\n",
    "        request.add_header(\"X-NCP-APIGW-API-KEY\",client_secret)\n",
    "        response = urllib.request.urlopen(request, data=data.encode(\"utf-8\"))\n",
    "        rescode = response.getcode()\n",
    "        \n",
    "        response_body = response.read()\n",
    "        res = json.loads(response_body.decode('utf-8'))\n",
    "        tp = res['message']['result']['translatedText'] # 영문 추출.\n",
    "        tp = del_dot(tp) # 영문 특수문자 제거.\n",
    "        \n",
    "        return tp # 반환.\n",
    "\n",
    "    except :\n",
    "        return (\"Error Code:\" + rescode)\n",
    "    \n",
    "\n",
    "# 특수문자 제거 함수.\n",
    "def del_dot(arg) :\n",
    "    tp = arg.replace('.','')\n",
    "    tp = tp.replace('\"','')\n",
    "    tp = tp.split('/')[0].strip()\n",
    "    return tp"
   ]
  },
  {
   "cell_type": "markdown",
   "id": "4e498ad8",
   "metadata": {},
   "source": [
    "### list -> dataframe 변환"
   ]
  },
  {
   "cell_type": "code",
   "execution_count": 79,
   "id": "2b9cb71c",
   "metadata": {},
   "outputs": [],
   "source": [
    "df = pd.DataFrame(li, columns=['pheno_origin'])"
   ]
  },
  {
   "cell_type": "markdown",
   "id": "32c85289",
   "metadata": {},
   "source": [
    "### 영문 변환"
   ]
  },
  {
   "cell_type": "code",
   "execution_count": 85,
   "id": "9a265f40",
   "metadata": {},
   "outputs": [],
   "source": [
    "df['pheno_origin_eng'] = df['pheno_origin'].apply(translate_with_papago)"
   ]
  },
  {
   "cell_type": "markdown",
   "id": "c6d6e8d8",
   "metadata": {},
   "source": [
    "### 형태소 분석 함수 생성"
   ]
  },
  {
   "cell_type": "code",
   "execution_count": 86,
   "id": "29d6395e",
   "metadata": {},
   "outputs": [],
   "source": [
    "def eng_morpheme_analysis(arg) :\n",
    "    tp = nltk.tag.pos_tag(nltk.tokenize.word_tokenize(arg))\n",
    "    return tp"
   ]
  },
  {
   "cell_type": "code",
   "execution_count": 99,
   "id": "5cb42412",
   "metadata": {},
   "outputs": [
    {
     "data": {
      "text/plain": [
       "[('Dizziness', 'NN')]"
      ]
     },
     "execution_count": 99,
     "metadata": {},
     "output_type": "execute_result"
    }
   ],
   "source": [
    "temp = df['pheno_origin_eng'].apply(eng_morpheme_analysis)"
   ]
  },
  {
   "cell_type": "code",
   "execution_count": 105,
   "id": "e4e2ae7b",
   "metadata": {},
   "outputs": [
    {
     "data": {
      "text/plain": [
       "0                                    [(Dizziness, NN)]\n",
       "1                                        [(cough, NN)]\n",
       "2                           [(Runny, NNP), (nose, NN)]\n",
       "3    [(a, DT), (pain, NN), (in, IN), (the, DT), (gu...\n",
       "4                                    [(Vomiting, VBG)]\n",
       "Name: pheno_origin_eng, dtype: object"
      ]
     },
     "execution_count": 105,
     "metadata": {},
     "output_type": "execute_result"
    }
   ],
   "source": [
    "temp.head(5)"
   ]
  },
  {
   "cell_type": "code",
   "execution_count": 133,
   "id": "7df88335",
   "metadata": {},
   "outputs": [],
   "source": [
    "b=[]\n",
    "for i in temp :\n",
    "    a = []\n",
    "    for j in i :        \n",
    "        term = j[0]\n",
    "        morpheme = j[-1]\n",
    "        if morpheme in ('NN', 'NNS', 'NNP', 'NNPS', 'PRP', 'PRP$', 'WP', 'WP$'):\n",
    "            morpheme = '명사'\n",
    "        elif morpheme in ('VB', 'VBD', 'VBG', 'VBN', 'VBP', 'VBZ', 'WP', 'WP$', 'MD'):\n",
    "            morpheme = '동사'\n",
    "        elif morpheme in ('JJ', 'JJR', 'JJS'):\n",
    "            morpheme = '형용사'\n",
    "        elif morpheme in ('RB', 'RBR', 'RBS'):\n",
    "            morpheme = '부사'\n",
    "        elif morpheme in ('IN'):\n",
    "            morpheme = '전치사'\n",
    "        tu = (term, morpheme)\n",
    "        a.append(tu)\n",
    "    b.append(a)"
   ]
  },
  {
   "cell_type": "code",
   "execution_count": 135,
   "id": "d20d2925",
   "metadata": {},
   "outputs": [],
   "source": [
    "df['morpheme'] = b"
   ]
  }
 ],
 "metadata": {
  "kernelspec": {
   "display_name": "Python 3",
   "language": "python",
   "name": "python3"
  },
  "language_info": {
   "codemirror_mode": {
    "name": "ipython",
    "version": 3
   },
   "file_extension": ".py",
   "mimetype": "text/x-python",
   "name": "python",
   "nbconvert_exporter": "python",
   "pygments_lexer": "ipython3",
   "version": "3.8.8"
  }
 },
 "nbformat": 4,
 "nbformat_minor": 5
}
