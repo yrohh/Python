{
 "cells": [
  {
   "cell_type": "code",
   "execution_count": 1,
   "metadata": {},
   "outputs": [],
   "source": [
    "import pandas as pd\n",
    "import numpy as np\n",
    "from pandas import DataFrame, Series\n",
    "import matplotlib.pyplot as plt"
   ]
  },
  {
   "cell_type": "code",
   "execution_count": 2,
   "metadata": {},
   "outputs": [],
   "source": [
    "강원 = pd.read_csv('C:/Users/user/Desktop/교통사고/빅데이터인턴분석자료통합버전_강원.csv', encoding='CP949')"
   ]
  },
  {
   "cell_type": "code",
   "execution_count": 3,
   "metadata": {},
   "outputs": [
    {
     "data": {
      "text/plain": [
       "(41121, 58)"
      ]
     },
     "execution_count": 3,
     "metadata": {},
     "output_type": "execute_result"
    }
   ],
   "source": [
    "강원.shape"
   ]
  },
  {
   "cell_type": "code",
   "execution_count": 4,
   "metadata": {},
   "outputs": [
    {
     "name": "stdout",
     "output_type": "stream",
     "text": [
      "<class 'pandas.core.frame.DataFrame'>\n",
      "RangeIndex: 41121 entries, 0 to 41120\n",
      "Data columns (total 58 columns):\n",
      " #   Column        Non-Null Count  Dtype \n",
      "---  ------        --------------  ----- \n",
      " 0   사고번호          41121 non-null  int64 \n",
      " 1   발생일시          41121 non-null  int64 \n",
      " 2   발생지_시도        41121 non-null  object\n",
      " 3   발생지_시군구       41121 non-null  object\n",
      " 4   법정동코드         41121 non-null  int64 \n",
      " 5   요일            41121 non-null  object\n",
      " 6   주야            41121 non-null  object\n",
      " 7   사고내용          41121 non-null  object\n",
      " 8   사고유형_대분류      41121 non-null  object\n",
      " 9   사고유형_중분류      41121 non-null  object\n",
      " 10  사고유형          41121 non-null  object\n",
      " 11  가해자성별         41121 non-null  object\n",
      " 12  피해자성별         41121 non-null  object\n",
      " 13  연령가해자         41121 non-null  object\n",
      " 14  연령피해자         41121 non-null  object\n",
      " 15  가해자음주_대분류     41121 non-null  object\n",
      " 16  가해자음주         41121 non-null  object\n",
      " 17  보호장구가해자_대분류   41121 non-null  object\n",
      " 18  보호장구가해자       41121 non-null  object\n",
      " 19  보호장구피해자_대분류   41121 non-null  object\n",
      " 20  보호장구피해자       41121 non-null  object\n",
      " 21  법규위반가해자       41121 non-null  object\n",
      " 22  행동유형가해자_대분류   41121 non-null  object\n",
      " 23  행동유형가해자_중분류   41121 non-null  object\n",
      " 24  행동유형가해자       41121 non-null  object\n",
      " 25  신체상해정도가해자     41121 non-null  object\n",
      " 26  신체상해정도피해자     41121 non-null  object\n",
      " 27  가해자신체상해주부위    41121 non-null  object\n",
      " 28  피해자신체상해주부위    41121 non-null  object\n",
      " 29  당사자종별가해자_대분류  41121 non-null  object\n",
      " 30  당사자종별가해자      41121 non-null  object\n",
      " 31  당사자종별피해자_대분류  41121 non-null  object\n",
      " 32  당사자종별피해자      41121 non-null  object\n",
      " 33  차량용도가해자_대분류   41121 non-null  object\n",
      " 34  차량용도가해자_중분류   41121 non-null  object\n",
      " 35  차량용도가해자       41121 non-null  object\n",
      " 36  차량용도피해자_대분류   41121 non-null  object\n",
      " 37  차량용도피해자_중분류   41121 non-null  object\n",
      " 38  차량용도피해자       41121 non-null  object\n",
      " 39  도로종류          41121 non-null  object\n",
      " 40  도로형태_대분류      41121 non-null  object\n",
      " 41  도로형태          41121 non-null  object\n",
      " 42  노인보호구역_여부     41121 non-null  object\n",
      " 43  어린이보호구역_여부    41121 non-null  object\n",
      " 44  자전거도로_여부      25316 non-null  object\n",
      " 45  도로선형_대분류      41121 non-null  object\n",
      " 46  도로선형_중분류      41121 non-null  object\n",
      " 47  도로선형          41121 non-null  object\n",
      " 48  기상상태          41121 non-null  object\n",
      " 49  노면상태_대분류      41121 non-null  object\n",
      " 50  노면상태          41121 non-null  object\n",
      " 51  교차로형태_대분류     41121 non-null  object\n",
      " 52  교차로형태         41121 non-null  object\n",
      " 53  사망자수          41121 non-null  int64 \n",
      " 54  중상자수          41121 non-null  int64 \n",
      " 55  경상자수          41121 non-null  int64 \n",
      " 56  부상신고자수        41121 non-null  int64 \n",
      " 57  사고위치폴리곤       41121 non-null  object\n",
      "dtypes: int64(7), object(51)\n",
      "memory usage: 18.2+ MB\n"
     ]
    }
   ],
   "source": [
    "강원.info()"
   ]
  },
  {
   "cell_type": "code",
   "execution_count": 5,
   "metadata": {},
   "outputs": [
    {
     "data": {
      "text/plain": [
       "array(['51세', '불명', '54세', '37세', '44세', '72세', '13세', '48세', '47세',\n",
       "       '53세', '57세', '40세', '36세', '45세', '35세', '33세', '58세', '39세',\n",
       "       '68세', '50세', '21세', '62세', '17세', '29세', '23세', '30세', '75세',\n",
       "       '60세', '19세', '38세', '43세', '46세', '20세', '8세', '41세', '52세',\n",
       "       '84세', '70세', '49세', '34세', '32세', '18세', '56세', '26세', '89세',\n",
       "       '85세', '67세', '80세', '28세', '78세', '42세', '24세', '55세', '31세',\n",
       "       '76세', '61세', '59세', '73세', '69세', '27세', '71세', '22세', '66세',\n",
       "       '65세', '16세', '4세', '88세', '9세', '63세', '10세', '14세', '15세', '64세',\n",
       "       '74세', '5세', '79세', '7세', '25세', '81세', '11세', '95세', '77세', '6세',\n",
       "       '83세', '86세', '1세', '92세', '82세', '93세', '3세', '87세', '94세', '12세',\n",
       "       '90세', '98세', '2세', '91세', '96세', '97세', '99세', '100세', '없음'],\n",
       "      dtype=object)"
      ]
     },
     "execution_count": 5,
     "metadata": {},
     "output_type": "execute_result"
    }
   ],
   "source": [
    "강원.연령피해자.unique()"
   ]
  },
  {
   "cell_type": "code",
   "execution_count": 6,
   "metadata": {},
   "outputs": [],
   "source": [
    "강원.loc[(강원['연령피해자']=='불명')|(강원['연령피해자']=='없음'),'연령피해자'] = 50"
   ]
  },
  {
   "cell_type": "code",
   "execution_count": 7,
   "metadata": {},
   "outputs": [
    {
     "data": {
      "text/plain": [
       "0         51\n",
       "1        NaN\n",
       "2         54\n",
       "3         37\n",
       "4         44\n",
       "        ... \n",
       "41116     52\n",
       "41117     67\n",
       "41118     47\n",
       "41119     51\n",
       "41120     35\n",
       "Name: 피해자연령, Length: 41121, dtype: object"
      ]
     },
     "execution_count": 7,
     "metadata": {},
     "output_type": "execute_result"
    }
   ],
   "source": [
    "강원['피해자연령'] = 강원['연령피해자'].str[:-1]\n",
    "강원['피해자연령']"
   ]
  },
  {
   "cell_type": "code",
   "execution_count": 8,
   "metadata": {},
   "outputs": [],
   "source": [
    "강원 = 강원.dropna(subset=['피해자연령'])"
   ]
  },
  {
   "cell_type": "code",
   "execution_count": 9,
   "metadata": {},
   "outputs": [
    {
     "data": {
      "text/html": [
       "<div>\n",
       "<style scoped>\n",
       "    .dataframe tbody tr th:only-of-type {\n",
       "        vertical-align: middle;\n",
       "    }\n",
       "\n",
       "    .dataframe tbody tr th {\n",
       "        vertical-align: top;\n",
       "    }\n",
       "\n",
       "    .dataframe thead th {\n",
       "        text-align: right;\n",
       "    }\n",
       "</style>\n",
       "<table border=\"1\" class=\"dataframe\">\n",
       "  <thead>\n",
       "    <tr style=\"text-align: right;\">\n",
       "      <th></th>\n",
       "      <th>사고번호</th>\n",
       "      <th>발생일시</th>\n",
       "      <th>발생지_시도</th>\n",
       "      <th>발생지_시군구</th>\n",
       "      <th>법정동코드</th>\n",
       "      <th>요일</th>\n",
       "      <th>주야</th>\n",
       "      <th>사고내용</th>\n",
       "      <th>사고유형_대분류</th>\n",
       "      <th>사고유형_중분류</th>\n",
       "      <th>...</th>\n",
       "      <th>노면상태_대분류</th>\n",
       "      <th>노면상태</th>\n",
       "      <th>교차로형태_대분류</th>\n",
       "      <th>교차로형태</th>\n",
       "      <th>사망자수</th>\n",
       "      <th>중상자수</th>\n",
       "      <th>경상자수</th>\n",
       "      <th>부상신고자수</th>\n",
       "      <th>사고위치폴리곤</th>\n",
       "      <th>피해자연령</th>\n",
       "    </tr>\n",
       "  </thead>\n",
       "  <tbody>\n",
       "    <tr>\n",
       "      <th>0</th>\n",
       "      <td>2015010100100019</td>\n",
       "      <td>2015010100</td>\n",
       "      <td>강원</td>\n",
       "      <td>춘천시</td>\n",
       "      <td>4211031022</td>\n",
       "      <td>목</td>\n",
       "      <td>야</td>\n",
       "      <td>중상</td>\n",
       "      <td>차대차</td>\n",
       "      <td>측면충돌</td>\n",
       "      <td>...</td>\n",
       "      <td>포장</td>\n",
       "      <td>건조</td>\n",
       "      <td>교차로</td>\n",
       "      <td>교차로 - 사지</td>\n",
       "      <td>0</td>\n",
       "      <td>1</td>\n",
       "      <td>3</td>\n",
       "      <td>0</td>\n",
       "      <td>POLYGON((1023551 1986551,1023551 1986600,10236...</td>\n",
       "      <td>51</td>\n",
       "    </tr>\n",
       "    <tr>\n",
       "      <th>2</th>\n",
       "      <td>2015010200100075</td>\n",
       "      <td>2015010208</td>\n",
       "      <td>강원</td>\n",
       "      <td>춘천시</td>\n",
       "      <td>4211012400</td>\n",
       "      <td>금</td>\n",
       "      <td>주</td>\n",
       "      <td>경상</td>\n",
       "      <td>차대차</td>\n",
       "      <td>추돌</td>\n",
       "      <td>...</td>\n",
       "      <td>포장</td>\n",
       "      <td>건조</td>\n",
       "      <td>교차로</td>\n",
       "      <td>교차로 - 사지</td>\n",
       "      <td>0</td>\n",
       "      <td>0</td>\n",
       "      <td>2</td>\n",
       "      <td>0</td>\n",
       "      <td>POLYGON((1021101 1984151,1021101 1984200,10211...</td>\n",
       "      <td>54</td>\n",
       "    </tr>\n",
       "    <tr>\n",
       "      <th>3</th>\n",
       "      <td>2015010200100205</td>\n",
       "      <td>2015010213</td>\n",
       "      <td>강원</td>\n",
       "      <td>춘천시</td>\n",
       "      <td>4211012100</td>\n",
       "      <td>금</td>\n",
       "      <td>주</td>\n",
       "      <td>경상</td>\n",
       "      <td>차대차</td>\n",
       "      <td>추돌</td>\n",
       "      <td>...</td>\n",
       "      <td>포장</td>\n",
       "      <td>건조</td>\n",
       "      <td>교차로아님</td>\n",
       "      <td>교차로아님</td>\n",
       "      <td>0</td>\n",
       "      <td>0</td>\n",
       "      <td>1</td>\n",
       "      <td>0</td>\n",
       "      <td>POLYGON((1019201 1985201,1019201 1985250,10192...</td>\n",
       "      <td>37</td>\n",
       "    </tr>\n",
       "    <tr>\n",
       "      <th>4</th>\n",
       "      <td>2015010200100417</td>\n",
       "      <td>2015010220</td>\n",
       "      <td>강원</td>\n",
       "      <td>춘천시</td>\n",
       "      <td>4211012100</td>\n",
       "      <td>금</td>\n",
       "      <td>야</td>\n",
       "      <td>경상</td>\n",
       "      <td>차대차</td>\n",
       "      <td>측면충돌</td>\n",
       "      <td>...</td>\n",
       "      <td>포장</td>\n",
       "      <td>건조</td>\n",
       "      <td>교차로</td>\n",
       "      <td>교차로 - 사지</td>\n",
       "      <td>0</td>\n",
       "      <td>0</td>\n",
       "      <td>1</td>\n",
       "      <td>0</td>\n",
       "      <td>POLYGON((1019551 1984451,1019551 1984500,10196...</td>\n",
       "      <td>44</td>\n",
       "    </tr>\n",
       "    <tr>\n",
       "      <th>5</th>\n",
       "      <td>2015010300100210</td>\n",
       "      <td>2015010312</td>\n",
       "      <td>강원</td>\n",
       "      <td>춘천시</td>\n",
       "      <td>4211012000</td>\n",
       "      <td>토</td>\n",
       "      <td>주</td>\n",
       "      <td>경상</td>\n",
       "      <td>차대차</td>\n",
       "      <td>측면충돌</td>\n",
       "      <td>...</td>\n",
       "      <td>포장</td>\n",
       "      <td>건조</td>\n",
       "      <td>교차로</td>\n",
       "      <td>교차로 - 사지</td>\n",
       "      <td>0</td>\n",
       "      <td>0</td>\n",
       "      <td>1</td>\n",
       "      <td>0</td>\n",
       "      <td>POLYGON((1021901 1987201,1021901 1987250,10219...</td>\n",
       "      <td>72</td>\n",
       "    </tr>\n",
       "  </tbody>\n",
       "</table>\n",
       "<p>5 rows × 59 columns</p>\n",
       "</div>"
      ],
      "text/plain": [
       "               사고번호        발생일시 발생지_시도 발생지_시군구       법정동코드 요일 주야 사고내용  \\\n",
       "0  2015010100100019  2015010100     강원     춘천시  4211031022  목  야   중상   \n",
       "2  2015010200100075  2015010208     강원     춘천시  4211012400  금  주   경상   \n",
       "3  2015010200100205  2015010213     강원     춘천시  4211012100  금  주   경상   \n",
       "4  2015010200100417  2015010220     강원     춘천시  4211012100  금  야   경상   \n",
       "5  2015010300100210  2015010312     강원     춘천시  4211012000  토  주   경상   \n",
       "\n",
       "  사고유형_대분류 사고유형_중분류  ... 노면상태_대분류 노면상태 교차로형태_대분류     교차로형태 사망자수 중상자수 경상자수  \\\n",
       "0      차대차     측면충돌  ...       포장   건조       교차로  교차로 - 사지    0    1    3   \n",
       "2      차대차       추돌  ...       포장   건조       교차로  교차로 - 사지    0    0    2   \n",
       "3      차대차       추돌  ...       포장   건조     교차로아님     교차로아님    0    0    1   \n",
       "4      차대차     측면충돌  ...       포장   건조       교차로  교차로 - 사지    0    0    1   \n",
       "5      차대차     측면충돌  ...       포장   건조       교차로  교차로 - 사지    0    0    1   \n",
       "\n",
       "  부상신고자수                                            사고위치폴리곤 피해자연령  \n",
       "0      0  POLYGON((1023551 1986551,1023551 1986600,10236...    51  \n",
       "2      0  POLYGON((1021101 1984151,1021101 1984200,10211...    54  \n",
       "3      0  POLYGON((1019201 1985201,1019201 1985250,10192...    37  \n",
       "4      0  POLYGON((1019551 1984451,1019551 1984500,10196...    44  \n",
       "5      0  POLYGON((1021901 1987201,1021901 1987250,10219...    72  \n",
       "\n",
       "[5 rows x 59 columns]"
      ]
     },
     "execution_count": 9,
     "metadata": {},
     "output_type": "execute_result"
    }
   ],
   "source": [
    "강원.head()"
   ]
  },
  {
   "cell_type": "code",
   "execution_count": 10,
   "metadata": {},
   "outputs": [],
   "source": [
    "강원['피해자연령'] = 강원['피해자연령'].astype('int')"
   ]
  },
  {
   "cell_type": "code",
   "execution_count": 11,
   "metadata": {},
   "outputs": [],
   "source": [
    "강원피고령 = 강원.loc[강원['피해자연령']>=65]\n",
    "강원피어린 = 강원.loc[강원['피해자연령']<=13]"
   ]
  },
  {
   "cell_type": "code",
   "execution_count": 23,
   "metadata": {},
   "outputs": [
    {
     "data": {
      "text/plain": [
       "(2092, 723)"
      ]
     },
     "execution_count": 23,
     "metadata": {},
     "output_type": "execute_result"
    }
   ],
   "source": [
    "len(강원피고령),len(강원피어린)"
   ]
  },
  {
   "cell_type": "code",
   "execution_count": 13,
   "metadata": {},
   "outputs": [
    {
     "name": "stderr",
     "output_type": "stream",
     "text": [
      "<ipython-input-13-631060ecf2f1>:1: SettingWithCopyWarning: \n",
      "A value is trying to be set on a copy of a slice from a DataFrame.\n",
      "Try using .loc[row_indexer,col_indexer] = value instead\n",
      "\n",
      "See the caveats in the documentation: https://pandas.pydata.org/pandas-docs/stable/user_guide/indexing.html#returning-a-view-versus-a-copy\n",
      "  강원피고령['발생일시'] = 강원피고령['발생일시'].astype('str')\n",
      "<ipython-input-13-631060ecf2f1>:2: SettingWithCopyWarning: \n",
      "A value is trying to be set on a copy of a slice from a DataFrame.\n",
      "Try using .loc[row_indexer,col_indexer] = value instead\n",
      "\n",
      "See the caveats in the documentation: https://pandas.pydata.org/pandas-docs/stable/user_guide/indexing.html#returning-a-view-versus-a-copy\n",
      "  강원피어린['발생일시'] = 강원피어린['발생일시'].astype('str')\n"
     ]
    }
   ],
   "source": [
    "강원피고령['발생일시'] = 강원피고령['발생일시'].astype('str')\n",
    "강원피어린['발생일시'] = 강원피어린['발생일시'].astype('str')"
   ]
  },
  {
   "cell_type": "code",
   "execution_count": 14,
   "metadata": {},
   "outputs": [
    {
     "name": "stderr",
     "output_type": "stream",
     "text": [
      "<ipython-input-14-2c578fdc0073>:1: SettingWithCopyWarning: \n",
      "A value is trying to be set on a copy of a slice from a DataFrame.\n",
      "Try using .loc[row_indexer,col_indexer] = value instead\n",
      "\n",
      "See the caveats in the documentation: https://pandas.pydata.org/pandas-docs/stable/user_guide/indexing.html#returning-a-view-versus-a-copy\n",
      "  강원피고령['발생년도'] = 강원피고령['발생일시'].str[0:4]\n",
      "<ipython-input-14-2c578fdc0073>:2: SettingWithCopyWarning: \n",
      "A value is trying to be set on a copy of a slice from a DataFrame.\n",
      "Try using .loc[row_indexer,col_indexer] = value instead\n",
      "\n",
      "See the caveats in the documentation: https://pandas.pydata.org/pandas-docs/stable/user_guide/indexing.html#returning-a-view-versus-a-copy\n",
      "  강원피어린['발생년도'] = 강원피어린['발생일시'].str[0:4]\n"
     ]
    }
   ],
   "source": [
    "강원피고령['발생년도'] = 강원피고령['발생일시'].str[0:4]\n",
    "강원피어린['발생년도'] = 강원피어린['발생일시'].str[0:4]"
   ]
  },
  {
   "cell_type": "code",
   "execution_count": 15,
   "metadata": {},
   "outputs": [
    {
     "data": {
      "text/plain": [
       "(5701, 60)"
      ]
     },
     "execution_count": 15,
     "metadata": {},
     "output_type": "execute_result"
    }
   ],
   "source": [
    "강원피고령.shape"
   ]
  },
  {
   "cell_type": "code",
   "execution_count": 16,
   "metadata": {},
   "outputs": [
    {
     "data": {
      "text/plain": [
       "(944, 60)"
      ]
     },
     "execution_count": 16,
     "metadata": {},
     "output_type": "execute_result"
    }
   ],
   "source": [
    "강원피어린.shape"
   ]
  },
  {
   "cell_type": "code",
   "execution_count": 17,
   "metadata": {},
   "outputs": [],
   "source": [
    "강원피고령 = 강원피고령.loc[강원피고령['사고유형_대분류']=='차대사람']\n",
    "강원피어린 = 강원피어린.loc[강원피어린['사고유형_대분류']=='차대사람']"
   ]
  },
  {
   "cell_type": "code",
   "execution_count": 18,
   "metadata": {},
   "outputs": [],
   "source": [
    "강원피고령['빈도계산용'] = 1\n",
    "강원피고령_빈도 = 강원피고령.groupby('발생년도').빈도계산용.sum()\n",
    "\n",
    "강원피어린['빈도계산용'] = 1\n",
    "강원피어린_빈도 = 강원피어린.groupby('발생년도').빈도계산용.sum()"
   ]
  },
  {
   "cell_type": "code",
   "execution_count": 19,
   "metadata": {},
   "outputs": [
    {
     "data": {
      "text/plain": [
       "array([0, 1, 2, 3, 4])"
      ]
     },
     "execution_count": 19,
     "metadata": {},
     "output_type": "execute_result"
    }
   ],
   "source": [
    "label = ['2015','2016','2017','2018','2019']\n",
    "index = np.arange(len(label))\n",
    "index"
   ]
  },
  {
   "cell_type": "code",
   "execution_count": 20,
   "metadata": {},
   "outputs": [],
   "source": [
    "import matplotlib\n",
    "from matplotlib import font_manager, rc\n",
    "import platform\n",
    "\n",
    "if platform.system() == 'Windows':\n",
    "# 윈도우인 경우\n",
    "    font_name = font_manager.FontProperties(fname=\"c:/Windows/Fonts/malgun.ttf\").get_name()\n",
    "    rc('font', family=font_name)\n",
    "else:    \n",
    "# Mac 인 경우\n",
    "    rc('font', family='AppleGothic')\n",
    "    \n",
    "matplotlib.rcParams['axes.unicode_minus'] = False   \n",
    "#그래프에서 마이너스 기호가 표시되도록 하는 설정입니다. "
   ]
  },
  {
   "cell_type": "code",
   "execution_count": 24,
   "metadata": {},
   "outputs": [
    {
     "data": {
      "image/png": "[encoded data removed]",
      "text/plain": [
       "<Figure size 432x288 with 2 Axes>"
      ]
     },
     "metadata": {
      "needs_background": "light"
     },
     "output_type": "display_data"
    }
   ],
   "source": [
    "plt.subplot(121)\n",
    "plt.bar(index, 강원피고령_빈도)\n",
    "plt.title('고령 보행자 년도별 사고 발생 추이', fontsize=20)\n",
    "plt.xlabel('발생년도', fontsize=18)\n",
    "plt.ylabel('건수', fontsize=18)\n",
    "plt.xticks(index, label, fontsize=15)\n",
    "\n",
    "plt.subplot(122)\n",
    "plt.bar(index, 강원피어린_빈도)\n",
    "plt.title('어린이 보행자 년도별 발생 추이', fontsize=20)\n",
    "plt.xlabel('발생년도', fontsize=18)\n",
    "plt.ylabel('건수', fontsize=18)\n",
    "plt.xticks(index, label, fontsize=15)\n",
    "\n",
    "plt.subplots_adjust(left=0.01, bottom=0.1,  right=3, top=0.9, wspace=0.5, hspace=0.35)\n",
    "plt.show()"
   ]
  },
  {
   "cell_type": "code",
   "execution_count": 33,
   "metadata": {},
   "outputs": [
    {
     "data": {
      "image/png": "[encoded data removed]",
      "text/plain": [
       "<Figure size 432x288 with 1 Axes>"
      ]
     },
     "metadata": {
      "needs_background": "light"
     },
     "output_type": "display_data"
    }
   ],
   "source": [
    "plt.bar(index, 강원피고령_빈도)\n",
    "plt.title('고령 보행자', fontsize=15)\n",
    "plt.xlabel('발생년도', fontsize=15)\n",
    "plt.ylabel('건수', fontsize=15)\n",
    "plt.xticks(index, label, fontsize=15)\n",
    "plt.savefig('강원 고령 보행자 추세.png', dpi = 300)"
   ]
  },
  {
   "cell_type": "code",
   "execution_count": 34,
   "metadata": {},
   "outputs": [
    {
     "data": {
      "image/png": "[encoded data removed]",
      "text/plain": [
       "<Figure size 432x288 with 1 Axes>"
      ]
     },
     "metadata": {
      "needs_background": "light"
     },
     "output_type": "display_data"
    }
   ],
   "source": [
    "plt.bar(index, 강원피어린_빈도)\n",
    "plt.title('어린이 보행자', fontsize=15)\n",
    "plt.xlabel('발생년도', fontsize=15)\n",
    "plt.ylabel('건수', fontsize=15)\n",
    "plt.xticks(index, label, fontsize=15)\n",
    "plt.savefig('강원 어린이 보행자 추세.png', dpi = 300)"
   ]
  },
  {
   "cell_type": "code",
   "execution_count": 71,
   "metadata": {},
   "outputs": [
    {
     "data": {
      "text/plain": [
       "요일\n",
       "금    143\n",
       "목     94\n",
       "수    103\n",
       "월    105\n",
       "일     58\n",
       "토    110\n",
       "화    110\n",
       "Name: 빈도계산용, dtype: int64"
      ]
     },
     "execution_count": 71,
     "metadata": {},
     "output_type": "execute_result"
    }
   ],
   "source": [
    "강원피고령_요일별 = 강원피어린.groupby('요일').빈도계산용.sum()\n",
    "강원피고령_요일별"
   ]
  },
  {
   "cell_type": "code",
   "execution_count": 75,
   "metadata": {},
   "outputs": [],
   "source": [
    "강원피고령_요일별 = pd.DataFrame({'요일':['월','화','수','목','금','토','일'],'건수':[105,110,103,94,143,110,58]})"
   ]
  },
  {
   "cell_type": "code",
   "execution_count": 68,
   "metadata": {},
   "outputs": [],
   "source": [
    "import seaborn as sns"
   ]
  },
  {
   "cell_type": "code",
   "execution_count": 81,
   "metadata": {},
   "outputs": [
    {
     "data": {
      "image/png": "[encoded data removed]",
      "text/plain": [
       "<Figure size 432x288 with 1 Axes>"
      ]
     },
     "metadata": {
      "needs_background": "light"
     },
     "output_type": "display_data"
    },
    {
     "data": {
      "text/plain": [
       "<Figure size 432x288 with 0 Axes>"
      ]
     },
     "metadata": {},
     "output_type": "display_data"
    }
   ],
   "source": [
    "sns.barplot(data=강원피고령_요일별, x='요일',y='건수')\n",
    "plt.show()\n",
    "plt.savefig('요일별 빈도.png')"
   ]
  },
  {
   "cell_type": "code",
   "execution_count": 83,
   "metadata": {},
   "outputs": [],
   "source": [
    "강원피어린_보호 = 강원피어린.groupby('어린이보호구역_여부').빈도계산용.sum()"
   ]
  },
  {
   "cell_type": "code",
   "execution_count": 84,
   "metadata": {},
   "outputs": [
    {
     "data": {
      "text/plain": [
       "어린이보호구역_여부\n",
       "아니오    669\n",
       "예       54\n",
       "Name: 빈도계산용, dtype: int64"
      ]
     },
     "execution_count": 84,
     "metadata": {},
     "output_type": "execute_result"
    }
   ],
   "source": [
    "강원피어린_보호"
   ]
  },
  {
   "cell_type": "code",
   "execution_count": 120,
   "metadata": {},
   "outputs": [
    {
     "data": {
      "image/png": "[encoded data removed]",
      "text/plain": [
       "<Figure size 360x360 with 1 Axes>"
      ]
     },
     "metadata": {},
     "output_type": "display_data"
    }
   ],
   "source": [
    "labels = ['예','아니오']\n",
    "freq = [54, 669]\n",
    "colors = ['red','grey']\n",
    "plt.figure(figsize=(5,5))\n",
    "plt.pie(freq, explode = (0.1,0),\n",
    "        labels = labels, autopct='%1.1f%%',\n",
    "       shadow = True, startangle = 90,\n",
    "       textprops = {'fontsize':13}, colors = colors)\n",
    "plt.title('어린이보호구역 여부')\n",
    "plt.legend(labels=labels, loc='upper right')\n",
    "plt.savefig('어린이 여부.png')"
   ]
  },
  {
   "cell_type": "code",
   "execution_count": 87,
   "metadata": {},
   "outputs": [
    {
     "data": {
      "text/plain": [
       "노인보호구역_여부\n",
       "아니오    2091\n",
       "예         1\n",
       "Name: 빈도계산용, dtype: int64"
      ]
     },
     "execution_count": 87,
     "metadata": {},
     "output_type": "execute_result"
    }
   ],
   "source": [
    "강원피고령_보호 = 강원피고령.groupby('노인보호구역_여부').빈도계산용.sum()\n",
    "강원피고령_보호"
   ]
  },
  {
   "cell_type": "code",
   "execution_count": 127,
   "metadata": {},
   "outputs": [
    {
     "data": {
      "image/png": "[encoded data removed]",
      "text/plain": [
       "<Figure size 360x360 with 1 Axes>"
      ]
     },
     "metadata": {},
     "output_type": "display_data"
    }
   ],
   "source": [
    "labels = ['예','아니오']\n",
    "freq = [1, 2091]\n",
    "colors = ['red','grey']\n",
    "plt.figure(figsize=(5,5))\n",
    "plt.pie(freq, explode = (0.1,0),\n",
    "        labels = labels, autopct='%1.2f%%',\n",
    "       shadow = True, startangle = 90,\n",
    "       textprops = {'fontsize':13}, colors = colors)\n",
    "plt.legend(labels=labels, loc='upper right')\n",
    "plt.title('노인보호구역 여부', fontsize=15)\n",
    "plt.savefig('노인보호구역 여부.png')"
   ]
  },
  {
   "cell_type": "code",
   "execution_count": 131,
   "metadata": {},
   "outputs": [
    {
     "data": {
      "text/plain": [
       "신체상해정도피해자\n",
       "경상       667\n",
       "부상신고      64\n",
       "사망       190\n",
       "상해없음       2\n",
       "중상      1169\n",
       "Name: 빈도계산용, dtype: int64"
      ]
     },
     "execution_count": 131,
     "metadata": {},
     "output_type": "execute_result"
    }
   ],
   "source": [
    "강원피고령.신체상해정도피해자.unique()\n",
    "강원피고령_상해 = 강원피고령.groupby('신체상해정도피해자').빈도계산용.sum()\n",
    "강원피고령_상해"
   ]
  },
  {
   "cell_type": "code",
   "execution_count": 146,
   "metadata": {},
   "outputs": [
    {
     "data": {
      "image/png": "[encoded data removed]",
      "text/plain": [
       "<Figure size 360x360 with 1 Axes>"
      ]
     },
     "metadata": {},
     "output_type": "display_data"
    }
   ],
   "source": [
    "labels = ['사망','중상','경상','부상','상해없음']\n",
    "freq = [190, 1169, 667, 64, 2]\n",
    "colors = ['red','green','blue','orange','purple']\n",
    "plt.figure(figsize=(5,5))\n",
    "plt.pie(freq, explode = (0,0,0,0,0.1),\n",
    "        autopct='%1d%%',\n",
    "       shadow = True, startangle = 90,\n",
    "       textprops = {'fontsize':13}, colors=colors)\n",
    "plt.legend(labels=labels, loc='upper right')\n",
    "plt.title('피해자 상해정도', fontsize=15)\n",
    "plt.savefig('피해자 상해정도.png')"
   ]
  },
  {
   "cell_type": "code",
   "execution_count": 147,
   "metadata": {},
   "outputs": [
    {
     "data": {
      "text/plain": [
       "array(['춘천시', '강릉시', '원주시', '양양군', '속초시', '삼척시', '영월군', '홍천군', '평창군',\n",
       "       '태백시', '정선군', '횡성군', '고성군', '철원군', '양구군', '동해시', '화천군', '인제군'],\n",
       "      dtype=object)"
      ]
     },
     "execution_count": 147,
     "metadata": {},
     "output_type": "execute_result"
    }
   ],
   "source": [
    "강원피고령.발생지_시군구.unique()"
   ]
  },
  {
   "cell_type": "code",
   "execution_count": 182,
   "metadata": {},
   "outputs": [
    {
     "data": {
      "text/plain": [
       "(['원주시',\n",
       "  '춘천시',\n",
       "  '강릉시',\n",
       "  '동해시',\n",
       "  '속초시',\n",
       "  '홍천군',\n",
       "  '삼척시',\n",
       "  '태백시',\n",
       "  '영월군',\n",
       "  '평창군',\n",
       "  '횡성군',\n",
       "  '철원군',\n",
       "  '정선군',\n",
       "  '양양군',\n",
       "  '고성군',\n",
       "  '양구군',\n",
       "  '인제군',\n",
       "  '화천군'],\n",
       " [435,\n",
       "  380,\n",
       "  327,\n",
       "  144,\n",
       "  127,\n",
       "  106,\n",
       "  97,\n",
       "  78,\n",
       "  58,\n",
       "  57,\n",
       "  54,\n",
       "  50,\n",
       "  43,\n",
       "  42,\n",
       "  32,\n",
       "  29,\n",
       "  17,\n",
       "  16])"
      ]
     },
     "execution_count": 182,
     "metadata": {},
     "output_type": "execute_result"
    }
   ],
   "source": [
    "강원피고령_지역 = 강원피고령.groupby('발생지_시군구').빈도계산용.sum()\n",
    "강원피고령_지역 = 강원피고령_지역.sort_values(ascending = False)\n",
    "지역 = 강원피고령_지역.index\n",
    "지역_건수 = 강원피고령_지역.values\n",
    "지역 = list(지역)\n",
    "지역_건수 = list(지역_건수)\n",
    "지역, 지역_건수"
   ]
  },
  {
   "cell_type": "code",
   "execution_count": 196,
   "metadata": {},
   "outputs": [
    {
     "data": {
      "image/png": "[encoded data removed]",
      "text/plain": [
       "<Figure size 576x432 with 1 Axes>"
      ]
     },
     "metadata": {
      "needs_background": "light"
     },
     "output_type": "display_data"
    }
   ],
   "source": [
    "강원피고령_지역 = pd.DataFrame({'지역':지역,'건수':지역_건수})\n",
    "sns.barplot(data=강원피고령_지역, x='건수',y='지역')\n",
    "plt.rcParams['figure.figsize'] = [9, 6]\n",
    "plt.title('강원도 내 지역별 교통사고 건수', fontsize=15)\n",
    "# plt.show() # plt.show()를 할 경우, savefig 단계에서 그래프가 저장이 안 되는 경우가 발생.\n",
    "plt.savefig('강원도 내 지역별 교통사고 건수.png')"
   ]
  },
  {
   "cell_type": "code",
   "execution_count": 197,
   "metadata": {},
   "outputs": [
    {
     "data": {
      "text/plain": [
       "주야\n",
       "야     584\n",
       "주    1508\n",
       "Name: 빈도계산용, dtype: int64"
      ]
     },
     "execution_count": 197,
     "metadata": {},
     "output_type": "execute_result"
    }
   ],
   "source": [
    "강원피고령_주야 = 강원피고령.groupby('주야').빈도계산용.sum()\n",
    "강원피고령_주야"
   ]
  },
  {
   "cell_type": "code",
   "execution_count": 199,
   "metadata": {},
   "outputs": [
    {
     "data": {
      "image/png": "[encoded data removed]",
      "text/plain": [
       "<Figure size 360x360 with 1 Axes>"
      ]
     },
     "metadata": {},
     "output_type": "display_data"
    }
   ],
   "source": [
    "labels = ['주간','야간']\n",
    "freq = [1508, 584]\n",
    "plt.figure(figsize=(5,5))\n",
    "plt.pie(freq,\n",
    "        autopct='%1d%%',\n",
    "       shadow = True, startangle = 90,\n",
    "       textprops = {'fontsize':13})\n",
    "plt.legend(labels=labels, loc='upper right')\n",
    "plt.title('고령 보행자 교통사고 주야 비율', fontsize=15)\n",
    "plt.savefig('고령 보행자 교통사고 주야 비율.png')"
   ]
  },
  {
   "cell_type": "code",
   "execution_count": 218,
   "metadata": {},
   "outputs": [
    {
     "data": {
      "text/html": [
       "<div>\n",
       "<style scoped>\n",
       "    .dataframe tbody tr th:only-of-type {\n",
       "        vertical-align: middle;\n",
       "    }\n",
       "\n",
       "    .dataframe tbody tr th {\n",
       "        vertical-align: top;\n",
       "    }\n",
       "\n",
       "    .dataframe thead th {\n",
       "        text-align: right;\n",
       "    }\n",
       "</style>\n",
       "<table border=\"1\" class=\"dataframe\">\n",
       "  <thead>\n",
       "    <tr style=\"text-align: right;\">\n",
       "      <th></th>\n",
       "      <th>주야</th>\n",
       "      <th>사고내용</th>\n",
       "      <th>사고유형_대분류</th>\n",
       "      <th>사고유형_중분류</th>\n",
       "      <th>사고유형</th>\n",
       "      <th>가해자성별</th>\n",
       "      <th>피해자성별</th>\n",
       "      <th>연령가해자</th>\n",
       "      <th>연령피해자</th>\n",
       "      <th>가해자음주_대분류</th>\n",
       "      <th>...</th>\n",
       "      <th>교차로형태_대분류</th>\n",
       "      <th>교차로형태</th>\n",
       "      <th>사망자수</th>\n",
       "      <th>중상자수</th>\n",
       "      <th>경상자수</th>\n",
       "      <th>부상신고자수</th>\n",
       "      <th>사고위치폴리곤</th>\n",
       "      <th>피해자연령</th>\n",
       "      <th>발생년도</th>\n",
       "      <th>빈도계산용</th>\n",
       "    </tr>\n",
       "  </thead>\n",
       "  <tbody>\n",
       "    <tr>\n",
       "      <th>19</th>\n",
       "      <td>주</td>\n",
       "      <td>경상</td>\n",
       "      <td>차대사람</td>\n",
       "      <td>보도통행중</td>\n",
       "      <td>보도통행중</td>\n",
       "      <td>여</td>\n",
       "      <td>여</td>\n",
       "      <td>18세</td>\n",
       "      <td>68세</td>\n",
       "      <td>기타불명</td>\n",
       "      <td>...</td>\n",
       "      <td>교차로아님</td>\n",
       "      <td>교차로아님</td>\n",
       "      <td>0</td>\n",
       "      <td>0</td>\n",
       "      <td>1</td>\n",
       "      <td>0</td>\n",
       "      <td>POLYGON((1018851 1986001,1018851 1986050,10189...</td>\n",
       "      <td>68</td>\n",
       "      <td>2015</td>\n",
       "      <td>1</td>\n",
       "    </tr>\n",
       "    <tr>\n",
       "      <th>34</th>\n",
       "      <td>주</td>\n",
       "      <td>중상</td>\n",
       "      <td>차대사람</td>\n",
       "      <td>횡단중</td>\n",
       "      <td>횡단중</td>\n",
       "      <td>남</td>\n",
       "      <td>여</td>\n",
       "      <td>80세</td>\n",
       "      <td>75세</td>\n",
       "      <td>기타불명</td>\n",
       "      <td>...</td>\n",
       "      <td>교차로아님</td>\n",
       "      <td>교차로아님</td>\n",
       "      <td>0</td>\n",
       "      <td>1</td>\n",
       "      <td>0</td>\n",
       "      <td>0</td>\n",
       "      <td>POLYGON((1019751 1987601,1019751 1987650,10198...</td>\n",
       "      <td>75</td>\n",
       "      <td>2015</td>\n",
       "      <td>1</td>\n",
       "    </tr>\n",
       "    <tr>\n",
       "      <th>61</th>\n",
       "      <td>야</td>\n",
       "      <td>경상</td>\n",
       "      <td>차대사람</td>\n",
       "      <td>길가장자리구역통행중</td>\n",
       "      <td>길가장자리구역통행중</td>\n",
       "      <td>남</td>\n",
       "      <td>남</td>\n",
       "      <td>18세</td>\n",
       "      <td>68세</td>\n",
       "      <td>기타불명</td>\n",
       "      <td>...</td>\n",
       "      <td>교차로아님</td>\n",
       "      <td>교차로아님</td>\n",
       "      <td>0</td>\n",
       "      <td>0</td>\n",
       "      <td>1</td>\n",
       "      <td>0</td>\n",
       "      <td>POLYGON((1018201 1985001,1018201 1985050,10182...</td>\n",
       "      <td>68</td>\n",
       "      <td>2015</td>\n",
       "      <td>1</td>\n",
       "    </tr>\n",
       "    <tr>\n",
       "      <th>76</th>\n",
       "      <td>주</td>\n",
       "      <td>중상</td>\n",
       "      <td>차대사람</td>\n",
       "      <td>길가장자리구역통행중</td>\n",
       "      <td>길가장자리구역통행중</td>\n",
       "      <td>남</td>\n",
       "      <td>여</td>\n",
       "      <td>22세</td>\n",
       "      <td>89세</td>\n",
       "      <td>기타불명</td>\n",
       "      <td>...</td>\n",
       "      <td>교차로아님</td>\n",
       "      <td>교차로아님</td>\n",
       "      <td>0</td>\n",
       "      <td>1</td>\n",
       "      <td>0</td>\n",
       "      <td>0</td>\n",
       "      <td>POLYGON((1022751 1985301,1022751 1985350,10228...</td>\n",
       "      <td>89</td>\n",
       "      <td>2015</td>\n",
       "      <td>1</td>\n",
       "    </tr>\n",
       "    <tr>\n",
       "      <th>77</th>\n",
       "      <td>주</td>\n",
       "      <td>중상</td>\n",
       "      <td>차대사람</td>\n",
       "      <td>횡단중</td>\n",
       "      <td>횡단중</td>\n",
       "      <td>여</td>\n",
       "      <td>여</td>\n",
       "      <td>45세</td>\n",
       "      <td>85세</td>\n",
       "      <td>기타불명</td>\n",
       "      <td>...</td>\n",
       "      <td>교차로아님</td>\n",
       "      <td>교차로아님</td>\n",
       "      <td>0</td>\n",
       "      <td>1</td>\n",
       "      <td>0</td>\n",
       "      <td>0</td>\n",
       "      <td>POLYGON((1019601 1984251,1019601 1984300,10196...</td>\n",
       "      <td>85</td>\n",
       "      <td>2015</td>\n",
       "      <td>1</td>\n",
       "    </tr>\n",
       "    <tr>\n",
       "      <th>...</th>\n",
       "      <td>...</td>\n",
       "      <td>...</td>\n",
       "      <td>...</td>\n",
       "      <td>...</td>\n",
       "      <td>...</td>\n",
       "      <td>...</td>\n",
       "      <td>...</td>\n",
       "      <td>...</td>\n",
       "      <td>...</td>\n",
       "      <td>...</td>\n",
       "      <td>...</td>\n",
       "      <td>...</td>\n",
       "      <td>...</td>\n",
       "      <td>...</td>\n",
       "      <td>...</td>\n",
       "      <td>...</td>\n",
       "      <td>...</td>\n",
       "      <td>...</td>\n",
       "      <td>...</td>\n",
       "      <td>...</td>\n",
       "      <td>...</td>\n",
       "    </tr>\n",
       "    <tr>\n",
       "      <th>41069</th>\n",
       "      <td>주</td>\n",
       "      <td>중상</td>\n",
       "      <td>차대사람</td>\n",
       "      <td>횡단중</td>\n",
       "      <td>횡단중</td>\n",
       "      <td>남</td>\n",
       "      <td>여</td>\n",
       "      <td>44세</td>\n",
       "      <td>87세</td>\n",
       "      <td>해당 없음</td>\n",
       "      <td>...</td>\n",
       "      <td>교차로</td>\n",
       "      <td>교차로 - 삼지</td>\n",
       "      <td>0</td>\n",
       "      <td>1</td>\n",
       "      <td>0</td>\n",
       "      <td>0</td>\n",
       "      <td>POLYGON((1087301 1909901,1087301 1909950,10873...</td>\n",
       "      <td>87</td>\n",
       "      <td>2019</td>\n",
       "      <td>1</td>\n",
       "    </tr>\n",
       "    <tr>\n",
       "      <th>41071</th>\n",
       "      <td>주</td>\n",
       "      <td>중상</td>\n",
       "      <td>차대사람</td>\n",
       "      <td>기타</td>\n",
       "      <td>기타</td>\n",
       "      <td>남</td>\n",
       "      <td>여</td>\n",
       "      <td>51세</td>\n",
       "      <td>85세</td>\n",
       "      <td>해당 없음</td>\n",
       "      <td>...</td>\n",
       "      <td>교차로아님</td>\n",
       "      <td>교차로아님</td>\n",
       "      <td>0</td>\n",
       "      <td>1</td>\n",
       "      <td>0</td>\n",
       "      <td>0</td>\n",
       "      <td>POLYGON((1072801 1909451,1072801 1909500,10728...</td>\n",
       "      <td>85</td>\n",
       "      <td>2019</td>\n",
       "      <td>1</td>\n",
       "    </tr>\n",
       "    <tr>\n",
       "      <th>41072</th>\n",
       "      <td>주</td>\n",
       "      <td>부상신고</td>\n",
       "      <td>차대사람</td>\n",
       "      <td>차도통행중</td>\n",
       "      <td>차도통행중</td>\n",
       "      <td>여</td>\n",
       "      <td>남</td>\n",
       "      <td>59세</td>\n",
       "      <td>70세</td>\n",
       "      <td>해당 없음</td>\n",
       "      <td>...</td>\n",
       "      <td>교차로</td>\n",
       "      <td>교차로 - 사지</td>\n",
       "      <td>0</td>\n",
       "      <td>0</td>\n",
       "      <td>0</td>\n",
       "      <td>1</td>\n",
       "      <td>POLYGON((1085901 1909801,1085901 1909850,10859...</td>\n",
       "      <td>70</td>\n",
       "      <td>2019</td>\n",
       "      <td>1</td>\n",
       "    </tr>\n",
       "    <tr>\n",
       "      <th>41088</th>\n",
       "      <td>주</td>\n",
       "      <td>중상</td>\n",
       "      <td>차대사람</td>\n",
       "      <td>횡단중</td>\n",
       "      <td>횡단중</td>\n",
       "      <td>여</td>\n",
       "      <td>여</td>\n",
       "      <td>58세</td>\n",
       "      <td>81세</td>\n",
       "      <td>해당 없음</td>\n",
       "      <td>...</td>\n",
       "      <td>교차로아님</td>\n",
       "      <td>교차로아님</td>\n",
       "      <td>0</td>\n",
       "      <td>1</td>\n",
       "      <td>0</td>\n",
       "      <td>0</td>\n",
       "      <td>POLYGON((1085551 1909851,1085551 1909900,10856...</td>\n",
       "      <td>81</td>\n",
       "      <td>2019</td>\n",
       "      <td>1</td>\n",
       "    </tr>\n",
       "    <tr>\n",
       "      <th>41095</th>\n",
       "      <td>야</td>\n",
       "      <td>사망</td>\n",
       "      <td>차대사람</td>\n",
       "      <td>기타</td>\n",
       "      <td>기타</td>\n",
       "      <td>남</td>\n",
       "      <td>남</td>\n",
       "      <td>44세</td>\n",
       "      <td>70세</td>\n",
       "      <td>기타불명</td>\n",
       "      <td>...</td>\n",
       "      <td>교차로아님</td>\n",
       "      <td>교차로아님</td>\n",
       "      <td>1</td>\n",
       "      <td>0</td>\n",
       "      <td>0</td>\n",
       "      <td>0</td>\n",
       "      <td>POLYGON((1061351 1926151,1061351 1926200,10614...</td>\n",
       "      <td>70</td>\n",
       "      <td>2019</td>\n",
       "      <td>1</td>\n",
       "    </tr>\n",
       "  </tbody>\n",
       "</table>\n",
       "<p>2092 rows × 55 columns</p>\n",
       "</div>"
      ],
      "text/plain": [
       "      주야  사고내용 사고유형_대분류    사고유형_중분류        사고유형 가해자성별 피해자성별 연령가해자 연령피해자  \\\n",
       "19     주    경상     차대사람       보도통행중       보도통행중     여     여   18세   68세   \n",
       "34     주    중상     차대사람         횡단중         횡단중     남     여   80세   75세   \n",
       "61     야    경상     차대사람  길가장자리구역통행중  길가장자리구역통행중     남     남   18세   68세   \n",
       "76     주    중상     차대사람  길가장자리구역통행중  길가장자리구역통행중     남     여   22세   89세   \n",
       "77     주    중상     차대사람         횡단중         횡단중     여     여   45세   85세   \n",
       "...   ..   ...      ...         ...         ...   ...   ...   ...   ...   \n",
       "41069  주    중상     차대사람         횡단중         횡단중     남     여   44세   87세   \n",
       "41071  주    중상     차대사람          기타          기타     남     여   51세   85세   \n",
       "41072  주  부상신고     차대사람       차도통행중       차도통행중     여     남   59세   70세   \n",
       "41088  주    중상     차대사람         횡단중         횡단중     여     여   58세   81세   \n",
       "41095  야    사망     차대사람          기타          기타     남     남   44세   70세   \n",
       "\n",
       "      가해자음주_대분류  ... 교차로형태_대분류     교차로형태 사망자수 중상자수 경상자수 부상신고자수  \\\n",
       "19         기타불명  ...     교차로아님     교차로아님    0    0    1      0   \n",
       "34         기타불명  ...     교차로아님     교차로아님    0    1    0      0   \n",
       "61         기타불명  ...     교차로아님     교차로아님    0    0    1      0   \n",
       "76         기타불명  ...     교차로아님     교차로아님    0    1    0      0   \n",
       "77         기타불명  ...     교차로아님     교차로아님    0    1    0      0   \n",
       "...         ...  ...       ...       ...  ...  ...  ...    ...   \n",
       "41069     해당 없음  ...       교차로  교차로 - 삼지    0    1    0      0   \n",
       "41071     해당 없음  ...     교차로아님     교차로아님    0    1    0      0   \n",
       "41072     해당 없음  ...       교차로  교차로 - 사지    0    0    0      1   \n",
       "41088     해당 없음  ...     교차로아님     교차로아님    0    1    0      0   \n",
       "41095      기타불명  ...     교차로아님     교차로아님    1    0    0      0   \n",
       "\n",
       "                                                 사고위치폴리곤 피해자연령  발생년도 빈도계산용  \n",
       "19     POLYGON((1018851 1986001,1018851 1986050,10189...    68  2015     1  \n",
       "34     POLYGON((1019751 1987601,1019751 1987650,10198...    75  2015     1  \n",
       "61     POLYGON((1018201 1985001,1018201 1985050,10182...    68  2015     1  \n",
       "76     POLYGON((1022751 1985301,1022751 1985350,10228...    89  2015     1  \n",
       "77     POLYGON((1019601 1984251,1019601 1984300,10196...    85  2015     1  \n",
       "...                                                  ...   ...   ...   ...  \n",
       "41069  POLYGON((1087301 1909901,1087301 1909950,10873...    87  2019     1  \n",
       "41071  POLYGON((1072801 1909451,1072801 1909500,10728...    85  2019     1  \n",
       "41072  POLYGON((1085901 1909801,1085901 1909850,10859...    70  2019     1  \n",
       "41088  POLYGON((1085551 1909851,1085551 1909900,10856...    81  2019     1  \n",
       "41095  POLYGON((1061351 1926151,1061351 1926200,10614...    70  2019     1  \n",
       "\n",
       "[2092 rows x 55 columns]"
      ]
     },
     "execution_count": 218,
     "metadata": {},
     "output_type": "execute_result"
    }
   ],
   "source": [
    "columns = 강원피고령.columns\n",
    "columns = list(columns)\n",
    "columns = columns[6:]\n",
    "강원피고령.loc[:,columns]"
   ]
  },
  {
   "cell_type": "code",
   "execution_count": 222,
   "metadata": {},
   "outputs": [
    {
     "data": {
      "text/plain": [
       "(['횡단중', '기타', '길가장자리구역통행중', '차도통행중', '보도통행중'], [1165, 436, 218, 190, 83])"
      ]
     },
     "execution_count": 222,
     "metadata": {},
     "output_type": "execute_result"
    }
   ],
   "source": [
    "강원피고령_사고유형 = 강원피고령.groupby('사고유형').빈도계산용.sum()\n",
    "강원피고령_사고유형 = 강원피고령_사고유형.sort_values(ascending = False)\n",
    "사고유형 = 강원피고령_사고유형.index\n",
    "사고유형_건수 = 강원피고령_사고유형.values\n",
    "사고유형 = list(사고유형)\n",
    "사고유형_건수 = list(사고유형_건수)\n",
    "사고유형, 사고유형_건수"
   ]
  },
  {
   "cell_type": "code",
   "execution_count": 229,
   "metadata": {},
   "outputs": [
    {
     "data": {
      "image/png": "[encoded data removed]",
      "text/plain": [
       "<Figure size 648x432 with 1 Axes>"
      ]
     },
     "metadata": {
      "needs_background": "light"
     },
     "output_type": "display_data"
    }
   ],
   "source": [
    "강원피고령_사고유형 = pd.DataFrame({'사고유형':사고유형,'건수':사고유형_건수})\n",
    "sns.barplot(data=강원피고령_사고유형, x='건수',y='사고유형')\n",
    "plt.rcParams['figure.figsize'] = [9, 6]\n",
    "plt.title('고령 보행자 피해자 사고유형', fontsize=15)\n",
    "# plt.show() # plt.show()를 할 경우, savefig 단계에서 그래프가 저장이 안 되는 경우가 발생.\n",
    "plt.savefig('고령 보행자 피해자 사고유형.png')"
   ]
  },
  {
   "cell_type": "code",
   "execution_count": 231,
   "metadata": {},
   "outputs": [
    {
     "data": {
      "text/plain": [
       "array(['안전운전 의무 불이행', '보행자 보호의무 위반', '기타', '중앙선 침범', '교차로 통행방법 위반',\n",
       "       '신호위반', '과속', '안전거리 미확보'], dtype=object)"
      ]
     },
     "execution_count": 231,
     "metadata": {},
     "output_type": "execute_result"
    }
   ],
   "source": [
    "강원피고령.법규위반가해자.unique()"
   ]
  },
  {
   "cell_type": "code",
   "execution_count": 233,
   "metadata": {},
   "outputs": [
    {
     "data": {
      "text/plain": [
       "(['안전운전 의무 불이행',\n",
       "  '보행자 보호의무 위반',\n",
       "  '기타',\n",
       "  '신호위반',\n",
       "  '중앙선 침범',\n",
       "  '교차로 통행방법 위반',\n",
       "  '과속',\n",
       "  '안전거리 미확보'],\n",
       " [1487, 427, 65, 57, 18, 18, 18, 2])"
      ]
     },
     "execution_count": 233,
     "metadata": {},
     "output_type": "execute_result"
    }
   ],
   "source": [
    "강원피고령_법규 = 강원피고령.groupby('법규위반가해자').빈도계산용.sum()\n",
    "강원피고령_법규 = 강원피고령_법규.sort_values(ascending = False)\n",
    "법규 = 강원피고령_법규.index\n",
    "법규_건수 = 강원피고령_법규.values\n",
    "법규 = list(법규)\n",
    "법규_건수 = list(법규_건수)\n",
    "법규, 법규_건수"
   ]
  },
  {
   "cell_type": "code",
   "execution_count": 235,
   "metadata": {},
   "outputs": [
    {
     "data": {
      "image/png": "[encoded data removed]",
      "text/plain": [
       "<Figure size 648x432 with 1 Axes>"
      ]
     },
     "metadata": {
      "needs_background": "light"
     },
     "output_type": "display_data"
    }
   ],
   "source": [
    "강원피고령_법규 = pd.DataFrame({'위반 유형':법규,'건수':법규_건수})\n",
    "sns.barplot(data=강원피고령_법규, x='건수',y='위반 유형')\n",
    "plt.rcParams['figure.figsize'] = [9, 6]\n",
    "plt.title('고령 보행자 교통사고 가해자 법규 위반 유형', fontsize=15)\n",
    "# plt.show() # plt.show()를 할 경우, savefig 단계에서 그래프가 저장이 안 되는 경우가 발생.\n",
    "plt.savefig('고령 보행자 교통사고 가해자 법규 위반 유형.png')"
   ]
  },
  {
   "cell_type": "code",
   "execution_count": 241,
   "metadata": {},
   "outputs": [
    {
     "data": {
      "text/plain": [
       "19       15\n",
       "34       09\n",
       "61       19\n",
       "76       11\n",
       "77       12\n",
       "         ..\n",
       "41069    11\n",
       "41071    10\n",
       "41072    10\n",
       "41088    17\n",
       "41095    18\n",
       "Name: 발생시간, Length: 2092, dtype: object"
      ]
     },
     "execution_count": 241,
     "metadata": {},
     "output_type": "execute_result"
    }
   ],
   "source": [
    "강원피고령['발생시간'] = 강원피고령['피해자연령'].astype('str')\n",
    "강원피고령['발생시간'] = 강원피고령['발생일시'].str[-2:]\n",
    "강원피고령['발생시간']"
   ]
  },
  {
   "cell_type": "code",
   "execution_count": 243,
   "metadata": {},
   "outputs": [
    {
     "data": {
      "text/plain": [
       "(['00',\n",
       "  '01',\n",
       "  '02',\n",
       "  '03',\n",
       "  '04',\n",
       "  '05',\n",
       "  '06',\n",
       "  '07',\n",
       "  '08',\n",
       "  '09',\n",
       "  '10',\n",
       "  '11',\n",
       "  '12',\n",
       "  '13',\n",
       "  '14',\n",
       "  '15',\n",
       "  '16',\n",
       "  '17',\n",
       "  '18',\n",
       "  '19',\n",
       "  '20',\n",
       "  '21',\n",
       "  '22',\n",
       "  '23'],\n",
       " [5,\n",
       "  1,\n",
       "  10,\n",
       "  5,\n",
       "  17,\n",
       "  40,\n",
       "  63,\n",
       "  44,\n",
       "  114,\n",
       "  139,\n",
       "  161,\n",
       "  138,\n",
       "  146,\n",
       "  138,\n",
       "  148,\n",
       "  137,\n",
       "  121,\n",
       "  159,\n",
       "  193,\n",
       "  130,\n",
       "  90,\n",
       "  51,\n",
       "  28,\n",
       "  14])"
      ]
     },
     "execution_count": 243,
     "metadata": {},
     "output_type": "execute_result"
    }
   ],
   "source": [
    "강원피고령_발생시간 = 강원피고령.groupby('발생시간').빈도계산용.sum()\n",
    "강원피고령_발생시간 = 강원피고령_발생시간.sort_index(ascending = True)\n",
    "발생시간 = 강원피고령_발생시간.index\n",
    "발생시간_건수 = 강원피고령_발생시간.values\n",
    "발생시간 = list(발생시간)\n",
    "발생시간_건수 = list(발생시간_건수)\n",
    "발생시간, 발생시간_건수"
   ]
  },
  {
   "cell_type": "code",
   "execution_count": 245,
   "metadata": {},
   "outputs": [
    {
     "data": {
      "image/png": "[encoded data removed]",
      "text/plain": [
       "<Figure size 648x432 with 1 Axes>"
      ]
     },
     "metadata": {
      "needs_background": "light"
     },
     "output_type": "display_data"
    }
   ],
   "source": [
    "강원피고령_발생시간 = pd.DataFrame({'발생시간':발생시간,'건수':발생시간_건수})\n",
    "sns.barplot(data=강원피고령_발생시간, x='발생시간',y='건수')\n",
    "plt.rcParams['figure.figsize'] = [9, 6]\n",
    "plt.title('고령 보행자 교통사고 시간별 사고 건수', fontsize=15)\n",
    "# plt.show() # plt.show()를 할 경우, savefig 단계에서 그래프가 저장이 안 되는 경우가 발생.\n",
    "plt.savefig('고령 보행자 교통사고 발생시간별 건수.png')"
   ]
  }
 ],
 "metadata": {
  "kernelspec": {
   "display_name": "Python 3",
   "language": "python",
   "name": "python3"
  },
  "language_info": {
   "codemirror_mode": {
    "name": "ipython",
    "version": 3
   },
   "file_extension": ".py",
   "mimetype": "text/x-python",
   "name": "python",
   "nbconvert_exporter": "python",
   "pygments_lexer": "ipython3",
   "version": "3.8.3"
  }
 },
 "nbformat": 4,
 "nbformat_minor": 4
}
