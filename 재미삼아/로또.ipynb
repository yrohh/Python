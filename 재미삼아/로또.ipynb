{
 "cells": [
  {
   "cell_type": "markdown",
   "metadata": {},
   "source": [
    "## 로또 1등 당첨, 수동과 자동 중 뭐가 더 나을까?\n",
    "----------"
   ]
  },
  {
   "cell_type": "markdown",
   "metadata": {},
   "source": [
    "### 수동\n",
    "\n",
    "매주 <b>동일한 번호</b>로 한 줄씩 구입한다면, 언제 당첨될 수 있을까?"
   ]
  },
  {
   "cell_type": "code",
   "execution_count": 1,
   "metadata": {},
   "outputs": [
    {
     "name": "stdout",
     "output_type": "stream",
     "text": [
      "7503573 번째에 당첨될 수 있으며, 기간으로는 7503573 주 뒤에, 약 144299.0 년 뒤에 당첨될 수 있을 것으로 보인다.\n"
     ]
    }
   ],
   "source": [
    "import numpy as np\n",
    "import random\n",
    "\n",
    "ma = np.array([1,3,5,7,9,11]) # 수동 입력값.\n",
    "n = 0 # 초기값 지정.\n",
    "i = 1 # 초기값 지정.\n",
    "\n",
    "while True :\n",
    "    a = np.sort(random.sample(range(1,45),6))\n",
    "    if np.all(ma == a) :\n",
    "        n = i\n",
    "        break\n",
    "    i += 1\n",
    "    \n",
    "print(f'{n} 번째에 당첨될 수 있으며, 기간으로는 {n} 주 뒤에, 약 {round(n/52,0)} 년 뒤에 당첨될 수 있을 것으로 보인다.')"
   ]
  },
  {
   "cell_type": "markdown",
   "metadata": {},
   "source": [
    "### 자동\n",
    "\n",
    "매주 자동으로 한 줄씩 구입한다면, 언제 당첨될 수 있을까?"
   ]
  },
  {
   "cell_type": "code",
   "execution_count": 2,
   "metadata": {},
   "outputs": [
    {
     "name": "stdout",
     "output_type": "stream",
     "text": [
      "2260668 번째에 당첨될 수 있으며, 기간으로는 2260668 주 뒤에, 약 43474.0 년 뒤에 당첨될 수 있을 것으로 보인다.\n"
     ]
    }
   ],
   "source": [
    "import numpy as np\n",
    "import random\n",
    "\n",
    "n = 0 # 초기값 지정.\n",
    "i = 1 # 초기값 지정.\n",
    "\n",
    "while True :\n",
    "    au = np.sort(random.sample(range(1,45),6))\n",
    "    a = np.sort(random.sample(range(1,45),6))\n",
    "    if np.all(au == a) :\n",
    "        n = i\n",
    "        break\n",
    "    i += 1\n",
    "    \n",
    "print(f'{n} 번째에 당첨될 수 있으며, 기간으로는 {n} 주 뒤에, 약 {round(n/52,0)} 년 뒤에 당첨될 수 있을 것으로 보인다.')"
   ]
  },
  {
   "cell_type": "markdown",
   "metadata": {},
   "source": [
    "## 동일하게 1,000만 번을 시행한다면, 각각의 당첨 확률은 어떻게 될까?\n",
    "--------------"
   ]
  },
  {
   "cell_type": "markdown",
   "metadata": {},
   "source": [
    "### 수동\n",
    "마찬가지로 매주 <b>동일한 번호</b>로 1,000만 번 구입했을 때의 확률은?"
   ]
  },
  {
   "cell_type": "code",
   "execution_count": 3,
   "metadata": {
    "scrolled": true
   },
   "outputs": [
    {
     "name": "stdout",
     "output_type": "stream",
     "text": [
      "1000만 번의 시행 중 1등에 3번 당첨되었으며, 확률로는 0.000030% 이다.\n"
     ]
    }
   ],
   "source": [
    "import numpy as np\n",
    "import random\n",
    "\n",
    "ma = np.array([1,3,5,7,9,11]) # 수동 입력값.\n",
    "n = 0 # 초기값 지정.\n",
    "i = 1 # 초기값 지정.\n",
    "result = 1 # 초기값 지정.\n",
    "\n",
    "while True :\n",
    "    a = np.sort(random.sample(range(1,45),6))\n",
    "    if np.all(ma == a) :\n",
    "        n += 1\n",
    "    if i == 10000000 :\n",
    "        break\n",
    "    i += 1\n",
    "    \n",
    "print(f'1000만 번의 시행 중 1등에 {n}번 당첨되었으며, 확률로는', \"%6f%%\" % (n/10000000*100), \"이다.\")"
   ]
  },
  {
   "cell_type": "markdown",
   "metadata": {},
   "source": [
    "### 자동\n",
    "매주 자동으로 한 줄씩 1,000만 번 구입했을 때의 확률은?"
   ]
  },
  {
   "cell_type": "code",
   "execution_count": 4,
   "metadata": {
    "scrolled": true
   },
   "outputs": [
    {
     "name": "stdout",
     "output_type": "stream",
     "text": [
      "1000만 번의 시행 중 1등에 2번 당첨되었으며, 확률로는 0.000020% 이다.\n"
     ]
    }
   ],
   "source": [
    "import numpy as np\n",
    "import random\n",
    "\n",
    "n = 0 # 초기값 지정.\n",
    "i = 1 # 초기값 지정.\n",
    "result = 1 # 초기값 지정.\n",
    "\n",
    "while True :\n",
    "    au = np.sort(random.sample(range(1,45),6))\n",
    "    a = np.sort(random.sample(range(1,45),6))\n",
    "    if np.all(au == a) :\n",
    "        n += 1\n",
    "    if i == 10000000 :\n",
    "        break\n",
    "    i += 1\n",
    "    \n",
    "print(f'1000만 번의 시행 중 1등에 {n}번 당첨되었으며, 확률로는', \"%6f%%\" % (n/10000000*100), \"이다.\")"
   ]
  }
 ],
 "metadata": {
  "kernelspec": {
   "display_name": "Python 3",
   "language": "python",
   "name": "python3"
  },
  "language_info": {
   "codemirror_mode": {
    "name": "ipython",
    "version": 3
   },
   "file_extension": ".py",
   "mimetype": "text/x-python",
   "name": "python",
   "nbconvert_exporter": "python",
   "pygments_lexer": "ipython3",
   "version": "3.8.5"
  }
 },
 "nbformat": 4,
 "nbformat_minor": 4
}
