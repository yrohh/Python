{
 "cells": [
  {
   "cell_type": "markdown",
   "metadata": {},
   "source": [
    "### 컨센서스 데이터 로드"
   ]
  },
  {
   "cell_type": "code",
   "execution_count": 1,
   "metadata": {},
   "outputs": [],
   "source": [
    "import csv\n",
    "import pandas as pd\n",
    "\n",
    "df = pd.read_csv('컨센서스2분기.csv', encoding='cp949', header=None, dtype='str')"
   ]
  },
  {
   "cell_type": "code",
   "execution_count": 2,
   "metadata": {
    "scrolled": true
   },
   "outputs": [
    {
     "data": {
      "text/html": [
       "<div>\n",
       "<style scoped>\n",
       "    .dataframe tbody tr th:only-of-type {\n",
       "        vertical-align: middle;\n",
       "    }\n",
       "\n",
       "    .dataframe tbody tr th {\n",
       "        vertical-align: top;\n",
       "    }\n",
       "\n",
       "    .dataframe thead th {\n",
       "        text-align: right;\n",
       "    }\n",
       "</style>\n",
       "<table border=\"1\" class=\"dataframe\">\n",
       "  <thead>\n",
       "    <tr style=\"text-align: right;\">\n",
       "      <th></th>\n",
       "      <th>0</th>\n",
       "      <th>1</th>\n",
       "      <th>2</th>\n",
       "      <th>3</th>\n",
       "      <th>4</th>\n",
       "    </tr>\n",
       "  </thead>\n",
       "  <tbody>\n",
       "    <tr>\n",
       "      <th>0</th>\n",
       "      <td>2021.06.24</td>\n",
       "      <td>대웅제약</td>\n",
       "      <td>069620</td>\n",
       "      <td>200,000</td>\n",
       "      <td>이달미</td>\n",
       "    </tr>\n",
       "    <tr>\n",
       "      <th>1</th>\n",
       "      <td>2021.06.09</td>\n",
       "      <td>코스메카코리아</td>\n",
       "      <td>241710</td>\n",
       "      <td>0</td>\n",
       "      <td>손효주</td>\n",
       "    </tr>\n",
       "    <tr>\n",
       "      <th>2</th>\n",
       "      <td>2021.06.09</td>\n",
       "      <td>태평양물산</td>\n",
       "      <td>007980</td>\n",
       "      <td>0</td>\n",
       "      <td>손효주</td>\n",
       "    </tr>\n",
       "    <tr>\n",
       "      <th>3</th>\n",
       "      <td>2021.06.09</td>\n",
       "      <td>백산</td>\n",
       "      <td>035150</td>\n",
       "      <td>0</td>\n",
       "      <td>손효주</td>\n",
       "    </tr>\n",
       "    <tr>\n",
       "      <th>4</th>\n",
       "      <td>2021.06.02</td>\n",
       "      <td>코스메카코리아</td>\n",
       "      <td>241710</td>\n",
       "      <td>0</td>\n",
       "      <td>손효주,조은아</td>\n",
       "    </tr>\n",
       "  </tbody>\n",
       "</table>\n",
       "</div>"
      ],
      "text/plain": [
       "            0        1       2        3        4\n",
       "0  2021.06.24     대웅제약  069620  200,000      이달미\n",
       "1  2021.06.09  코스메카코리아  241710        0      손효주\n",
       "2  2021.06.09    태평양물산  007980        0      손효주\n",
       "3  2021.06.09       백산  035150        0      손효주\n",
       "4  2021.06.02  코스메카코리아  241710        0  손효주,조은아"
      ]
     },
     "execution_count": 2,
     "metadata": {},
     "output_type": "execute_result"
    }
   ],
   "source": [
    "df.head()"
   ]
  },
  {
   "cell_type": "markdown",
   "metadata": {},
   "source": [
    "### webdriver 설치 및 로드"
   ]
  },
  {
   "cell_type": "code",
   "execution_count": 3,
   "metadata": {},
   "outputs": [],
   "source": [
    "from selenium import webdriver\n",
    "# !pip install chromedriver-autoinstaller\n",
    "import chromedriver_autoinstaller\n",
    "\n",
    "chrome_ver = chromedriver_autoinstaller.get_chrome_version().split('.')[0]  #크롬드라이버 버전 확인\n",
    "\n",
    "try:\n",
    "    driver = webdriver.Chrome(f'./{chrome_ver}/chromedriver.exe')   \n",
    "except:\n",
    "    chromedriver_autoinstaller.install(True)\n",
    "    driver = webdriver.Chrome(f'./{chrome_ver}/chromedriver.exe')\n",
    "\n",
    "driver.implicitly_wait(10)"
   ]
  },
  {
   "cell_type": "markdown",
   "metadata": {},
   "source": [
    "### 보고 당일 종가"
   ]
  },
  {
   "cell_type": "code",
   "execution_count": 8,
   "metadata": {},
   "outputs": [
    {
     "name": "stdout",
     "output_type": "stream",
     "text": [
      "0번째 진행 중... 2021.06.24\n",
      "1번째 진행 중... 2021.06.09\n",
      "2번째 진행 중... 2021.06.09\n",
      "3번째 진행 중... 2021.06.09\n",
      "4번째 진행 중... 2021.06.02\n",
      "5번째 진행 중... 2021.06.02\n",
      "6번째 진행 중... 2021.06.02\n",
      "7번째 진행 중... 2021.06.02\n",
      "8번째 진행 중... 2021.06.02\n",
      "9번째 진행 중... 2021.06.01\n",
      "10번째 진행 중... 2021.05.31\n",
      "11번째 진행 중... 2021.05.31\n",
      "12번째 진행 중... 2021.05.28\n",
      "13번째 진행 중... 2021.05.27\n",
      "14번째 진행 중... 2021.05.25\n",
      "15번째 진행 중... 2021.05.18\n",
      "16번째 진행 중... 2021.05.18\n",
      "17번째 진행 중... 2021.05.18\n",
      "18번째 진행 중... 2021.05.18\n",
      "19번째 진행 중... 2021.05.14\n",
      "20번째 진행 중... 2021.05.13\n",
      "21번째 진행 중... 2021.05.12\n",
      "22번째 진행 중... 2021.05.11\n",
      "23번째 진행 중... 2021.05.10\n",
      "24번째 진행 중... 2021.05.10\n",
      "25번째 진행 중... 2021.05.10\n",
      "26번째 진행 중... 2021.05.07\n",
      "27번째 진행 중... 2021.05.04\n",
      "28번째 진행 중... 2021.04.30\n",
      "29번째 진행 중... 2021.04.30\n",
      "30번째 진행 중... 2021.04.30\n",
      "31번째 진행 중... 2021.04.30\n",
      "32번째 진행 중... 2021.04.29\n",
      "33번째 진행 중... 2021.04.29\n",
      "34번째 진행 중... 2021.04.29\n",
      "35번째 진행 중... 2021.04.28\n",
      "36번째 진행 중... 2021.04.26\n",
      "37번째 진행 중... 2021.04.16\n",
      "38번째 진행 중... 2021.04.16\n",
      "39번째 진행 중... 2021.04.15\n",
      "40번째 진행 중... 2021.04.15\n",
      "41번째 진행 중... 2021.04.14\n",
      "42번째 진행 중... 2021.04.13\n",
      "43번째 진행 중... 2021.04.12\n",
      "44번째 진행 중... 2021.04.07\n",
      "45번째 진행 중... 2021.04.06\n",
      "46번째 진행 중... 2021.04.06\n"
     ]
    }
   ],
   "source": [
    "from urllib.request import urlopen\n",
    "from bs4 import BeautifulSoup\n",
    "from selenium import webdriver\n",
    "from datetime import datetime, timedelta\n",
    "import datetime\n",
    "\n",
    "options = webdriver.ChromeOptions()\n",
    "#options.add_argument(\"headless\")\n",
    "driver = webdriver.Chrome('chromedriver.exe', options=options)\n",
    "\n",
    "price = []\n",
    "for m in range(0,len(df)) :\n",
    "    date = df.iloc[m,0]\n",
    "    code = df.iloc[m,2]\n",
    "    print(f'{m}번째 진행 중...', date)\n",
    "    for i in range(1,50):\n",
    "        URL = f'https://finance.naver.com/item/sise_day.nhn?code={code}&page=' + str(i)\n",
    "        driver.get(url=URL)\n",
    "        driver.implicitly_wait(15)\n",
    "\n",
    "        for j in [3,4,5,6,7,11,12,13,14,15]:\n",
    "            xpath = f'/html/body/table[1]/tbody/tr[{j}]/td[1]/span'\n",
    "            xpath2 = f'/html/body/table[1]/tbody/tr[{j}]/td[2]/span'\n",
    "            d = driver.find_element_by_xpath(xpath).text\n",
    "            \n",
    "            if d == date :\n",
    "                temp = driver.find_element_by_xpath(xpath2).text\n",
    "                price.append(temp)\n",
    "                break\n",
    "                \n",
    "            else :\n",
    "                continue\n",
    "\n",
    "        if len(price) > m :\n",
    "            break\n",
    "            \n",
    "\n",
    "df[5]=price\n"
   ]
  },
  {
   "cell_type": "markdown",
   "metadata": {},
   "source": [
    "### 최근 기준 종가"
   ]
  },
  {
   "cell_type": "code",
   "execution_count": 10,
   "metadata": {
    "scrolled": false
   },
   "outputs": [
    {
     "name": "stdout",
     "output_type": "stream",
     "text": [
      "0번째 진행 중... 2021.06.30\n",
      "1번째 진행 중... 2021.06.30\n",
      "2번째 진행 중... 2021.06.30\n",
      "3번째 진행 중... 2021.06.30\n",
      "4번째 진행 중... 2021.06.30\n",
      "5번째 진행 중... 2021.06.30\n",
      "6번째 진행 중... 2021.06.30\n",
      "7번째 진행 중... 2021.06.30\n",
      "8번째 진행 중... 2021.06.30\n",
      "9번째 진행 중... 2021.06.30\n",
      "10번째 진행 중... 2021.06.30\n",
      "11번째 진행 중... 2021.06.30\n",
      "12번째 진행 중... 2021.06.30\n",
      "13번째 진행 중... 2021.06.30\n",
      "14번째 진행 중... 2021.06.30\n",
      "15번째 진행 중... 2021.06.30\n",
      "16번째 진행 중... 2021.06.30\n",
      "17번째 진행 중... 2021.06.30\n",
      "18번째 진행 중... 2021.06.30\n",
      "19번째 진행 중... 2021.06.30\n",
      "20번째 진행 중... 2021.06.30\n",
      "21번째 진행 중... 2021.06.30\n",
      "22번째 진행 중... 2021.06.30\n",
      "23번째 진행 중... 2021.06.30\n",
      "24번째 진행 중... 2021.06.30\n",
      "25번째 진행 중... 2021.06.30\n",
      "26번째 진행 중... 2021.06.30\n",
      "27번째 진행 중... 2021.06.30\n",
      "28번째 진행 중... 2021.06.30\n",
      "29번째 진행 중... 2021.06.30\n",
      "30번째 진행 중... 2021.06.30\n",
      "31번째 진행 중... 2021.06.30\n",
      "32번째 진행 중... 2021.06.30\n",
      "33번째 진행 중... 2021.06.30\n",
      "34번째 진행 중... 2021.06.30\n",
      "35번째 진행 중... 2021.06.30\n",
      "36번째 진행 중... 2021.06.30\n",
      "37번째 진행 중... 2021.06.30\n",
      "38번째 진행 중... 2021.06.30\n",
      "39번째 진행 중... 2021.06.30\n",
      "40번째 진행 중... 2021.06.30\n",
      "41번째 진행 중... 2021.06.30\n",
      "42번째 진행 중... 2021.06.30\n",
      "43번째 진행 중... 2021.06.30\n",
      "44번째 진행 중... 2021.06.30\n",
      "45번째 진행 중... 2021.06.30\n",
      "46번째 진행 중... 2021.06.30\n"
     ]
    }
   ],
   "source": [
    "from urllib.request import urlopen\n",
    "from bs4 import BeautifulSoup\n",
    "from selenium import webdriver\n",
    "from datetime import datetime, timedelta\n",
    "import datetime\n",
    "\n",
    "options = webdriver.ChromeOptions()\n",
    "#options.add_argument(\"headless\")\n",
    "driver = webdriver.Chrome('chromedriver.exe', options=options)\n",
    "\n",
    "price = []\n",
    "for m in range(0,len(df)) :\n",
    "    date = '2021.06.30' \n",
    "    \n",
    "    code = df.iloc[m,2]\n",
    "    print(f'{m}번째 진행 중...', date)\n",
    "    for i in range(1,50):\n",
    "        URL = f'https://finance.naver.com/item/sise_day.nhn?code={code}&page=' + str(i)\n",
    "        driver.get(url=URL)\n",
    "        driver.implicitly_wait(15)\n",
    "\n",
    "        for j in [3,4,5,6,7,11,12,13,14,15]:\n",
    "            xpath = f'/html/body/table[1]/tbody/tr[{j}]/td[1]/span'\n",
    "            xpath2 = f'/html/body/table[1]/tbody/tr[{j}]/td[2]/span'\n",
    "            d = driver.find_element_by_xpath(xpath).text\n",
    "            \n",
    "            if d == date :\n",
    "                temp = driver.find_element_by_xpath(xpath2).text\n",
    "                price.append(temp)\n",
    "                break\n",
    "                \n",
    "            else :\n",
    "                continue\n",
    "\n",
    "        if len(price) > m :\n",
    "            break\n",
    "            \n",
    "\n",
    "df[6]=price\n"
   ]
  },
  {
   "cell_type": "code",
   "execution_count": 13,
   "metadata": {},
   "outputs": [],
   "source": [
    "df.to_csv('2분기 결과.csv', encoding='cp949')"
   ]
  }
 ],
 "metadata": {
  "kernelspec": {
   "display_name": "Python 3",
   "language": "python",
   "name": "python3"
  },
  "language_info": {
   "codemirror_mode": {
    "name": "ipython",
    "version": 3
   },
   "file_extension": ".py",
   "mimetype": "text/x-python",
   "name": "python",
   "nbconvert_exporter": "python",
   "pygments_lexer": "ipython3",
   "version": "3.8.5"
  }
 },
 "nbformat": 4,
 "nbformat_minor": 4
}
