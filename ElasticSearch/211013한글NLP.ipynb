{
 "cells": [
  {
   "cell_type": "code",
   "execution_count": 5,
   "id": "699fbdb7",
   "metadata": {},
   "outputs": [],
   "source": [
    "from elasticsearch import Elasticsearch, helpers\n",
    "import pandas as pd\n",
    "import csv\n",
    "from pprint import pprint # Json 출력 인덴트 주어 보기 편하게 출력.\n",
    "import pandas as pd # 데이터프레임 가공을 위한 라이브러리.\n",
    "import psycopg2 # 데이터베이스 연동을 위한 라이브러리.\n",
    "from konlpy.tag import Twitter, Kkma"
   ]
  },
  {
   "cell_type": "code",
   "execution_count": 3,
   "id": "da660e09",
   "metadata": {},
   "outputs": [
    {
     "data": {
      "text/plain": [
       "[('저', 'Noun'), ('는', 'Josa'), ('윤준', 'Noun'), ('입니다', 'Adjective')]"
      ]
     },
     "execution_count": 3,
     "metadata": {},
     "output_type": "execute_result"
    }
   ],
   "source": [
    "test = Twitter()\n",
    "test.pos(\"저는 윤준 입니다\")"
   ]
  },
  {
   "cell_type": "code",
   "execution_count": 6,
   "id": "43b43e4d",
   "metadata": {},
   "outputs": [
    {
     "data": {
      "text/plain": [
       "[('저', 'NP'),\n",
       " ('는', 'JX'),\n",
       " ('윤', 'NNG'),\n",
       " ('주', 'VV'),\n",
       " ('ㄴ', 'ETD'),\n",
       " ('이', 'VCP'),\n",
       " ('ㅂ니다', 'EFN')]"
      ]
     },
     "execution_count": 6,
     "metadata": {},
     "output_type": "execute_result"
    }
   ],
   "source": [
    "test2 = Kkma()\n",
    "test2.pos(\"저는 윤준 입니다\")"
   ]
  }
 ],
 "metadata": {
  "kernelspec": {
   "display_name": "Python 3",
   "language": "python",
   "name": "python3"
  },
  "language_info": {
   "codemirror_mode": {
    "name": "ipython",
    "version": 3
   },
   "file_extension": ".py",
   "mimetype": "text/x-python",
   "name": "python",
   "nbconvert_exporter": "python",
   "pygments_lexer": "ipython3",
   "version": "3.8.8"
  }
 },
 "nbformat": 4,
 "nbformat_minor": 5
}
