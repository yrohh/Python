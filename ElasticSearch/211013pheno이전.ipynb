{
 "cells": [
  {
   "cell_type": "markdown",
   "id": "77669746",
   "metadata": {},
   "source": [
    "### 라이브러리 로드"
   ]
  },
  {
   "cell_type": "code",
   "execution_count": 37,
   "id": "f5168cdb",
   "metadata": {},
   "outputs": [],
   "source": [
    "from elasticsearch import Elasticsearch, helpers\n",
    "import pandas as pd\n",
    "import csv\n",
    "from pprint import pprint # Json 출력 인덴트 주어 보기 편하게 출력.\n",
    "import pandas as pd # 데이터프레임 가공을 위한 라이브러리.\n",
    "import psycopg2 # 데이터베이스 연동을 위한 라이브러리."
   ]
  },
  {
   "cell_type": "markdown",
   "id": "b398f432",
   "metadata": {},
   "source": [
    "### DB 불러오기"
   ]
  },
  {
   "cell_type": "code",
   "execution_count": 3,
   "id": "80ee895a",
   "metadata": {},
   "outputs": [],
   "source": [
    "db = psycopg2.connect(host='', dbname='',user='',password='',port=) # 파이썬 db 연동."
   ]
  },
  {
   "cell_type": "markdown",
   "id": "7a682e4a",
   "metadata": {},
   "source": [
    "### Table 불러오기"
   ]
  },
  {
   "cell_type": "code",
   "execution_count": 7,
   "id": "77cd4dc1",
   "metadata": {},
   "outputs": [],
   "source": [
    "pheno = pd.read_sql(\"\"\"select pheno_id, pheno_origin, pheno, category, object_, adverb, comment_, writer from munjin.pheno2 order by pheno_id;\"\"\", db)"
   ]
  },
  {
   "cell_type": "markdown",
   "id": "d909c9cc",
   "metadata": {},
   "source": [
    "* pheno2 테이블"
   ]
  },
  {
   "cell_type": "markdown",
   "id": "3ab21f83",
   "metadata": {},
   "source": [
    "### Dict records 형태 변환"
   ]
  },
  {
   "cell_type": "code",
   "execution_count": 9,
   "id": "29c33185",
   "metadata": {},
   "outputs": [],
   "source": [
    "pheno_dict_records = pheno.to_dict('records')"
   ]
  },
  {
   "cell_type": "markdown",
   "id": "2a34da62",
   "metadata": {},
   "source": [
    "---------"
   ]
  },
  {
   "cell_type": "markdown",
   "id": "337d3d6c",
   "metadata": {},
   "source": [
    "### 엘라스틱 연동"
   ]
  },
  {
   "cell_type": "code",
   "execution_count": 10,
   "id": "09b295f4",
   "metadata": {
    "scrolled": true
   },
   "outputs": [
    {
     "data": {
      "text/plain": [
       "{'name': '',\n",
       " 'cluster_name': '',\n",
       " 'cluster_uuid': '',\n",
       " 'version': {'number': '7.3.1',\n",
       "  'build_flavor': 'default',\n",
       "  'build_type': 'docker',\n",
       "  'build_hash': '4749ba6',\n",
       "  'build_date': '2019-08-19T20:19:25.651794Z',\n",
       "  'build_snapshot': False,\n",
       "  'lucene_version': '8.1.0',\n",
       "  'minimum_wire_compatibility_version': '6.8.0',\n",
       "  'minimum_index_compatibility_version': '6.0.0-beta1'},\n",
       " 'tagline': 'You Know, for Search'}"
      ]
     },
     "execution_count": 10,
     "metadata": {},
     "output_type": "execute_result"
    }
   ],
   "source": [
    "es = Elasticsearch(\"\")\n",
    "es.info()"
   ]
  },
  {
   "cell_type": "markdown",
   "id": "4b8e5428",
   "metadata": {},
   "source": [
    "### 인덱스 Settings & Mappings 설정"
   ]
  },
  {
   "cell_type": "code",
   "execution_count": 11,
   "id": "1545ae8a",
   "metadata": {},
   "outputs": [],
   "source": [
    "index_sm = {\n",
    "\"settings\":{\n",
    "    \"analysis\":{\n",
    "        \"analyzer\":{\n",
    "            \"nori\":{\n",
    "                \"type\": \"custom\",\n",
    "                \"tokenizer\":\"nori_tokenizer\",\n",
    "                \"decompound\":\"mixed\"\n",
    "                }\n",
    "            }\n",
    "        }\n",
    "    },\n",
    "\"mappings\":{\n",
    "    \"properties\":{\n",
    "        \"pheno_id\":{\n",
    "            \"type\": \"integer\"\n",
    "            },\n",
    "        \"pheno_origin\":{\n",
    "            \"type\": \"text\",\n",
    "            \"analyzer\": \"nori\"\n",
    "            },\n",
    "        \"pheno\":{\n",
    "            \"type\": \"text\",\n",
    "            \"analyzer\": \"nori\"\n",
    "            },\n",
    "        \"category\":{\n",
    "            \"type\": \"keyword\"\n",
    "            },\n",
    "        \"object_\":{\n",
    "            \"type\": \"keyword\"\n",
    "            },\n",
    "        \"adverb\":{\n",
    "            \"type\": \"keyword\"\n",
    "            },\n",
    "        \"comment_\":{\n",
    "            \"type\": \"text\",\n",
    "            \"analyzer\": \"nori\"\n",
    "            },\n",
    "        \"writer\":{\n",
    "            \"type\": \"keyword\"\n",
    "            }\n",
    "        }\n",
    "    }        \n",
    "}\n"
   ]
  },
  {
   "cell_type": "markdown",
   "id": "bb727913",
   "metadata": {},
   "source": [
    "### INDEX 생성 함수"
   ]
  },
  {
   "cell_type": "code",
   "execution_count": 12,
   "id": "e018d7f8",
   "metadata": {},
   "outputs": [],
   "source": [
    "def create_index(es, index, body=None):\n",
    "    if not es.indices.exists(index=index):\n",
    "        if body is None:\n",
    "            r = es.indices.create(index=index)\n",
    "        else:\n",
    "            r = es.indices.create(index=index, body=body)\n",
    "            \n",
    "        return r\n",
    "    \n",
    "    else:\n",
    "        return \"Index already exists\""
   ]
  },
  {
   "cell_type": "markdown",
   "id": "eecd309e",
   "metadata": {},
   "source": [
    "### INDEX 생성"
   ]
  },
  {
   "cell_type": "code",
   "execution_count": 13,
   "id": "82cc026d",
   "metadata": {
    "scrolled": true
   },
   "outputs": [
    {
     "name": "stderr",
     "output_type": "stream",
     "text": [
      "<ipython-input-12-2aed582c6c1a>:6: DeprecationWarning: The 'body' parameter is deprecated for the 'create' API and will be removed in 8.0.0. Instead use API parameters directly. See https://github.com/elastic/elasticsearch-py/issues/1698 for more information\n",
      "  r = es.indices.create(index=index, body=body)\n"
     ]
    },
    {
     "data": {
      "text/plain": [
       "{'acknowledged': True, 'shards_acknowledged': True, 'index': 'pheno'}"
      ]
     },
     "execution_count": 13,
     "metadata": {},
     "output_type": "execute_result"
    }
   ],
   "source": [
    "create_index(es, \"pheno\", index_sm)"
   ]
  },
  {
   "cell_type": "markdown",
   "id": "1d3e131e",
   "metadata": {},
   "source": [
    "### Generator 함수(Helpers.bulk 함수 적용 위함)"
   ]
  },
  {
   "cell_type": "code",
   "execution_count": 33,
   "id": "b87b160e",
   "metadata": {},
   "outputs": [],
   "source": [
    "def generator(data_dict_records):\n",
    "    for i in range(0, len(data_dict_records)):\n",
    "        yield {\"_id\":data_dict_records[i]['pheno_id'], \"_source\": data_dict_records[i]}"
   ]
  },
  {
   "cell_type": "code",
   "execution_count": 34,
   "id": "1d5830fb",
   "metadata": {},
   "outputs": [],
   "source": [
    "import_data = generator(pheno_dict_records)"
   ]
  },
  {
   "cell_type": "markdown",
   "id": "11cf9567",
   "metadata": {},
   "source": [
    "### BULK DATA LOAD"
   ]
  },
  {
   "cell_type": "code",
   "execution_count": 35,
   "id": "73077601",
   "metadata": {},
   "outputs": [
    {
     "data": {
      "text/plain": [
       "(1224, [])"
      ]
     },
     "execution_count": 35,
     "metadata": {},
     "output_type": "execute_result"
    }
   ],
   "source": [
    "helpers.bulk(es, import_data, index=\"pheno\")"
   ]
  },
  {
   "cell_type": "markdown",
   "id": "f6859340",
   "metadata": {},
   "source": [
    "### 인덱스 내 모든 doc 검색"
   ]
  },
  {
   "cell_type": "code",
   "execution_count": 36,
   "id": "73c2c39d",
   "metadata": {},
   "outputs": [
    {
     "name": "stderr",
     "output_type": "stream",
     "text": [
      "<ipython-input-36-48a991848474>:1: DeprecationWarning: The 'body' parameter is deprecated for the 'search' API and will be removed in 8.0.0. Instead use API parameters directly. See https://github.com/elastic/elasticsearch-py/issues/1698 for more information\n",
      "  es.search(index='pheno', body={\"query\":{\"match_all\" : {}}})\n"
     ]
    },
    {
     "data": {
      "text/plain": [
       "{'took': 129,\n",
       " 'timed_out': False,\n",
       " '_shards': {'total': 1, 'successful': 1, 'skipped': 0, 'failed': 0},\n",
       " 'hits': {'total': {'value': 1224, 'relation': 'eq'},\n",
       "  'max_score': 1.0,\n",
       "  'hits': [{'_index': 'pheno',\n",
       "    '_type': '_doc',\n",
       "    '_id': '1',\n",
       "    '_score': 1.0,\n",
       "    '_source': {'pheno_id': 1,\n",
       "     'pheno_origin': '어지러움',\n",
       "     'pheno': '어지러움',\n",
       "     'category': 'clinical finding',\n",
       "     'object_': None,\n",
       "     'adverb': None,\n",
       "     'comment_': '',\n",
       "     'writer': 'yoon'}},\n",
       "   {'_index': 'pheno',\n",
       "    '_type': '_doc',\n",
       "    '_id': '2',\n",
       "    '_score': 1.0,\n",
       "    '_source': {'pheno_id': 2,\n",
       "     'pheno_origin': '기침',\n",
       "     'pheno': '기침',\n",
       "     'category': 'clinical finding',\n",
       "     'object_': None,\n",
       "     'adverb': None,\n",
       "     'comment_': '',\n",
       "     'writer': 'yoon'}},\n",
       "   {'_index': 'pheno',\n",
       "    '_type': '_doc',\n",
       "    '_id': '3',\n",
       "    '_score': 1.0,\n",
       "    '_source': {'pheno_id': 3,\n",
       "     'pheno_origin': '콧물',\n",
       "     'pheno': '콧물',\n",
       "     'category': 'clinical finding',\n",
       "     'object_': None,\n",
       "     'adverb': None,\n",
       "     'comment_': '',\n",
       "     'writer': 'yoon'}},\n",
       "   {'_index': 'pheno',\n",
       "    '_type': '_doc',\n",
       "    '_id': '4',\n",
       "    '_score': 1.0,\n",
       "    '_source': {'pheno_id': 4,\n",
       "     'pheno_origin': '복통',\n",
       "     'pheno': '복통',\n",
       "     'category': 'clinical finding',\n",
       "     'object_': None,\n",
       "     'adverb': None,\n",
       "     'comment_': '',\n",
       "     'writer': 'yoon'}},\n",
       "   {'_index': 'pheno',\n",
       "    '_type': '_doc',\n",
       "    '_id': '5',\n",
       "    '_score': 1.0,\n",
       "    '_source': {'pheno_id': 5,\n",
       "     'pheno_origin': '구토',\n",
       "     'pheno': '구토',\n",
       "     'category': 'clinical finding',\n",
       "     'object_': None,\n",
       "     'adverb': None,\n",
       "     'comment_': '',\n",
       "     'writer': 'yoon'}},\n",
       "   {'_index': 'pheno',\n",
       "    '_type': '_doc',\n",
       "    '_id': '6',\n",
       "    '_score': 1.0,\n",
       "    '_source': {'pheno_id': 6,\n",
       "     'pheno_origin': '설사',\n",
       "     'pheno': '설사',\n",
       "     'category': 'clinical finding',\n",
       "     'object_': None,\n",
       "     'adverb': None,\n",
       "     'comment_': '',\n",
       "     'writer': 'yoon'}},\n",
       "   {'_index': 'pheno',\n",
       "    '_type': '_doc',\n",
       "    '_id': '7',\n",
       "    '_score': 1.0,\n",
       "    '_source': {'pheno_id': 7,\n",
       "     'pheno_origin': '두통',\n",
       "     'pheno': '두통',\n",
       "     'category': 'clinical finding',\n",
       "     'object_': None,\n",
       "     'adverb': None,\n",
       "     'comment_': '',\n",
       "     'writer': 'yoon'}},\n",
       "   {'_index': 'pheno',\n",
       "    '_type': '_doc',\n",
       "    '_id': '8',\n",
       "    '_score': 1.0,\n",
       "    '_source': {'pheno_id': 8,\n",
       "     'pheno_origin': '발열',\n",
       "     'pheno': '발열',\n",
       "     'category': 'clinical finding',\n",
       "     'object_': None,\n",
       "     'adverb': None,\n",
       "     'comment_': '',\n",
       "     'writer': 'yoon'}},\n",
       "   {'_index': 'pheno',\n",
       "    '_type': '_doc',\n",
       "    '_id': '9',\n",
       "    '_score': 1.0,\n",
       "    '_source': {'pheno_id': 9,\n",
       "     'pheno_origin': '귀울림소리',\n",
       "     'pheno': '귀울림소리',\n",
       "     'category': 'clinical finding',\n",
       "     'object_': None,\n",
       "     'adverb': None,\n",
       "     'comment_': '',\n",
       "     'writer': 'yoon'}},\n",
       "   {'_index': 'pheno',\n",
       "    '_type': '_doc',\n",
       "    '_id': '10',\n",
       "    '_score': 1.0,\n",
       "    '_source': {'pheno_id': 10,\n",
       "     'pheno_origin': '귀 먹먹함',\n",
       "     'pheno': '귀 먹먹함',\n",
       "     'category': 'clinical finding',\n",
       "     'object_': None,\n",
       "     'adverb': None,\n",
       "     'comment_': '',\n",
       "     'writer': 'yoon'}}]}}"
      ]
     },
     "execution_count": 36,
     "metadata": {},
     "output_type": "execute_result"
    }
   ],
   "source": [
    "es.search(index='pheno', body={\"query\":{\"match_all\" : {}}})"
   ]
  }
 ],
 "metadata": {
  "kernelspec": {
   "display_name": "Python 3",
   "language": "python",
   "name": "python3"
  },
  "language_info": {
   "codemirror_mode": {
    "name": "ipython",
    "version": 3
   },
   "file_extension": ".py",
   "mimetype": "text/x-python",
   "name": "python",
   "nbconvert_exporter": "python",
   "pygments_lexer": "ipython3",
   "version": "3.8.8"
  }
 },
 "nbformat": 4,
 "nbformat_minor": 5
}
