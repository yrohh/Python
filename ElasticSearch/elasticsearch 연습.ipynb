{
 "cells": [
  {
   "cell_type": "markdown",
   "id": "bc29191a",
   "metadata": {},
   "source": [
    "# 참고 사이트\n",
    "* https://jvvp.tistory.com/1152 crud 위주\n",
    "* http://jason-heo.github.io/elasticsearch/2016/07/16/elasticsearch-with-python.html#5-1-%EB%AA%A8%EB%93%A0-index-%EC%B6%9C%EB%A0%A5%ED%95%98%EA%B8%B0 "
   ]
  },
  {
   "cell_type": "markdown",
   "id": "1ea0b2ff",
   "metadata": {},
   "source": [
    "### 라이브러리 로드"
   ]
  },
  {
   "cell_type": "code",
   "execution_count": 3,
   "id": "71b12ecd",
   "metadata": {},
   "outputs": [],
   "source": [
    "from elasticsearch import Elasticsearch, helpers\n",
    "import pandas as pd\n",
    "import csv\n",
    "from pprint import pprint # Json 출력 인덴트 주어 보기 편하게 출력."
   ]
  },
  {
   "cell_type": "markdown",
   "id": "a48f8674",
   "metadata": {},
   "source": [
    "### 엘라스틱 연동"
   ]
  },
  {
   "cell_type": "code",
   "execution_count": 4,
   "id": "7b17c1e2",
   "metadata": {},
   "outputs": [
    {
     "data": {
      "text/plain": [
       "{'name': '6d37a750a0ac',\n",
       " 'cluster_name': '-',\n",
       " 'cluster_uuid': '',\n",
       " 'version': {'number': '7.3.1',\n",
       "  'build_flavor': 'default',\n",
       "  'build_type': 'docker',\n",
       "  'build_hash': '4749ba6',\n",
       "  'build_date': '2019-08-19T20:19:25.651794Z',\n",
       "  'build_snapshot': False,\n",
       "  'lucene_version': '8.1.0',\n",
       "  'minimum_wire_compatibility_version': '6.8.0',\n",
       "  'minimum_index_compatibility_version': '6.0.0-beta1'},\n",
       " 'tagline': 'You Know, for Search'}"
      ]
     },
     "execution_count": 4,
     "metadata": {},
     "output_type": "execute_result"
    }
   ],
   "source": [
    "es = Elasticsearch(\"\")\n",
    "es.info()"
   ]
  },
  {
   "cell_type": "markdown",
   "id": "81dc5c0e",
   "metadata": {},
   "source": [
    "### CSV 파일 적재(대용량 방법)"
   ]
  },
  {
   "cell_type": "code",
   "execution_count": 3,
   "id": "ebf3ca10",
   "metadata": {},
   "outputs": [],
   "source": [
    "with open(r\"C:\\Users\\belab\\Desktop\\jun_test.csv\") as f:\n",
    "    reader = csv.DictReader(f)\n",
    "    helpers.bulk(es, reader, index=\"munjin\", doc_type=\"doc\")\n",
    "    f.close"
   ]
  },
  {
   "cell_type": "markdown",
   "id": "ae1795d8",
   "metadata": {},
   "source": [
    "### 검색 함수"
   ]
  },
  {
   "cell_type": "code",
   "execution_count": 5,
   "id": "1058cc6b",
   "metadata": {},
   "outputs": [],
   "source": [
    "def search_a(index, data=None):\n",
    "    if data is None:\n",
    "        data = {\"match_all\" : {}} # select * from Table.\n",
    "    else:\n",
    "        data = {\"match\" : data}\n",
    "    body = {\"query\" : data}\n",
    "    res = es.search(index=index, body=body)\n",
    "    \n",
    "    return res"
   ]
  },
  {
   "cell_type": "markdown",
   "id": "9df1d151",
   "metadata": {},
   "source": [
    "* munjin 테이블에서 pheno_name에 '가슴'을 포함하는 docs 조회(단일열)\n",
    "#### ≒ select * from munjin where pheno_name like '%가슴%';"
   ]
  },
  {
   "cell_type": "code",
   "execution_count": 11,
   "id": "0cb0ad7e",
   "metadata": {
    "scrolled": true
   },
   "outputs": [
    {
     "name": "stdout",
     "output_type": "stream",
     "text": [
      "{'_shards': {'failed': 0, 'skipped': 0, 'successful': 1, 'total': 1},\n",
      " 'hits': {'hits': [],\n",
      "          'max_score': None,\n",
      "          'total': {'relation': 'eq', 'value': 0}},\n",
      " 'timed_out': False,\n",
      " 'took': 0}\n"
     ]
    },
    {
     "name": "stderr",
     "output_type": "stream",
     "text": [
      "<ipython-input-10-127c1468cbef>:7: DeprecationWarning: The 'body' parameter is deprecated for the 'search' API and will be removed in 8.0.0. Instead use API parameters directly. See https://github.com/elastic/elasticsearch-py/issues/1698 for more information\n",
      "  res = es.search(index=index, body=body)\n"
     ]
    }
   ],
   "source": [
    "a = search_a(\"munjin\",{'query':'운동 후 흉통'})\n",
    "pprint(a)"
   ]
  },
  {
   "cell_type": "code",
   "execution_count": 14,
   "id": "db06f3dc",
   "metadata": {},
   "outputs": [
    {
     "name": "stdout",
     "output_type": "stream",
     "text": [
      "{'_shards': {'failed': 0, 'skipped': 0, 'successful': 1, 'total': 1},\n",
      " 'hits': {'hits': [{'_id': 'Qg27XnwBwCLgtTq-R_7E',\n",
      "                    '_index': 'munjin',\n",
      "                    '_score': 15.647085,\n",
      "                    '_source': {'answer_id': 'A0002864',\n",
      "                                'answer_name': '운동 후 흉통, 호흡곤란과 더불어',\n",
      "                                'comment_': '',\n",
      "                                'insert_dt': '44463',\n",
      "                                'main': 'sub',\n",
      "                                'munjin_id': '3464',\n",
      "                                'naire_id': '46',\n",
      "                                'naire_name': '실신 질문지',\n",
      "                                'negative': '0',\n",
      "                                'period_': 'present',\n",
      "                                'pheno_id': '893',\n",
      "                                'pheno_name': '운동 후 흉통',\n",
      "                                'property': '',\n",
      "                                'qualifier_id': '',\n",
      "                                'qualifier_name': '',\n",
      "                                'question_id': 'Q1000585',\n",
      "                                'question_name': '{B}실신{/B}이 어떻게 시작되었나요?',\n",
      "                                'sct_code': '',\n",
      "                                'sct_name': '',\n",
      "                                'target': 'adult',\n",
      "                                'unit': '',\n",
      "                                'unit_standard': '',\n",
      "                                'update_dt': '',\n",
      "                                'value': '',\n",
      "                                'value2': '',\n",
      "                                'writer': 'kim'},\n",
      "                    '_type': 'doc'}],\n",
      "          'max_score': 15.647085,\n",
      "          'total': {'relation': 'eq', 'value': 1}},\n",
      " 'timed_out': False,\n",
      " 'took': 1}\n"
     ]
    },
    {
     "name": "stderr",
     "output_type": "stream",
     "text": [
      "<ipython-input-14-199e505c5c85>:1: DeprecationWarning: The 'body' parameter is deprecated for the 'search' API and will be removed in 8.0.0. Instead use API parameters directly. See https://github.com/elastic/elasticsearch-py/issues/1698 for more information\n",
      "  pprint(es.search(index='munjin', body={\"query\" : {\"match\" : {\"pheno_name\" : { \"query\" : \"운동 후 흉통\", \"operator\" : \"and\"}}}}))\n"
     ]
    }
   ],
   "source": [
    "pprint(es.search(index='munjin', body={\"query\" : {\"match\" : {\"pheno_name\" : { \"query\" : \"운동 후 흉통\", \"operator\" : \"and\"}}}}))"
   ]
  },
  {
   "cell_type": "markdown",
   "id": "270c1086",
   "metadata": {},
   "source": [
    "### 적재된 모든 인덱스(테이블)명 조회"
   ]
  },
  {
   "cell_type": "code",
   "execution_count": 7,
   "id": "85de4799",
   "metadata": {
    "scrolled": true
   },
   "outputs": [
    {
     "name": "stdout",
     "output_type": "stream",
     "text": [
      "dict_keys(['.monitoring-kibana-7-2021.10.08', 'test_index_2', 'kibana_sample_data_ecommerce', '.monitoring-es-7-2021.10.12', '.monitoring-es-7-2021.10.07', 'munjin', '.monitoring-es-7-2021.10.11', '.monitoring-logstash-7-2021.10.08', '.monitoring-logstash-7-2021.10.12', '.monitoring-kibana-7-2021.10.12', 'clinical32', '.monitoring-es-7-2021.10.06', '.monitoring-es-7-2021.10.09', '.monitoring-kibana-7-2021.10.09', '.monitoring-logstash-7-2021.10.07', '.monitoring-kibana-7-2021.10.11', '.kibana_task_manager', '.monitoring-logstash-7-2021.10.09', '.monitoring-es-7-2021.10.08', 'test-index', '.monitoring-es-7-2021.10.10', 'news', '.kibana_1', '.monitoring-kibana-7-2021.10.10', 'nori-test', '.monitoring-logstash-7-2021.10.11', '.monitoring-kibana-7-2021.10.07', '.monitoring-kibana-7-2021.10.06', '.monitoring-logstash-7-2021.10.10', 'kibana_sample_data_flights', 'kibana_sample_data_logs', '.monitoring-logstash-7-2021.10.06', 'test_jun'])\n"
     ]
    }
   ],
   "source": [
    "print(es.indices.get_alias().keys())"
   ]
  },
  {
   "cell_type": "markdown",
   "id": "4cd15215",
   "metadata": {},
   "source": [
    "### 인덱스 생성"
   ]
  },
  {
   "cell_type": "code",
   "execution_count": 1,
   "id": "d7efbbcf",
   "metadata": {},
   "outputs": [],
   "source": [
    "munjin_index_setting = {\n",
    "    \"settings\":{\n",
    "        \"analysis\":{\n",
    "            \"analyzer\":{\n",
    "                \"nori\":{\n",
    "                    \"type\":\"custom\",\n",
    "                    \"tokenizer\":\"nori_tokenizer\",\n",
    "                    \"decompound\":\"mixed\" # 복합명사 분석 방법 {None, Discard, Mixed}\n",
    "                }\n",
    "            }\n",
    "        }\n",
    "    }\n",
    "    \"mappings\":{\n",
    "        \"properties\":{\n",
    "            \"term_code\":{\n",
    "                \"type\":\"keyword\"\n",
    "            },\n",
    "            \"concept_code\":{\n",
    "                \"type\":\"keyword\"\n",
    "            },\n",
    "            \"name_eng\":{\n",
    "                \"type\":\"text\",\n",
    "            },\n",
    "            \"name_kor\":{\n",
    "                \"type\":\"text\",\n",
    "                \"analyzer\":\"nori\"\n",
    "            }\n",
    "        }\n",
    "    }\n",
    "}"
   ]
  },
  {
   "cell_type": "markdown",
   "id": "8cc43acd",
   "metadata": {},
   "source": [
    "### 인덱스 매핑 조회"
   ]
  },
  {
   "cell_type": "code",
   "execution_count": 20,
   "id": "9ab91361",
   "metadata": {
    "scrolled": true
   },
   "outputs": [
    {
     "name": "stderr",
     "output_type": "stream",
     "text": [
      "<ipython-input-20-85984da17ad6>:1: DeprecationWarning: Using positional arguments for APIs is deprecated and will be disabled in 8.0.0. Instead use only keyword arguments for all APIs. See https://github.com/elastic/elasticsearch-py/issues/1698 for more information\n",
      "  es.indices.get_mapping(\"munjin\")\n"
     ]
    },
    {
     "data": {
      "text/plain": [
       "{'munjin': {'mappings': {'properties': {'answer_id': {'type': 'text',\n",
       "     'fields': {'keyword': {'type': 'keyword', 'ignore_above': 256}}},\n",
       "    'answer_name': {'type': 'text',\n",
       "     'fields': {'keyword': {'type': 'keyword', 'ignore_above': 256}}},\n",
       "    'comment_': {'type': 'text',\n",
       "     'fields': {'keyword': {'type': 'keyword', 'ignore_above': 256}}},\n",
       "    'insert_dt': {'type': 'text',\n",
       "     'fields': {'keyword': {'type': 'keyword', 'ignore_above': 256}}},\n",
       "    'main': {'type': 'text',\n",
       "     'fields': {'keyword': {'type': 'keyword', 'ignore_above': 256}}},\n",
       "    'munjin_id': {'type': 'text',\n",
       "     'fields': {'keyword': {'type': 'keyword', 'ignore_above': 256}}},\n",
       "    'naire_id': {'type': 'text',\n",
       "     'fields': {'keyword': {'type': 'keyword', 'ignore_above': 256}}},\n",
       "    'naire_name': {'type': 'text',\n",
       "     'fields': {'keyword': {'type': 'keyword', 'ignore_above': 256}}},\n",
       "    'negative': {'type': 'text',\n",
       "     'fields': {'keyword': {'type': 'keyword', 'ignore_above': 256}}},\n",
       "    'period_': {'type': 'text',\n",
       "     'fields': {'keyword': {'type': 'keyword', 'ignore_above': 256}}},\n",
       "    'pheno_id': {'type': 'text',\n",
       "     'fields': {'keyword': {'type': 'keyword', 'ignore_above': 256}}},\n",
       "    'pheno_name': {'type': 'text',\n",
       "     'fields': {'keyword': {'type': 'keyword', 'ignore_above': 256}}},\n",
       "    'property': {'type': 'text',\n",
       "     'fields': {'keyword': {'type': 'keyword', 'ignore_above': 256}}},\n",
       "    'qualifier_id': {'type': 'text',\n",
       "     'fields': {'keyword': {'type': 'keyword', 'ignore_above': 256}}},\n",
       "    'qualifier_name': {'type': 'text',\n",
       "     'fields': {'keyword': {'type': 'keyword', 'ignore_above': 256}}},\n",
       "    'question_id': {'type': 'text',\n",
       "     'fields': {'keyword': {'type': 'keyword', 'ignore_above': 256}}},\n",
       "    'question_name': {'type': 'text',\n",
       "     'fields': {'keyword': {'type': 'keyword', 'ignore_above': 256}}},\n",
       "    'sct_code': {'type': 'text',\n",
       "     'fields': {'keyword': {'type': 'keyword', 'ignore_above': 256}}},\n",
       "    'sct_name': {'type': 'text',\n",
       "     'fields': {'keyword': {'type': 'keyword', 'ignore_above': 256}}},\n",
       "    'target': {'type': 'text',\n",
       "     'fields': {'keyword': {'type': 'keyword', 'ignore_above': 256}}},\n",
       "    'unit': {'type': 'text',\n",
       "     'fields': {'keyword': {'type': 'keyword', 'ignore_above': 256}}},\n",
       "    'unit_standard': {'type': 'text',\n",
       "     'fields': {'keyword': {'type': 'keyword', 'ignore_above': 256}}},\n",
       "    'update_dt': {'type': 'text',\n",
       "     'fields': {'keyword': {'type': 'keyword', 'ignore_above': 256}}},\n",
       "    'value': {'type': 'text',\n",
       "     'fields': {'keyword': {'type': 'keyword', 'ignore_above': 256}}},\n",
       "    'value2': {'type': 'text',\n",
       "     'fields': {'keyword': {'type': 'keyword', 'ignore_above': 256}}},\n",
       "    'writer': {'type': 'text',\n",
       "     'fields': {'keyword': {'type': 'keyword', 'ignore_above': 256}}}}}}}"
      ]
     },
     "execution_count": 20,
     "metadata": {},
     "output_type": "execute_result"
    }
   ],
   "source": [
    "es.indices.get_mapping(\"munjin\")"
   ]
  },
  {
   "cell_type": "markdown",
   "id": "b7a0e78a",
   "metadata": {},
   "source": [
    "### Analyze 테스트"
   ]
  },
  {
   "cell_type": "code",
   "execution_count": 45,
   "id": "1a1e8991",
   "metadata": {
    "scrolled": true
   },
   "outputs": [
    {
     "data": {
      "text/plain": [
       "{'tokens': [{'token': 'Abc',\n",
       "   'start_offset': 0,\n",
       "   'end_offset': 3,\n",
       "   'type': 'word',\n",
       "   'position': 0},\n",
       "  {'token': 'ddd',\n",
       "   'start_offset': 4,\n",
       "   'end_offset': 7,\n",
       "   'type': 'word',\n",
       "   'position': 1}]}"
      ]
     },
     "execution_count": 45,
     "metadata": {},
     "output_type": "execute_result"
    }
   ],
   "source": [
    "res = es.indices.analyze(body={\n",
    "    \"tokenizer\":\"nori_tokenizer\",\n",
    "    \"text\" : \"Abc ddd\"\n",
    "})\n",
    "# tokens = [value['token'] for index, value in enumerate(res['tokens'])] # enumerate 함수는 인덱스와 값을 튜플로 반환하는 함수.\n",
    "# tokens\n",
    "res"
   ]
  }
 ],
 "metadata": {
  "kernelspec": {
   "display_name": "Python 3",
   "language": "python",
   "name": "python3"
  },
  "language_info": {
   "codemirror_mode": {
    "name": "ipython",
    "version": 3
   },
   "file_extension": ".py",
   "mimetype": "text/x-python",
   "name": "python",
   "nbconvert_exporter": "python",
   "pygments_lexer": "ipython3",
   "version": "3.8.8"
  }
 },
 "nbformat": 4,
 "nbformat_minor": 5
}
