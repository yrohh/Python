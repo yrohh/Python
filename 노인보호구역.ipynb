{
 "cells": [
  {
   "cell_type": "code",
   "execution_count": 1,
   "metadata": {},
   "outputs": [],
   "source": [
    "import pandas as pd\n",
    "import numpy as np\n",
    "from pandas import DataFrame, Series\n",
    "import matplotlib.pyplot as plt"
   ]
  },
  {
   "cell_type": "code",
   "execution_count": 2,
   "metadata": {},
   "outputs": [],
   "source": [
    "강원 = pd.read_csv('C:/Users/user/Desktop/교통사고/빅데이터인턴분석자료통합버전_강원.csv', encoding='CP949')"
   ]
  },
  {
   "cell_type": "code",
   "execution_count": 3,
   "metadata": {},
   "outputs": [
    {
     "data": {
      "text/plain": [
       "(41121, 58)"
      ]
     },
     "execution_count": 3,
     "metadata": {},
     "output_type": "execute_result"
    }
   ],
   "source": [
    "강원.shape"
   ]
  },
  {
   "cell_type": "code",
   "execution_count": 4,
   "metadata": {},
   "outputs": [
    {
     "name": "stdout",
     "output_type": "stream",
     "text": [
      "<class 'pandas.core.frame.DataFrame'>\n",
      "RangeIndex: 41121 entries, 0 to 41120\n",
      "Data columns (total 58 columns):\n",
      " #   Column        Non-Null Count  Dtype \n",
      "---  ------        --------------  ----- \n",
      " 0   사고번호          41121 non-null  int64 \n",
      " 1   발생일시          41121 non-null  int64 \n",
      " 2   발생지_시도        41121 non-null  object\n",
      " 3   발생지_시군구       41121 non-null  object\n",
      " 4   법정동코드         41121 non-null  int64 \n",
      " 5   요일            41121 non-null  object\n",
      " 6   주야            41121 non-null  object\n",
      " 7   사고내용          41121 non-null  object\n",
      " 8   사고유형_대분류      41121 non-null  object\n",
      " 9   사고유형_중분류      41121 non-null  object\n",
      " 10  사고유형          41121 non-null  object\n",
      " 11  가해자성별         41121 non-null  object\n",
      " 12  피해자성별         41121 non-null  object\n",
      " 13  연령가해자         41121 non-null  object\n",
      " 14  연령피해자         41121 non-null  object\n",
      " 15  가해자음주_대분류     41121 non-null  object\n",
      " 16  가해자음주         41121 non-null  object\n",
      " 17  보호장구가해자_대분류   41121 non-null  object\n",
      " 18  보호장구가해자       41121 non-null  object\n",
      " 19  보호장구피해자_대분류   41121 non-null  object\n",
      " 20  보호장구피해자       41121 non-null  object\n",
      " 21  법규위반가해자       41121 non-null  object\n",
      " 22  행동유형가해자_대분류   41121 non-null  object\n",
      " 23  행동유형가해자_중분류   41121 non-null  object\n",
      " 24  행동유형가해자       41121 non-null  object\n",
      " 25  신체상해정도가해자     41121 non-null  object\n",
      " 26  신체상해정도피해자     41121 non-null  object\n",
      " 27  가해자신체상해주부위    41121 non-null  object\n",
      " 28  피해자신체상해주부위    41121 non-null  object\n",
      " 29  당사자종별가해자_대분류  41121 non-null  object\n",
      " 30  당사자종별가해자      41121 non-null  object\n",
      " 31  당사자종별피해자_대분류  41121 non-null  object\n",
      " 32  당사자종별피해자      41121 non-null  object\n",
      " 33  차량용도가해자_대분류   41121 non-null  object\n",
      " 34  차량용도가해자_중분류   41121 non-null  object\n",
      " 35  차량용도가해자       41121 non-null  object\n",
      " 36  차량용도피해자_대분류   41121 non-null  object\n",
      " 37  차량용도피해자_중분류   41121 non-null  object\n",
      " 38  차량용도피해자       41121 non-null  object\n",
      " 39  도로종류          41121 non-null  object\n",
      " 40  도로형태_대분류      41121 non-null  object\n",
      " 41  도로형태          41121 non-null  object\n",
      " 42  노인보호구역_여부     41121 non-null  object\n",
      " 43  어린이보호구역_여부    41121 non-null  object\n",
      " 44  자전거도로_여부      25316 non-null  object\n",
      " 45  도로선형_대분류      41121 non-null  object\n",
      " 46  도로선형_중분류      41121 non-null  object\n",
      " 47  도로선형          41121 non-null  object\n",
      " 48  기상상태          41121 non-null  object\n",
      " 49  노면상태_대분류      41121 non-null  object\n",
      " 50  노면상태          41121 non-null  object\n",
      " 51  교차로형태_대분류     41121 non-null  object\n",
      " 52  교차로형태         41121 non-null  object\n",
      " 53  사망자수          41121 non-null  int64 \n",
      " 54  중상자수          41121 non-null  int64 \n",
      " 55  경상자수          41121 non-null  int64 \n",
      " 56  부상신고자수        41121 non-null  int64 \n",
      " 57  사고위치폴리곤       41121 non-null  object\n",
      "dtypes: int64(7), object(51)\n",
      "memory usage: 18.2+ MB\n"
     ]
    }
   ],
   "source": [
    "강원.info()"
   ]
  },
  {
   "cell_type": "code",
   "execution_count": 5,
   "metadata": {},
   "outputs": [
    {
     "data": {
      "text/plain": [
       "array(['51세', '불명', '54세', '37세', '44세', '72세', '13세', '48세', '47세',\n",
       "       '53세', '57세', '40세', '36세', '45세', '35세', '33세', '58세', '39세',\n",
       "       '68세', '50세', '21세', '62세', '17세', '29세', '23세', '30세', '75세',\n",
       "       '60세', '19세', '38세', '43세', '46세', '20세', '8세', '41세', '52세',\n",
       "       '84세', '70세', '49세', '34세', '32세', '18세', '56세', '26세', '89세',\n",
       "       '85세', '67세', '80세', '28세', '78세', '42세', '24세', '55세', '31세',\n",
       "       '76세', '61세', '59세', '73세', '69세', '27세', '71세', '22세', '66세',\n",
       "       '65세', '16세', '4세', '88세', '9세', '63세', '10세', '14세', '15세', '64세',\n",
       "       '74세', '5세', '79세', '7세', '25세', '81세', '11세', '95세', '77세', '6세',\n",
       "       '83세', '86세', '1세', '92세', '82세', '93세', '3세', '87세', '94세', '12세',\n",
       "       '90세', '98세', '2세', '91세', '96세', '97세', '99세', '100세', '없음'],\n",
       "      dtype=object)"
      ]
     },
     "execution_count": 5,
     "metadata": {},
     "output_type": "execute_result"
    }
   ],
   "source": [
    "강원.연령피해자.unique()"
   ]
  },
  {
   "cell_type": "code",
   "execution_count": 6,
   "metadata": {},
   "outputs": [],
   "source": [
    "강원.loc[(강원['연령피해자']=='불명')|(강원['연령피해자']=='없음'),'연령피해자'] = 0"
   ]
  },
  {
   "cell_type": "code",
   "execution_count": 7,
   "metadata": {},
   "outputs": [
    {
     "data": {
      "text/plain": [
       "0         51\n",
       "1        NaN\n",
       "2         54\n",
       "3         37\n",
       "4         44\n",
       "        ... \n",
       "41116     52\n",
       "41117     67\n",
       "41118     47\n",
       "41119     51\n",
       "41120     35\n",
       "Name: 피해자연령, Length: 41121, dtype: object"
      ]
     },
     "execution_count": 7,
     "metadata": {},
     "output_type": "execute_result"
    }
   ],
   "source": [
    "강원['피해자연령'] = 강원['연령피해자'].str[:-1]\n",
    "강원['피해자연령']"
   ]
  },
  {
   "cell_type": "code",
   "execution_count": 8,
   "metadata": {},
   "outputs": [],
   "source": [
    "강원 = 강원.dropna(subset=['피해자연령'])"
   ]
  },
  {
   "cell_type": "code",
   "execution_count": 9,
   "metadata": {},
   "outputs": [
    {
     "data": {
      "text/html": [
       "<div>\n",
       "<style scoped>\n",
       "    .dataframe tbody tr th:only-of-type {\n",
       "        vertical-align: middle;\n",
       "    }\n",
       "\n",
       "    .dataframe tbody tr th {\n",
       "        vertical-align: top;\n",
       "    }\n",
       "\n",
       "    .dataframe thead th {\n",
       "        text-align: right;\n",
       "    }\n",
       "</style>\n",
       "<table border=\"1\" class=\"dataframe\">\n",
       "  <thead>\n",
       "    <tr style=\"text-align: right;\">\n",
       "      <th></th>\n",
       "      <th>사고번호</th>\n",
       "      <th>발생일시</th>\n",
       "      <th>발생지_시도</th>\n",
       "      <th>발생지_시군구</th>\n",
       "      <th>법정동코드</th>\n",
       "      <th>요일</th>\n",
       "      <th>주야</th>\n",
       "      <th>사고내용</th>\n",
       "      <th>사고유형_대분류</th>\n",
       "      <th>사고유형_중분류</th>\n",
       "      <th>...</th>\n",
       "      <th>노면상태_대분류</th>\n",
       "      <th>노면상태</th>\n",
       "      <th>교차로형태_대분류</th>\n",
       "      <th>교차로형태</th>\n",
       "      <th>사망자수</th>\n",
       "      <th>중상자수</th>\n",
       "      <th>경상자수</th>\n",
       "      <th>부상신고자수</th>\n",
       "      <th>사고위치폴리곤</th>\n",
       "      <th>피해자연령</th>\n",
       "    </tr>\n",
       "  </thead>\n",
       "  <tbody>\n",
       "    <tr>\n",
       "      <th>0</th>\n",
       "      <td>2015010100100019</td>\n",
       "      <td>2015010100</td>\n",
       "      <td>강원</td>\n",
       "      <td>춘천시</td>\n",
       "      <td>4211031022</td>\n",
       "      <td>목</td>\n",
       "      <td>야</td>\n",
       "      <td>중상</td>\n",
       "      <td>차대차</td>\n",
       "      <td>측면충돌</td>\n",
       "      <td>...</td>\n",
       "      <td>포장</td>\n",
       "      <td>건조</td>\n",
       "      <td>교차로</td>\n",
       "      <td>교차로 - 사지</td>\n",
       "      <td>0</td>\n",
       "      <td>1</td>\n",
       "      <td>3</td>\n",
       "      <td>0</td>\n",
       "      <td>POLYGON((1023551 1986551,1023551 1986600,10236...</td>\n",
       "      <td>51</td>\n",
       "    </tr>\n",
       "    <tr>\n",
       "      <th>2</th>\n",
       "      <td>2015010200100075</td>\n",
       "      <td>2015010208</td>\n",
       "      <td>강원</td>\n",
       "      <td>춘천시</td>\n",
       "      <td>4211012400</td>\n",
       "      <td>금</td>\n",
       "      <td>주</td>\n",
       "      <td>경상</td>\n",
       "      <td>차대차</td>\n",
       "      <td>추돌</td>\n",
       "      <td>...</td>\n",
       "      <td>포장</td>\n",
       "      <td>건조</td>\n",
       "      <td>교차로</td>\n",
       "      <td>교차로 - 사지</td>\n",
       "      <td>0</td>\n",
       "      <td>0</td>\n",
       "      <td>2</td>\n",
       "      <td>0</td>\n",
       "      <td>POLYGON((1021101 1984151,1021101 1984200,10211...</td>\n",
       "      <td>54</td>\n",
       "    </tr>\n",
       "    <tr>\n",
       "      <th>3</th>\n",
       "      <td>2015010200100205</td>\n",
       "      <td>2015010213</td>\n",
       "      <td>강원</td>\n",
       "      <td>춘천시</td>\n",
       "      <td>4211012100</td>\n",
       "      <td>금</td>\n",
       "      <td>주</td>\n",
       "      <td>경상</td>\n",
       "      <td>차대차</td>\n",
       "      <td>추돌</td>\n",
       "      <td>...</td>\n",
       "      <td>포장</td>\n",
       "      <td>건조</td>\n",
       "      <td>교차로아님</td>\n",
       "      <td>교차로아님</td>\n",
       "      <td>0</td>\n",
       "      <td>0</td>\n",
       "      <td>1</td>\n",
       "      <td>0</td>\n",
       "      <td>POLYGON((1019201 1985201,1019201 1985250,10192...</td>\n",
       "      <td>37</td>\n",
       "    </tr>\n",
       "    <tr>\n",
       "      <th>4</th>\n",
       "      <td>2015010200100417</td>\n",
       "      <td>2015010220</td>\n",
       "      <td>강원</td>\n",
       "      <td>춘천시</td>\n",
       "      <td>4211012100</td>\n",
       "      <td>금</td>\n",
       "      <td>야</td>\n",
       "      <td>경상</td>\n",
       "      <td>차대차</td>\n",
       "      <td>측면충돌</td>\n",
       "      <td>...</td>\n",
       "      <td>포장</td>\n",
       "      <td>건조</td>\n",
       "      <td>교차로</td>\n",
       "      <td>교차로 - 사지</td>\n",
       "      <td>0</td>\n",
       "      <td>0</td>\n",
       "      <td>1</td>\n",
       "      <td>0</td>\n",
       "      <td>POLYGON((1019551 1984451,1019551 1984500,10196...</td>\n",
       "      <td>44</td>\n",
       "    </tr>\n",
       "    <tr>\n",
       "      <th>5</th>\n",
       "      <td>2015010300100210</td>\n",
       "      <td>2015010312</td>\n",
       "      <td>강원</td>\n",
       "      <td>춘천시</td>\n",
       "      <td>4211012000</td>\n",
       "      <td>토</td>\n",
       "      <td>주</td>\n",
       "      <td>경상</td>\n",
       "      <td>차대차</td>\n",
       "      <td>측면충돌</td>\n",
       "      <td>...</td>\n",
       "      <td>포장</td>\n",
       "      <td>건조</td>\n",
       "      <td>교차로</td>\n",
       "      <td>교차로 - 사지</td>\n",
       "      <td>0</td>\n",
       "      <td>0</td>\n",
       "      <td>1</td>\n",
       "      <td>0</td>\n",
       "      <td>POLYGON((1021901 1987201,1021901 1987250,10219...</td>\n",
       "      <td>72</td>\n",
       "    </tr>\n",
       "  </tbody>\n",
       "</table>\n",
       "<p>5 rows × 59 columns</p>\n",
       "</div>"
      ],
      "text/plain": [
       "               사고번호        발생일시 발생지_시도 발생지_시군구       법정동코드 요일 주야 사고내용  \\\n",
       "0  2015010100100019  2015010100     강원     춘천시  4211031022  목  야   중상   \n",
       "2  2015010200100075  2015010208     강원     춘천시  4211012400  금  주   경상   \n",
       "3  2015010200100205  2015010213     강원     춘천시  4211012100  금  주   경상   \n",
       "4  2015010200100417  2015010220     강원     춘천시  4211012100  금  야   경상   \n",
       "5  2015010300100210  2015010312     강원     춘천시  4211012000  토  주   경상   \n",
       "\n",
       "  사고유형_대분류 사고유형_중분류  ... 노면상태_대분류 노면상태 교차로형태_대분류     교차로형태 사망자수 중상자수 경상자수  \\\n",
       "0      차대차     측면충돌  ...       포장   건조       교차로  교차로 - 사지    0    1    3   \n",
       "2      차대차       추돌  ...       포장   건조       교차로  교차로 - 사지    0    0    2   \n",
       "3      차대차       추돌  ...       포장   건조     교차로아님     교차로아님    0    0    1   \n",
       "4      차대차     측면충돌  ...       포장   건조       교차로  교차로 - 사지    0    0    1   \n",
       "5      차대차     측면충돌  ...       포장   건조       교차로  교차로 - 사지    0    0    1   \n",
       "\n",
       "  부상신고자수                                            사고위치폴리곤 피해자연령  \n",
       "0      0  POLYGON((1023551 1986551,1023551 1986600,10236...    51  \n",
       "2      0  POLYGON((1021101 1984151,1021101 1984200,10211...    54  \n",
       "3      0  POLYGON((1019201 1985201,1019201 1985250,10192...    37  \n",
       "4      0  POLYGON((1019551 1984451,1019551 1984500,10196...    44  \n",
       "5      0  POLYGON((1021901 1987201,1021901 1987250,10219...    72  \n",
       "\n",
       "[5 rows x 59 columns]"
      ]
     },
     "execution_count": 9,
     "metadata": {},
     "output_type": "execute_result"
    }
   ],
   "source": [
    "강원.head()"
   ]
  },
  {
   "cell_type": "code",
   "execution_count": 10,
   "metadata": {},
   "outputs": [],
   "source": [
    "강원['피해자연령'] = 강원['피해자연령'].astype('int')"
   ]
  },
  {
   "cell_type": "code",
   "execution_count": 36,
   "metadata": {},
   "outputs": [],
   "source": [
    "강원피고령 = 강원.loc[강원['피해자연령']>=65]\n",
    "강원피어린 = 강원.loc[강원['피해자연령']<=13]"
   ]
  },
  {
   "cell_type": "code",
   "execution_count": 12,
   "metadata": {},
   "outputs": [
    {
     "data": {
      "text/html": [
       "<div>\n",
       "<style scoped>\n",
       "    .dataframe tbody tr th:only-of-type {\n",
       "        vertical-align: middle;\n",
       "    }\n",
       "\n",
       "    .dataframe tbody tr th {\n",
       "        vertical-align: top;\n",
       "    }\n",
       "\n",
       "    .dataframe thead th {\n",
       "        text-align: right;\n",
       "    }\n",
       "</style>\n",
       "<table border=\"1\" class=\"dataframe\">\n",
       "  <thead>\n",
       "    <tr style=\"text-align: right;\">\n",
       "      <th></th>\n",
       "      <th>사고번호</th>\n",
       "      <th>발생일시</th>\n",
       "      <th>발생지_시도</th>\n",
       "      <th>발생지_시군구</th>\n",
       "      <th>법정동코드</th>\n",
       "      <th>요일</th>\n",
       "      <th>주야</th>\n",
       "      <th>사고내용</th>\n",
       "      <th>사고유형_대분류</th>\n",
       "      <th>사고유형_중분류</th>\n",
       "      <th>...</th>\n",
       "      <th>노면상태_대분류</th>\n",
       "      <th>노면상태</th>\n",
       "      <th>교차로형태_대분류</th>\n",
       "      <th>교차로형태</th>\n",
       "      <th>사망자수</th>\n",
       "      <th>중상자수</th>\n",
       "      <th>경상자수</th>\n",
       "      <th>부상신고자수</th>\n",
       "      <th>사고위치폴리곤</th>\n",
       "      <th>피해자연령</th>\n",
       "    </tr>\n",
       "  </thead>\n",
       "  <tbody>\n",
       "    <tr>\n",
       "      <th>5</th>\n",
       "      <td>2015010300100210</td>\n",
       "      <td>2015010312</td>\n",
       "      <td>강원</td>\n",
       "      <td>춘천시</td>\n",
       "      <td>4211012000</td>\n",
       "      <td>토</td>\n",
       "      <td>주</td>\n",
       "      <td>경상</td>\n",
       "      <td>차대차</td>\n",
       "      <td>측면충돌</td>\n",
       "      <td>...</td>\n",
       "      <td>포장</td>\n",
       "      <td>건조</td>\n",
       "      <td>교차로</td>\n",
       "      <td>교차로 - 사지</td>\n",
       "      <td>0</td>\n",
       "      <td>0</td>\n",
       "      <td>1</td>\n",
       "      <td>0</td>\n",
       "      <td>POLYGON((1021901 1987201,1021901 1987250,10219...</td>\n",
       "      <td>72</td>\n",
       "    </tr>\n",
       "    <tr>\n",
       "      <th>19</th>\n",
       "      <td>2015010600100349</td>\n",
       "      <td>2015010615</td>\n",
       "      <td>강원</td>\n",
       "      <td>춘천시</td>\n",
       "      <td>4211010100</td>\n",
       "      <td>화</td>\n",
       "      <td>주</td>\n",
       "      <td>경상</td>\n",
       "      <td>차대사람</td>\n",
       "      <td>보도통행중</td>\n",
       "      <td>...</td>\n",
       "      <td>포장</td>\n",
       "      <td>서리/결빙</td>\n",
       "      <td>교차로아님</td>\n",
       "      <td>교차로아님</td>\n",
       "      <td>0</td>\n",
       "      <td>0</td>\n",
       "      <td>1</td>\n",
       "      <td>0</td>\n",
       "      <td>POLYGON((1018851 1986001,1018851 1986050,10189...</td>\n",
       "      <td>68</td>\n",
       "    </tr>\n",
       "    <tr>\n",
       "      <th>34</th>\n",
       "      <td>2015011000100179</td>\n",
       "      <td>2015011009</td>\n",
       "      <td>강원</td>\n",
       "      <td>춘천시</td>\n",
       "      <td>4211011700</td>\n",
       "      <td>토</td>\n",
       "      <td>주</td>\n",
       "      <td>중상</td>\n",
       "      <td>차대사람</td>\n",
       "      <td>횡단중</td>\n",
       "      <td>...</td>\n",
       "      <td>포장</td>\n",
       "      <td>건조</td>\n",
       "      <td>교차로아님</td>\n",
       "      <td>교차로아님</td>\n",
       "      <td>0</td>\n",
       "      <td>1</td>\n",
       "      <td>0</td>\n",
       "      <td>0</td>\n",
       "      <td>POLYGON((1019751 1987601,1019751 1987650,10198...</td>\n",
       "      <td>75</td>\n",
       "    </tr>\n",
       "    <tr>\n",
       "      <th>57</th>\n",
       "      <td>2015011500100113</td>\n",
       "      <td>2015011508</td>\n",
       "      <td>강원</td>\n",
       "      <td>춘천시</td>\n",
       "      <td>4211036023</td>\n",
       "      <td>목</td>\n",
       "      <td>주</td>\n",
       "      <td>경상</td>\n",
       "      <td>차대차</td>\n",
       "      <td>측면충돌</td>\n",
       "      <td>...</td>\n",
       "      <td>포장</td>\n",
       "      <td>건조</td>\n",
       "      <td>교차로아님</td>\n",
       "      <td>교차로아님</td>\n",
       "      <td>0</td>\n",
       "      <td>0</td>\n",
       "      <td>1</td>\n",
       "      <td>0</td>\n",
       "      <td>POLYGON((1008901 2005701,1008901 2005750,10089...</td>\n",
       "      <td>84</td>\n",
       "    </tr>\n",
       "    <tr>\n",
       "      <th>59</th>\n",
       "      <td>2015011500100311</td>\n",
       "      <td>2015011516</td>\n",
       "      <td>강원</td>\n",
       "      <td>춘천시</td>\n",
       "      <td>4211012000</td>\n",
       "      <td>목</td>\n",
       "      <td>주</td>\n",
       "      <td>경상</td>\n",
       "      <td>차대차</td>\n",
       "      <td>측면충돌</td>\n",
       "      <td>...</td>\n",
       "      <td>포장</td>\n",
       "      <td>건조</td>\n",
       "      <td>교차로</td>\n",
       "      <td>교차로 - 사지</td>\n",
       "      <td>0</td>\n",
       "      <td>0</td>\n",
       "      <td>1</td>\n",
       "      <td>0</td>\n",
       "      <td>POLYGON((1021601 1987701,1021601 1987750,10216...</td>\n",
       "      <td>70</td>\n",
       "    </tr>\n",
       "  </tbody>\n",
       "</table>\n",
       "<p>5 rows × 59 columns</p>\n",
       "</div>"
      ],
      "text/plain": [
       "                사고번호        발생일시 발생지_시도 발생지_시군구       법정동코드 요일 주야 사고내용  \\\n",
       "5   2015010300100210  2015010312     강원     춘천시  4211012000  토  주   경상   \n",
       "19  2015010600100349  2015010615     강원     춘천시  4211010100  화  주   경상   \n",
       "34  2015011000100179  2015011009     강원     춘천시  4211011700  토  주   중상   \n",
       "57  2015011500100113  2015011508     강원     춘천시  4211036023  목  주   경상   \n",
       "59  2015011500100311  2015011516     강원     춘천시  4211012000  목  주   경상   \n",
       "\n",
       "   사고유형_대분류 사고유형_중분류  ... 노면상태_대분류   노면상태 교차로형태_대분류     교차로형태 사망자수 중상자수 경상자수  \\\n",
       "5       차대차     측면충돌  ...       포장     건조       교차로  교차로 - 사지    0    0    1   \n",
       "19     차대사람    보도통행중  ...       포장  서리/결빙     교차로아님     교차로아님    0    0    1   \n",
       "34     차대사람      횡단중  ...       포장     건조     교차로아님     교차로아님    0    1    0   \n",
       "57      차대차     측면충돌  ...       포장     건조     교차로아님     교차로아님    0    0    1   \n",
       "59      차대차     측면충돌  ...       포장     건조       교차로  교차로 - 사지    0    0    1   \n",
       "\n",
       "   부상신고자수                                            사고위치폴리곤 피해자연령  \n",
       "5       0  POLYGON((1021901 1987201,1021901 1987250,10219...    72  \n",
       "19      0  POLYGON((1018851 1986001,1018851 1986050,10189...    68  \n",
       "34      0  POLYGON((1019751 1987601,1019751 1987650,10198...    75  \n",
       "57      0  POLYGON((1008901 2005701,1008901 2005750,10089...    84  \n",
       "59      0  POLYGON((1021601 1987701,1021601 1987750,10216...    70  \n",
       "\n",
       "[5 rows x 59 columns]"
      ]
     },
     "execution_count": 12,
     "metadata": {},
     "output_type": "execute_result"
    }
   ],
   "source": [
    "강원피고령.head()"
   ]
  },
  {
   "cell_type": "code",
   "execution_count": 37,
   "metadata": {},
   "outputs": [
    {
     "name": "stderr",
     "output_type": "stream",
     "text": [
      "<ipython-input-37-631060ecf2f1>:1: SettingWithCopyWarning: \n",
      "A value is trying to be set on a copy of a slice from a DataFrame.\n",
      "Try using .loc[row_indexer,col_indexer] = value instead\n",
      "\n",
      "See the caveats in the documentation: https://pandas.pydata.org/pandas-docs/stable/user_guide/indexing.html#returning-a-view-versus-a-copy\n",
      "  강원피고령['발생일시'] = 강원피고령['발생일시'].astype('str')\n",
      "<ipython-input-37-631060ecf2f1>:2: SettingWithCopyWarning: \n",
      "A value is trying to be set on a copy of a slice from a DataFrame.\n",
      "Try using .loc[row_indexer,col_indexer] = value instead\n",
      "\n",
      "See the caveats in the documentation: https://pandas.pydata.org/pandas-docs/stable/user_guide/indexing.html#returning-a-view-versus-a-copy\n",
      "  강원피어린['발생일시'] = 강원피어린['발생일시'].astype('str')\n"
     ]
    }
   ],
   "source": [
    "강원피고령['발생일시'] = 강원피고령['발생일시'].astype('str')\n",
    "강원피어린['발생일시'] = 강원피어린['발생일시'].astype('str')"
   ]
  },
  {
   "cell_type": "code",
   "execution_count": 38,
   "metadata": {},
   "outputs": [
    {
     "name": "stderr",
     "output_type": "stream",
     "text": [
      "<ipython-input-38-2c578fdc0073>:1: SettingWithCopyWarning: \n",
      "A value is trying to be set on a copy of a slice from a DataFrame.\n",
      "Try using .loc[row_indexer,col_indexer] = value instead\n",
      "\n",
      "See the caveats in the documentation: https://pandas.pydata.org/pandas-docs/stable/user_guide/indexing.html#returning-a-view-versus-a-copy\n",
      "  강원피고령['발생년도'] = 강원피고령['발생일시'].str[0:4]\n",
      "<ipython-input-38-2c578fdc0073>:2: SettingWithCopyWarning: \n",
      "A value is trying to be set on a copy of a slice from a DataFrame.\n",
      "Try using .loc[row_indexer,col_indexer] = value instead\n",
      "\n",
      "See the caveats in the documentation: https://pandas.pydata.org/pandas-docs/stable/user_guide/indexing.html#returning-a-view-versus-a-copy\n",
      "  강원피어린['발생년도'] = 강원피어린['발생일시'].str[0:4]\n"
     ]
    }
   ],
   "source": [
    "강원피고령['발생년도'] = 강원피고령['발생일시'].str[0:4]\n",
    "강원피어린['발생년도'] = 강원피어린['발생일시'].str[0:4]"
   ]
  },
  {
   "cell_type": "code",
   "execution_count": 39,
   "metadata": {},
   "outputs": [
    {
     "data": {
      "text/plain": [
       "(5701, 60)"
      ]
     },
     "execution_count": 39,
     "metadata": {},
     "output_type": "execute_result"
    }
   ],
   "source": [
    "강원피고령.shape"
   ]
  },
  {
   "cell_type": "code",
   "execution_count": 40,
   "metadata": {},
   "outputs": [
    {
     "data": {
      "text/plain": [
       "(944, 60)"
      ]
     },
     "execution_count": 40,
     "metadata": {},
     "output_type": "execute_result"
    }
   ],
   "source": [
    "강원피어린.shape"
   ]
  },
  {
   "cell_type": "code",
   "execution_count": 41,
   "metadata": {},
   "outputs": [],
   "source": [
    "강원피고령 = 강원피고령.loc[강원피고령['사고유형_대분류']=='차대사람']\n",
    "강원피어린 = 강원피어린.loc[강원피어린['사고유형_대분류']=='차대사람']"
   ]
  },
  {
   "cell_type": "code",
   "execution_count": 42,
   "metadata": {},
   "outputs": [],
   "source": [
    "강원피고령['빈도계산용'] = 1\n",
    "강원피고령_빈도 = 강원피고령.groupby('발생년도').빈도계산용.sum()\n",
    "\n",
    "강원피어린['빈도계산용'] = 1\n",
    "강원피어린_빈도 = 강원피어린.groupby('발생년도').빈도계산용.sum()"
   ]
  },
  {
   "cell_type": "code",
   "execution_count": 43,
   "metadata": {},
   "outputs": [
    {
     "data": {
      "text/plain": [
       "array([0, 1, 2, 3, 4])"
      ]
     },
     "execution_count": 43,
     "metadata": {},
     "output_type": "execute_result"
    }
   ],
   "source": [
    "label = ['2015','2016','2017','2018','2019']\n",
    "index = np.arange(len(label))\n",
    "index"
   ]
  },
  {
   "cell_type": "code",
   "execution_count": 90,
   "metadata": {},
   "outputs": [
    {
     "data": {
      "image/png": "[encoded data removed]",
      "text/plain": [
       "<Figure size 432x288 with 2 Axes>"
      ]
     },
     "metadata": {
      "needs_background": "light"
     },
     "output_type": "display_data"
    }
   ],
   "source": [
    "plt.subplot(121)\n",
    "plt.bar(index, 강원피고령_빈도)\n",
    "plt.title('고령 보행자 년도별 사고 발생 추이', fontsize=20)\n",
    "plt.xlabel('발생년도', fontsize=18)\n",
    "plt.ylabel('건수', fontsize=18)\n",
    "plt.xticks(index, label, fontsize=15)\n",
    "\n",
    "plt.subplot(122)\n",
    "plt.bar(index, 강원피어린_빈도)\n",
    "plt.title('어린이 보행자년도별 발생 추이', fontsize=20)\n",
    "plt.xlabel('발생년도', fontsize=18)\n",
    "plt.ylabel('건수', fontsize=18)\n",
    "plt.xticks(index, label, fontsize=15)\n",
    "\n",
    "plt.subplots_adjust(left=0.01, bottom=0.1,  right=3, top=0.9, wspace=0.5, hspace=0.35)\n",
    "plt.show()"
   ]
  },
  {
   "cell_type": "code",
   "execution_count": 34,
   "metadata": {},
   "outputs": [],
   "source": [
    "import matplotlib\n",
    "from matplotlib import font_manager, rc\n",
    "import platform\n",
    "\n",
    "if platform.system() == 'Windows':\n",
    "# 윈도우인 경우\n",
    "    font_name = font_manager.FontProperties(fname=\"c:/Windows/Fonts/malgun.ttf\").get_name()\n",
    "    rc('font', family=font_name)\n",
    "else:    \n",
    "# Mac 인 경우\n",
    "    rc('font', family='AppleGothic')\n",
    "    \n",
    "matplotlib.rcParams['axes.unicode_minus'] = False   \n",
    "#그래프에서 마이너스 기호가 표시되도록 하는 설정입니다. "
   ]
  }
 ],
 "metadata": {
  "kernelspec": {
   "display_name": "Python 3",
   "language": "python",
   "name": "python3"
  },
  "language_info": {
   "codemirror_mode": {
    "name": "ipython",
    "version": 3
   },
   "file_extension": ".py",
   "mimetype": "text/x-python",
   "name": "python",
   "nbconvert_exporter": "python",
   "pygments_lexer": "ipython3",
   "version": "3.8.3"
  }
 },
 "nbformat": 4,
 "nbformat_minor": 4
}
