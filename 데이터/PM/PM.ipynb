{
 "cells": [
  {
   "cell_type": "code",
   "execution_count": 1,
   "metadata": {},
   "outputs": [],
   "source": [
    "import pandas as pd\n",
    "import numpy as np\n",
    "from pandas import DataFrame, Series\n",
    "import matplotlib.pyplot as plt\n",
    "\n",
    "import seaborn as sns"
   ]
  },
  {
   "cell_type": "code",
   "execution_count": 2,
   "metadata": {},
   "outputs": [],
   "source": [
    "# 그래프 한글 출력 안 될 시\n",
    "\n",
    "import matplotlib\n",
    "from matplotlib import font_manager, rc\n",
    "import platform\n",
    "\n",
    "if platform.system() == 'Windows':\n",
    "# 윈도우인 경우\n",
    "    font_name = font_manager.FontProperties(fname=\"c:/Windows/Fonts/malgun.ttf\").get_name()\n",
    "    rc('font', family=font_name)\n",
    "else:    \n",
    "# Mac 인 경우\n",
    "    rc('font', family='AppleGothic')\n",
    "    \n",
    "matplotlib.rcParams['axes.unicode_minus'] = False   \n",
    "#그래프에서 마이너스 기호가 표시되도록 하는 설정입니다."
   ]
  },
  {
   "cell_type": "code",
   "execution_count": 38,
   "metadata": {},
   "outputs": [],
   "source": [
    "PM45 = pd.read_csv('C:/Users/junyoon/Desktop/데이터/PM/씽씽_도로교통공단_2020.04_2020.05.csv', encoding='cp949')\n",
    "PM67 = pd.read_csv('C:/Users/junyoon/Desktop/데이터/PM/씽씽_도로교통공단_2020.06_2020.07.csv', encoding='cp949')\n",
    "PM89 = pd.read_csv('C:/Users/junyoon/Desktop/데이터/PM/씽씽_도로교통공단_2020.08_2020.09.csv', encoding='cp949')\n",
    "PM1011 = pd.read_csv('C:/Users/junyoon/Desktop/데이터/PM/씽씽_도로교통공단_2020.10_2020.11.csv', encoding='cp949')\n",
    "PMAC = pd.read_csv('C:/Users/junyoon/Desktop/데이터/PM/씽씽_4월 이후 보험접수완료된 사고건 (서울 내 일부).csv', encoding='cp949')"
   ]
  },
  {
   "cell_type": "code",
   "execution_count": 180,
   "metadata": {},
   "outputs": [],
   "source": [
    "PM = pd.concat([PM45, PM67, PM89, PM1011])"
   ]
  },
  {
   "cell_type": "code",
   "execution_count": 8,
   "metadata": {},
   "outputs": [
    {
     "data": {
      "text/html": [
       "<div>\n",
       "<style scoped>\n",
       "    .dataframe tbody tr th:only-of-type {\n",
       "        vertical-align: middle;\n",
       "    }\n",
       "\n",
       "    .dataframe tbody tr th {\n",
       "        vertical-align: top;\n",
       "    }\n",
       "\n",
       "    .dataframe thead th {\n",
       "        text-align: right;\n",
       "    }\n",
       "</style>\n",
       "<table border=\"1\" class=\"dataframe\">\n",
       "  <thead>\n",
       "    <tr style=\"text-align: right;\">\n",
       "      <th></th>\n",
       "      <th>이용Id</th>\n",
       "      <th>유저Id</th>\n",
       "      <th>나이</th>\n",
       "      <th>성별</th>\n",
       "      <th>대여시간</th>\n",
       "      <th>반납시간</th>\n",
       "      <th>대여위치</th>\n",
       "      <th>반납위치</th>\n",
       "      <th>대여지역</th>\n",
       "      <th>반납지역</th>\n",
       "      <th>No</th>\n",
       "    </tr>\n",
       "  </thead>\n",
       "  <tbody>\n",
       "    <tr>\n",
       "      <th>0</th>\n",
       "      <td>5e835afd44293c00116de527</td>\n",
       "      <td>5d5134083db28e0012ce8922</td>\n",
       "      <td>42</td>\n",
       "      <td>M</td>\n",
       "      <td>2020-04-01 0:00</td>\n",
       "      <td>2020-04-01 0:02</td>\n",
       "      <td>127.0414925,37.524345833333335</td>\n",
       "      <td>127.039392,37.525249</td>\n",
       "      <td>강남구</td>\n",
       "      <td>강남구</td>\n",
       "      <td>NaN</td>\n",
       "    </tr>\n",
       "    <tr>\n",
       "      <th>1</th>\n",
       "      <td>5e835b00bf45f400117c8889</td>\n",
       "      <td>5dc8e2d21d53bb00133a3d4f</td>\n",
       "      <td>28</td>\n",
       "      <td>M</td>\n",
       "      <td>2020-04-01 0:00</td>\n",
       "      <td>2020-04-01 0:10</td>\n",
       "      <td>127.0070415,37.511216833333336</td>\n",
       "      <td>127.0102615,37.501362666666665</td>\n",
       "      <td>서초구</td>\n",
       "      <td>서초구</td>\n",
       "      <td>NaN</td>\n",
       "    </tr>\n",
       "    <tr>\n",
       "      <th>2</th>\n",
       "      <td>5e835b020289d700116f89a1</td>\n",
       "      <td>5e815ac9a251020013c4c923</td>\n",
       "      <td>26</td>\n",
       "      <td>F</td>\n",
       "      <td>2020-04-01 0:00</td>\n",
       "      <td>2020-04-01 0:07</td>\n",
       "      <td>127.07693016666667,37.552242166666666</td>\n",
       "      <td>127.07218166666667,37.54731966666667</td>\n",
       "      <td>광진구</td>\n",
       "      <td>광진구</td>\n",
       "      <td>NaN</td>\n",
       "    </tr>\n",
       "    <tr>\n",
       "      <th>3</th>\n",
       "      <td>5e835b0dbf45f400117c888c</td>\n",
       "      <td>5da1d14d6b739200136d288e</td>\n",
       "      <td>25</td>\n",
       "      <td>M</td>\n",
       "      <td>2020-04-01 0:00</td>\n",
       "      <td>2020-04-01 0:14</td>\n",
       "      <td>127.0219735,37.501103666666666</td>\n",
       "      <td>127.01699583333334,37.4841075</td>\n",
       "      <td>서초구</td>\n",
       "      <td>서초구</td>\n",
       "      <td>NaN</td>\n",
       "    </tr>\n",
       "    <tr>\n",
       "      <th>4</th>\n",
       "      <td>5e835b2c0289d700116f89a7</td>\n",
       "      <td>5c91f6ccf754b7be11025f7b</td>\n",
       "      <td>25</td>\n",
       "      <td>M</td>\n",
       "      <td>2020-04-01 0:01</td>\n",
       "      <td>2020-04-01 0:08</td>\n",
       "      <td>127.02469583333334,37.500101666666666</td>\n",
       "      <td>127.02931316666667,37.485144</td>\n",
       "      <td>서초구</td>\n",
       "      <td>서초구</td>\n",
       "      <td>NaN</td>\n",
       "    </tr>\n",
       "  </tbody>\n",
       "</table>\n",
       "</div>"
      ],
      "text/plain": [
       "                       이용Id                      유저Id  나이 성별             대여시간  \\\n",
       "0  5e835afd44293c00116de527  5d5134083db28e0012ce8922  42  M  2020-04-01 0:00   \n",
       "1  5e835b00bf45f400117c8889  5dc8e2d21d53bb00133a3d4f  28  M  2020-04-01 0:00   \n",
       "2  5e835b020289d700116f89a1  5e815ac9a251020013c4c923  26  F  2020-04-01 0:00   \n",
       "3  5e835b0dbf45f400117c888c  5da1d14d6b739200136d288e  25  M  2020-04-01 0:00   \n",
       "4  5e835b2c0289d700116f89a7  5c91f6ccf754b7be11025f7b  25  M  2020-04-01 0:01   \n",
       "\n",
       "              반납시간                                   대여위치  \\\n",
       "0  2020-04-01 0:02         127.0414925,37.524345833333335   \n",
       "1  2020-04-01 0:10         127.0070415,37.511216833333336   \n",
       "2  2020-04-01 0:07  127.07693016666667,37.552242166666666   \n",
       "3  2020-04-01 0:14         127.0219735,37.501103666666666   \n",
       "4  2020-04-01 0:08  127.02469583333334,37.500101666666666   \n",
       "\n",
       "                                   반납위치 대여지역 반납지역  No  \n",
       "0                  127.039392,37.525249  강남구  강남구 NaN  \n",
       "1        127.0102615,37.501362666666665  서초구  서초구 NaN  \n",
       "2  127.07218166666667,37.54731966666667  광진구  광진구 NaN  \n",
       "3         127.01699583333334,37.4841075  서초구  서초구 NaN  \n",
       "4          127.02931316666667,37.485144  서초구  서초구 NaN  "
      ]
     },
     "execution_count": 8,
     "metadata": {},
     "output_type": "execute_result"
    }
   ],
   "source": [
    "PM.head()"
   ]
  },
  {
   "cell_type": "code",
   "execution_count": 189,
   "metadata": {},
   "outputs": [],
   "source": [
    "PM['대여시간'] = PM['대여시간'].astype('str')"
   ]
  },
  {
   "cell_type": "code",
   "execution_count": 206,
   "metadata": {},
   "outputs": [
    {
     "data": {
      "text/plain": [
       "'0'"
      ]
     },
     "execution_count": 206,
     "metadata": {},
     "output_type": "execute_result"
    }
   ],
   "source": [
    "PM['대여시간'].iloc[0][5]"
   ]
  },
  {
   "cell_type": "code",
   "execution_count": null,
   "metadata": {},
   "outputs": [
    {
     "name": "stderr",
     "output_type": "stream",
     "text": [
      "C:\\ProgramData\\Anaconda3\\lib\\site-packages\\pandas\\core\\indexing.py:671: SettingWithCopyWarning: \n",
      "A value is trying to be set on a copy of a slice from a DataFrame\n",
      "\n",
      "See the caveats in the documentation: https://pandas.pydata.org/pandas-docs/stable/user_guide/indexing.html#returning-a-view-versus-a-copy\n",
      "  self._setitem_with_indexer(indexer, value)\n"
     ]
    }
   ],
   "source": [
    "PM['사용_월'] = '0'\n",
    "for i in range(len(PM)):\n",
    "    if PM['대여시간'].iloc[i][5] == '0' :\n",
    "        PM['사용_월'].iloc[i] = PM['대여시간'].iloc[i][6]\n",
    "    else :\n",
    "        PM['사용_월'].iloc[i] = PM['대여시간'].iloc[i][5:7]"
   ]
  },
  {
   "cell_type": "code",
   "execution_count": 9,
   "metadata": {},
   "outputs": [
    {
     "name": "stdout",
     "output_type": "stream",
     "text": [
      "<class 'pandas.core.frame.DataFrame'>\n",
      "Int64Index: 1959780 entries, 0 to 524743\n",
      "Data columns (total 11 columns):\n",
      " #   Column  Dtype  \n",
      "---  ------  -----  \n",
      " 0   이용Id    object \n",
      " 1   유저Id    object \n",
      " 2   나이      int64  \n",
      " 3   성별      object \n",
      " 4   대여시간    object \n",
      " 5   반납시간    object \n",
      " 6   대여위치    object \n",
      " 7   반납위치    object \n",
      " 8   대여지역    object \n",
      " 9   반납지역    object \n",
      " 10  No      float64\n",
      "dtypes: float64(1), int64(1), object(9)\n",
      "memory usage: 179.4+ MB\n"
     ]
    }
   ],
   "source": [
    "PM.info()"
   ]
  },
  {
   "cell_type": "code",
   "execution_count": 15,
   "metadata": {},
   "outputs": [
    {
     "name": "stdout",
     "output_type": "stream",
     "text": [
      "<class 'pandas.core.frame.DataFrame'>\n",
      "Int64Index: 1959780 entries, 0 to 524743\n",
      "Data columns (total 10 columns):\n",
      " #   Column  Dtype \n",
      "---  ------  ----- \n",
      " 0   이용Id    object\n",
      " 1   유저Id    object\n",
      " 2   나이      int64 \n",
      " 3   성별      object\n",
      " 4   대여시간    object\n",
      " 5   반납시간    object\n",
      " 6   대여위치    object\n",
      " 7   반납위치    object\n",
      " 8   대여지역    object\n",
      " 9   반납지역    object\n",
      "dtypes: int64(1), object(9)\n",
      "memory usage: 164.5+ MB\n"
     ]
    }
   ],
   "source": [
    "PMC = list(PM.columns)\n",
    "PMC = PMC[:-1]\n",
    "PM = PM[PMC]\n",
    "PM.info()"
   ]
  },
  {
   "cell_type": "code",
   "execution_count": 17,
   "metadata": {},
   "outputs": [
    {
     "name": "stdout",
     "output_type": "stream",
     "text": [
      "<class 'pandas.core.frame.DataFrame'>\n",
      "RangeIndex: 203 entries, 0 to 202\n",
      "Data columns (total 8 columns):\n",
      " #   Column   Non-Null Count  Dtype \n",
      "---  ------   --------------  ----- \n",
      " 0   NO       203 non-null    int64 \n",
      " 1   사고일자     203 non-null    object\n",
      " 2   사고일자_월   203 non-null    int64 \n",
      " 3   사고일자_일   203 non-null    int64 \n",
      " 4   사고일자_요일  203 non-null    object\n",
      " 5   사고장소     203 non-null    object\n",
      " 6   사고내용     203 non-null    object\n",
      " 7   손해대상     203 non-null    object\n",
      "dtypes: int64(3), object(5)\n",
      "memory usage: 12.8+ KB\n"
     ]
    }
   ],
   "source": [
    "PMAC.info()"
   ]
  },
  {
   "cell_type": "code",
   "execution_count": 62,
   "metadata": {},
   "outputs": [
    {
     "data": {
      "text/html": [
       "<div>\n",
       "<style scoped>\n",
       "    .dataframe tbody tr th:only-of-type {\n",
       "        vertical-align: middle;\n",
       "    }\n",
       "\n",
       "    .dataframe tbody tr th {\n",
       "        vertical-align: top;\n",
       "    }\n",
       "\n",
       "    .dataframe thead th {\n",
       "        text-align: right;\n",
       "    }\n",
       "</style>\n",
       "<table border=\"1\" class=\"dataframe\">\n",
       "  <thead>\n",
       "    <tr style=\"text-align: right;\">\n",
       "      <th></th>\n",
       "      <th>NO</th>\n",
       "      <th>사고일자</th>\n",
       "      <th>사고일자_월</th>\n",
       "      <th>사고일자_일</th>\n",
       "      <th>사고일자_요일</th>\n",
       "      <th>사고장소</th>\n",
       "      <th>사고내용</th>\n",
       "      <th>손해대상</th>\n",
       "      <th>빈도계산용</th>\n",
       "    </tr>\n",
       "  </thead>\n",
       "  <tbody>\n",
       "    <tr>\n",
       "      <th>0</th>\n",
       "      <td>1</td>\n",
       "      <td>2020-04-01</td>\n",
       "      <td>4</td>\n",
       "      <td>1</td>\n",
       "      <td>수</td>\n",
       "      <td>서울시 서초구 대치동</td>\n",
       "      <td>이면도로에서 오토바이와 충돌</td>\n",
       "      <td>대인</td>\n",
       "      <td>1</td>\n",
       "    </tr>\n",
       "    <tr>\n",
       "      <th>1</th>\n",
       "      <td>2</td>\n",
       "      <td>2020-04-06</td>\n",
       "      <td>4</td>\n",
       "      <td>6</td>\n",
       "      <td>월</td>\n",
       "      <td>서울시 강남구 봉은사로</td>\n",
       "      <td>브레이크 결함으로 인한 낙차사고(대인 및 신발손상)</td>\n",
       "      <td>대인대물</td>\n",
       "      <td>1</td>\n",
       "    </tr>\n",
       "    <tr>\n",
       "      <th>2</th>\n",
       "      <td>3</td>\n",
       "      <td>2020-04-07</td>\n",
       "      <td>4</td>\n",
       "      <td>7</td>\n",
       "      <td>화</td>\n",
       "      <td>서울시 동작구 상도동</td>\n",
       "      <td>퀵보드 급발진, 브레이크 이상 주장 낙차사고</td>\n",
       "      <td>대인대물</td>\n",
       "      <td>1</td>\n",
       "    </tr>\n",
       "    <tr>\n",
       "      <th>3</th>\n",
       "      <td>4</td>\n",
       "      <td>2020-04-09</td>\n",
       "      <td>4</td>\n",
       "      <td>9</td>\n",
       "      <td>목</td>\n",
       "      <td>서울 매봉역 인근 도로</td>\n",
       "      <td>이용부주의로 인한 택시와 충돌로 인한 낙차사고</td>\n",
       "      <td>대인</td>\n",
       "      <td>1</td>\n",
       "    </tr>\n",
       "    <tr>\n",
       "      <th>4</th>\n",
       "      <td>5</td>\n",
       "      <td>2020-04-09</td>\n",
       "      <td>4</td>\n",
       "      <td>9</td>\n",
       "      <td>목</td>\n",
       "      <td>서울 강남구 압구정 신구초등학교 인근 도로</td>\n",
       "      <td>운행 중 아스팔트 파인 곳에 걸려 넘어짐</td>\n",
       "      <td>대인</td>\n",
       "      <td>1</td>\n",
       "    </tr>\n",
       "  </tbody>\n",
       "</table>\n",
       "</div>"
      ],
      "text/plain": [
       "   NO        사고일자  사고일자_월  사고일자_일 사고일자_요일                     사고장소  \\\n",
       "0   1  2020-04-01       4       1       수              서울시 서초구 대치동   \n",
       "1   2  2020-04-06       4       6       월             서울시 강남구 봉은사로   \n",
       "2   3  2020-04-07       4       7       화              서울시 동작구 상도동   \n",
       "3   4  2020-04-09       4       9       목             서울 매봉역 인근 도로   \n",
       "4   5  2020-04-09       4       9       목  서울 강남구 압구정 신구초등학교 인근 도로   \n",
       "\n",
       "                           사고내용  손해대상  빈도계산용  \n",
       "0               이면도로에서 오토바이와 충돌    대인      1  \n",
       "1  브레이크 결함으로 인한 낙차사고(대인 및 신발손상)  대인대물      1  \n",
       "2      퀵보드 급발진, 브레이크 이상 주장 낙차사고  대인대물      1  \n",
       "3     이용부주의로 인한 택시와 충돌로 인한 낙차사고    대인      1  \n",
       "4        운행 중 아스팔트 파인 곳에 걸려 넘어짐    대인      1  "
      ]
     },
     "execution_count": 62,
     "metadata": {},
     "output_type": "execute_result"
    }
   ],
   "source": [
    "PMAC.head()"
   ]
  },
  {
   "cell_type": "code",
   "execution_count": 19,
   "metadata": {},
   "outputs": [],
   "source": [
    "PMAC['빈도계산용'] = 1"
   ]
  },
  {
   "cell_type": "code",
   "execution_count": 55,
   "metadata": {},
   "outputs": [
    {
     "data": {
      "text/plain": [
       "사고일자_요일\n",
       "금    30\n",
       "목    33\n",
       "수    26\n",
       "월    24\n",
       "일    20\n",
       "토    26\n",
       "화    44\n",
       "Name: 빈도계산용, dtype: int64"
      ]
     },
     "execution_count": 55,
     "metadata": {},
     "output_type": "execute_result"
    }
   ],
   "source": [
    "PMAC요일 = PMAC.groupby('사고일자_요일').빈도계산용.sum()\n",
    "PMAC요일"
   ]
  },
  {
   "cell_type": "code",
   "execution_count": 56,
   "metadata": {},
   "outputs": [],
   "source": [
    "PMAC요일 = pd.DataFrame(data=PMAC요일)"
   ]
  },
  {
   "cell_type": "code",
   "execution_count": 60,
   "metadata": {},
   "outputs": [],
   "source": [
    "PMAC요일=PMAC요일.reset_index()"
   ]
  },
  {
   "cell_type": "code",
   "execution_count": 61,
   "metadata": {},
   "outputs": [
    {
     "data": {
      "text/plain": [
       "<matplotlib.axes._subplots.AxesSubplot at 0x22c86964220>"
      ]
     },
     "execution_count": 61,
     "metadata": {},
     "output_type": "execute_result"
    },
    {
     "data": {
      "image/png": "[encoded data removed]",
      "text/plain": [
       "<Figure size 432x288 with 1 Axes>"
      ]
     },
     "metadata": {
      "needs_background": "light"
     },
     "output_type": "display_data"
    }
   ],
   "source": [
    "sns.barplot(data = PMAC요일, x='사고일자_요일', y='빈도계산용')"
   ]
  },
  {
   "cell_type": "code",
   "execution_count": 63,
   "metadata": {},
   "outputs": [
    {
     "data": {
      "text/plain": [
       "<matplotlib.axes._subplots.AxesSubplot at 0x22c86c180a0>"
      ]
     },
     "execution_count": 63,
     "metadata": {},
     "output_type": "execute_result"
    },
    {
     "data": {
      "image/png": "[encoded data removed]",
      "text/plain": [
       "<Figure size 432x288 with 1 Axes>"
      ]
     },
     "metadata": {
      "needs_background": "light"
     },
     "output_type": "display_data"
    }
   ],
   "source": [
    "sns.countplot(x=\"사고일자_요일\", data=PMAC)"
   ]
  },
  {
   "cell_type": "code",
   "execution_count": 5,
   "metadata": {},
   "outputs": [
    {
     "data": {
      "text/html": [
       "<div>\n",
       "<style scoped>\n",
       "    .dataframe tbody tr th:only-of-type {\n",
       "        vertical-align: middle;\n",
       "    }\n",
       "\n",
       "    .dataframe tbody tr th {\n",
       "        vertical-align: top;\n",
       "    }\n",
       "\n",
       "    .dataframe thead th {\n",
       "        text-align: right;\n",
       "    }\n",
       "</style>\n",
       "<table border=\"1\" class=\"dataframe\">\n",
       "  <thead>\n",
       "    <tr style=\"text-align: right;\">\n",
       "      <th></th>\n",
       "      <th>NO</th>\n",
       "      <th>사고일자</th>\n",
       "      <th>사고일자_월</th>\n",
       "      <th>사고일자_일</th>\n",
       "      <th>사고일자_요일</th>\n",
       "      <th>사고장소</th>\n",
       "      <th>사고내용</th>\n",
       "      <th>손해대상</th>\n",
       "    </tr>\n",
       "  </thead>\n",
       "  <tbody>\n",
       "    <tr>\n",
       "      <th>0</th>\n",
       "      <td>1</td>\n",
       "      <td>2020-04-01</td>\n",
       "      <td>4</td>\n",
       "      <td>1</td>\n",
       "      <td>수</td>\n",
       "      <td>서울시 서초구 대치동</td>\n",
       "      <td>이면도로에서 오토바이와 충돌</td>\n",
       "      <td>대인</td>\n",
       "    </tr>\n",
       "    <tr>\n",
       "      <th>1</th>\n",
       "      <td>2</td>\n",
       "      <td>2020-04-06</td>\n",
       "      <td>4</td>\n",
       "      <td>6</td>\n",
       "      <td>월</td>\n",
       "      <td>서울시 강남구 봉은사로</td>\n",
       "      <td>브레이크 결함으로 인한 낙차사고(대인 및 신발손상)</td>\n",
       "      <td>대인대물</td>\n",
       "    </tr>\n",
       "    <tr>\n",
       "      <th>2</th>\n",
       "      <td>3</td>\n",
       "      <td>2020-04-07</td>\n",
       "      <td>4</td>\n",
       "      <td>7</td>\n",
       "      <td>화</td>\n",
       "      <td>서울시 동작구 상도동</td>\n",
       "      <td>퀵보드 급발진, 브레이크 이상 주장 낙차사고</td>\n",
       "      <td>대인대물</td>\n",
       "    </tr>\n",
       "    <tr>\n",
       "      <th>3</th>\n",
       "      <td>4</td>\n",
       "      <td>2020-04-09</td>\n",
       "      <td>4</td>\n",
       "      <td>9</td>\n",
       "      <td>목</td>\n",
       "      <td>서울 매봉역 인근 도로</td>\n",
       "      <td>이용부주의로 인한 택시와 충돌로 인한 낙차사고</td>\n",
       "      <td>대인</td>\n",
       "    </tr>\n",
       "    <tr>\n",
       "      <th>4</th>\n",
       "      <td>5</td>\n",
       "      <td>2020-04-09</td>\n",
       "      <td>4</td>\n",
       "      <td>9</td>\n",
       "      <td>목</td>\n",
       "      <td>서울 강남구 압구정 신구초등학교 인근 도로</td>\n",
       "      <td>운행 중 아스팔트 파인 곳에 걸려 넘어짐</td>\n",
       "      <td>대인</td>\n",
       "    </tr>\n",
       "  </tbody>\n",
       "</table>\n",
       "</div>"
      ],
      "text/plain": [
       "   NO        사고일자  사고일자_월  사고일자_일 사고일자_요일                     사고장소  \\\n",
       "0   1  2020-04-01       4       1       수              서울시 서초구 대치동   \n",
       "1   2  2020-04-06       4       6       월             서울시 강남구 봉은사로   \n",
       "2   3  2020-04-07       4       7       화              서울시 동작구 상도동   \n",
       "3   4  2020-04-09       4       9       목             서울 매봉역 인근 도로   \n",
       "4   5  2020-04-09       4       9       목  서울 강남구 압구정 신구초등학교 인근 도로   \n",
       "\n",
       "                           사고내용  손해대상  \n",
       "0               이면도로에서 오토바이와 충돌    대인  \n",
       "1  브레이크 결함으로 인한 낙차사고(대인 및 신발손상)  대인대물  \n",
       "2      퀵보드 급발진, 브레이크 이상 주장 낙차사고  대인대물  \n",
       "3     이용부주의로 인한 택시와 충돌로 인한 낙차사고    대인  \n",
       "4        운행 중 아스팔트 파인 곳에 걸려 넘어짐    대인  "
      ]
     },
     "execution_count": 5,
     "metadata": {},
     "output_type": "execute_result"
    }
   ],
   "source": [
    "PMAC.head()"
   ]
  },
  {
   "cell_type": "code",
   "execution_count": 50,
   "metadata": {},
   "outputs": [],
   "source": [
    "PMAC4 = PMAC.loc[PMAC['사고일자_월'] == 4,]\n",
    "PMAC5 = PMAC.loc[PMAC['사고일자_월'] == 5,]\n",
    "PMAC6 = PMAC.loc[PMAC['사고일자_월'] == 6,]\n",
    "PMAC7 = PMAC.loc[PMAC['사고일자_월'] == 7,]\n",
    "PMAC8 = PMAC.loc[PMAC['사고일자_월'] == 8,]\n",
    "PMAC9 = PMAC.loc[PMAC['사고일자_월'] == 9,]\n",
    "PMAC10 = PMAC.loc[PMAC['사고일자_월'] == 10,]\n",
    "PMAC11 = PMAC.loc[PMAC['사고일자_월'] == 11,]"
   ]
  },
  {
   "cell_type": "code",
   "execution_count": 172,
   "metadata": {},
   "outputs": [
    {
     "name": "stdout",
     "output_type": "stream",
     "text": [
      "[16, 16, 23, 43, 43, 25, 29, 8]\n"
     ]
    }
   ],
   "source": [
    "ac = []\n",
    "for i in range(4,12):\n",
    "    ac.append(len(PMAC.loc[PMAC['사고일자_월']==i,]))\n",
    "    \n",
    "print(ac)"
   ]
  },
  {
   "cell_type": "code",
   "execution_count": 178,
   "metadata": {},
   "outputs": [
    {
     "data": {
      "image/png": "[encoded data removed]",
      "text/plain": [
       "<Figure size 432x288 with 1 Axes>"
      ]
     },
     "metadata": {
      "needs_background": "light"
     },
     "output_type": "display_data"
    }
   ],
   "source": [
    "x = ['4월', '5월', '6월', '7월', '8월', '9월', '10월', '11월']\n",
    "y = ac\n",
    "plt.plot(x,y)\n",
    "plt.title('4월~11월 사고 추세')\n",
    "plt.tight_layout()"
   ]
  },
  {
   "cell_type": "markdown",
   "metadata": {},
   "source": [
    "- 6월부터 사고가 급증하여 8월까지 매달 40건 이상의 사고가 발생하다, 9월부터 사고가 다시 급감한 뒤, 이후엔 상대적으로 사고가 저조해짐."
   ]
  },
  {
   "cell_type": "code",
   "execution_count": null,
   "metadata": {},
   "outputs": [],
   "source": [
    "frec = []\n",
    "for i in range(4,12):\n",
    "    ac.append(len(PMAC.loc[PMAC['사고일자_월']==i,]))\n",
    "    \n",
    "print(ac)"
   ]
  },
  {
   "cell_type": "code",
   "execution_count": 142,
   "metadata": {},
   "outputs": [
    {
     "data": {
      "image/png": "[encoded data removed]",
      "text/plain": [
       "<Figure size 1152x720 with 8 Axes>"
      ]
     },
     "metadata": {
      "needs_background": "light"
     },
     "output_type": "display_data"
    }
   ],
   "source": [
    "order = ['월','화','수','목','금','토','일']\n",
    "fig, (ax) = plt.subplots(2,4)\n",
    "fig.set_size_inches((16, 10)) \n",
    "\n",
    "sns.countplot(x='사고일자_요일', data=PMAC4, order = order, ax=ax[0,0])\n",
    "sns.countplot(x='사고일자_요일', data=PMAC5, order = order, ax=ax[0,1])\n",
    "sns.countplot(x='사고일자_요일', data=PMAC6, order = order, ax=ax[0,2])\n",
    "sns.countplot(x='사고일자_요일', data=PMAC7, order = order, ax=ax[0,3])\n",
    "sns.countplot(x='사고일자_요일', data=PMAC8, order = order, ax=ax[1,0])\n",
    "sns.countplot(x='사고일자_요일', data=PMAC9, order = order, ax=ax[1,1])\n",
    "sns.countplot(x='사고일자_요일', data=PMAC10, order = order, ax=ax[1,2])\n",
    "sns.countplot(x='사고일자_요일', data=PMAC11, order = order, ax=ax[1,3])\n",
    "ax[0,0].set_title('4월')\n",
    "ax[0,1].set_title('5월')\n",
    "ax[0,2].set_title('6월')\n",
    "ax[0,3].set_title('7월')\n",
    "ax[1,0].set_title('8월')\n",
    "ax[1,1].set_title('9월')\n",
    "ax[1,2].set_title('10월')\n",
    "ax[1,3].set_title('11월')\n",
    "fig.tight_layout()"
   ]
  },
  {
   "cell_type": "code",
   "execution_count": 131,
   "metadata": {},
   "outputs": [
    {
     "data": {
      "image/png": "[encoded data removed]",
      "text/plain": [
       "<Figure size 1440x864 with 9 Axes>"
      ]
     },
     "metadata": {
      "needs_background": "light"
     },
     "output_type": "display_data"
    }
   ],
   "source": [
    "order = ['월','화','수','목','금','토','일']\n",
    "fig = plt.figure(figsize = (20,12))\n",
    "gs = fig.add_gridspec(4, 4)\n",
    "ax1 = fig.add_subplot(gs[0, 0])\n",
    "sns.countplot(x='사고일자_요일', data=PMAC4, order = order, ax=ax1)\n",
    "ax1.set_title('4월')\n",
    "ax2 = fig.add_subplot(gs[0, 1])\n",
    "sns.countplot(x='사고일자_요일', data=PMAC4, order = order, ax=ax2)\n",
    "ax2.set_title('5월')\n",
    "ax3 = fig.add_subplot(gs[0, 2])\n",
    "sns.countplot(x='사고일자_요일', data=PMAC4, order = order, ax=ax3)\n",
    "ax3.set_title('6월')\n",
    "ax4 = fig.add_subplot(gs[0, 3])\n",
    "sns.countplot(x='사고일자_요일', data=PMAC4, order = order, ax=ax4)\n",
    "ax4.set_title('7월')\n",
    "ax5 = fig.add_subplot(gs[1, 0])\n",
    "sns.countplot(x='사고일자_요일', data=PMAC4, order = order, ax=ax5)\n",
    "ax5.set_title('8월')\n",
    "ax6 = fig.add_subplot(gs[1, 1])\n",
    "sns.countplot(x='사고일자_요일', data=PMAC4, order = order, ax=ax6)\n",
    "ax6.set_title('9월')\n",
    "ax7 = fig.add_subplot(gs[1, 2])\n",
    "sns.countplot(x='사고일자_요일', data=PMAC4, order = order, ax=ax7)\n",
    "ax7.set_title('10월')\n",
    "ax8 = fig.add_subplot(gs[1, 3])\n",
    "sns.countplot(x='사고일자_요일', data=PMAC4, order = order, ax=ax8)\n",
    "ax8.set_title('11월')\n",
    "\n",
    "ax9 = fig.add_subplot(gs[2:,:])\n",
    "sns.countplot(x='사고일자_요일', data=PMAC, order = order, ax=ax9)\n",
    "ax9.set_title('4월~11월')\n",
    "\n",
    "fig.tight_layout()"
   ]
  },
  {
   "cell_type": "markdown",
   "metadata": {},
   "source": [
    "- 4월에는 화요일\n",
    "- 5월에는 월요일\n",
    "- 6월에는 목요일\n",
    "- 7월에는 화요일과 토요일\n",
    "- 8월에는 화요일\n",
    "- 9월에는 화요일\n",
    "- 10월에는 금요일\n",
    "- 11월에는 월요일과 금요일에 사고가 가장 많다.\n",
    "- 전체적으로 수요일과 주말에 사고가 적으며, 대체로 <b>화요일</b>에 사고가 잦은 것을 볼 수 있다."
   ]
  },
  {
   "cell_type": "markdown",
   "metadata": {},
   "source": [
    "#### 화요일에 비교적 사고가 많다"
   ]
  }
 ],
 "metadata": {
  "kernelspec": {
   "display_name": "Python 3",
   "language": "python",
   "name": "python3"
  },
  "language_info": {
   "codemirror_mode": {
    "name": "ipython",
    "version": 3
   },
   "file_extension": ".py",
   "mimetype": "text/x-python",
   "name": "python",
   "nbconvert_exporter": "python",
   "pygments_lexer": "ipython3",
   "version": "3.8.3"
  }
 },
 "nbformat": 4,
 "nbformat_minor": 4
}
